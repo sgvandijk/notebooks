{
 "cells": [
  {
   "cell_type": "markdown",
   "metadata": {
    "deletable": true,
    "editable": true,
    "slideshow": {
     "slide_type": "slide"
    }
   },
   "source": [
    "# Introduction to Reinforcement Learning\n",
    "### London Self-Driving/Autonomous Car Technology Meetup\n",
    "\n",
    "Sander van Dijk @ Parkopedia\n",
    "\n",
    "27 February 2017"
   ]
  },
  {
   "cell_type": "code",
   "execution_count": 1,
   "metadata": {
    "collapsed": false,
    "deletable": true,
    "editable": true,
    "slideshow": {
     "slide_type": "skip"
    }
   },
   "outputs": [],
   "source": [
    "from __future__ import unicode_literals\n",
    "import matplotlib.pyplot as plt\n",
    "import numpy as np\n",
    "from skimage.io import imread\n",
    "import time\n",
    "from IPython import display\n",
    "\n",
    "%matplotlib inline\n",
    "%config NotebookBackend.figure_format = 'retina'"
   ]
  },
  {
   "cell_type": "markdown",
   "metadata": {
    "deletable": true,
    "editable": true,
    "slideshow": {
     "slide_type": "slide"
    }
   },
   "source": [
    "# Horrible Histories\n",
    "## Reinforcing Rats\n",
    "\n",
    "<table style=\"border: 0px;\"><tr style=\"border: 0px;\">\n",
    "    <td style=\"border: 0px; padding: 40px;\"><img src=\"rl/skinner.jpg\" alt=\"Skinner\" style=\"width: 200px;\"/></td>\n",
    "    <td style=\"border: 0px; padding: 40px\"><img src=\"rl/skinnerbox.jpeg\" alt=\"Skinner Box\" style=\"width: 600px;\"/></td>\n",
    "</tr></table>"
   ]
  },
  {
   "cell_type": "markdown",
   "metadata": {
    "deletable": true,
    "editable": true,
    "slideshow": {
     "slide_type": "notes"
    }
   },
   "source": [
    "In the 40s, B.F. Skinner put animals into his 'Skinner Box': on pressing a lever, a rat would either get food, or an electric shock through its feet. This tested Skinner's 'Operant Conditioning' theory: changing of behavior by the use of reinforcement which is given after the desired response. Rats getting food learned to press the lever often, those getting shocks learned to stay away from it."
   ]
  },
  {
   "cell_type": "markdown",
   "metadata": {
    "deletable": true,
    "editable": true,
    "slideshow": {
     "slide_type": "slide"
    }
   },
   "source": [
    "# Horrible Histories\n",
    "## Rodent Junkies and Self-Pleasuring\n",
    "\n",
    "<table style=\"border: 0px;\"><tr style=\"border: 0px;\">\n",
    "    <td style=\"border: 0px; padding: 40px;\"><img src=\"rl/selfadmin.jpg\" alt=\"Rat self-administering drugs\" style=\"width: 400px\"></td>\n",
    "    <td style=\"border: 0px; padding: 40px\"><img src=\"rl/ratimplant.jpeg\" alt=\"Rat with brain implant\" style=\"width: 400px\"></td>\n",
    "</tr></table>\n"
   ]
  },
  {
   "cell_type": "markdown",
   "metadata": {
    "deletable": true,
    "editable": true,
    "slideshow": {
     "slide_type": "notes"
    }
   },
   "source": [
    "Scientists then turned it up a notch, and did the same experiments that didn't give out food, but where rodents could self administer drug injections such as cocaine or emphatamine, or could even directly give electrical stimulation to their brain's pleasure centres. The drugged rats would choose cocaine over food, prepared to starve themselves. This result is often cited in anti-drug campaigns, though later research showed that if the rodents were given the option to do other activities besides boring lever pressing, they used much less cocaine. The directly self-pleasuring rats however would ignore food, water, and mates in heat and just press the lever 1000s of times per hour."
   ]
  },
  {
   "cell_type": "markdown",
   "metadata": {
    "deletable": true,
    "editable": true,
    "slideshow": {
     "slide_type": "slide"
    }
   },
   "source": [
    "# Learning Problems\n",
    "\n",
    "* **Supervised Learning** - _Learn from labelled examples_<br>\n",
    "    Image classification, parking availability prediction, behaviour cloning, ...\n",
    "\n",
    "\n",
    "* **Unsupervised Learning** - _Find new structure in unlabelled data_<br>\n",
    "    Clustering, anomaly detection, self-organising maps, ...\n",
    "\n",
    "\n",
    "* **Reinforcement Learning** - _Learn from sparse, delayed reward_<br>\n",
    "    Lever pressing, football, video games, ..."
   ]
  },
  {
   "cell_type": "markdown",
   "metadata": {
    "deletable": true,
    "editable": true,
    "slideshow": {
     "slide_type": "slide"
    }
   },
   "source": [
    "<center><img src=\"rl/rlloop.png\" alt=\"Sensorimotor Loop\"></center>"
   ]
  },
  {
   "cell_type": "markdown",
   "metadata": {
    "deletable": true,
    "editable": true,
    "slideshow": {
     "slide_type": "notes"
    }
   },
   "source": [
    "Reinforcement problems are modeled by a sense-action loop: the agent (animal/robot) is positioned in some environment. The agent observes the state of the environment with its senses. It processes these observations and in return performs a certain action, which affects the state of the environment. Additionally, the environment sometimes offers rewards to the agent when a series of chosen actions had a positive outcome (or negative reinforcement on a bad outcome)."
   ]
  },
  {
   "cell_type": "markdown",
   "metadata": {
    "deletable": true,
    "editable": true,
    "slideshow": {
     "slide_type": "slide"
    }
   },
   "source": [
    "# Formally: Markov Decision Process\n",
    "\n",
    "* **State** of environment<br>$s$, $s'$\n",
    "\n",
    "* **Action** chosen by agent<br>$a$, $a'$\n",
    "\n",
    "* **Transition** model: how actions transform state<br>$T_{s, a}^{s'} = Pr(s'|s, a)$\n",
    "\n",
    "* Agent's **policy**: how agent choses actions<br>$\\pi(s, a) = Pr(a|s)$\n",
    "\n",
    "* **Reward** function<br>$r_{s,a}^{s'} = R(s, a, s')$"
   ]
  },
  {
   "cell_type": "markdown",
   "metadata": {
    "deletable": true,
    "editable": true,
    "slideshow": {
     "slide_type": "slide"
    }
   },
   "source": [
    "# Goal: Maximise Expected Reward!\n",
    "\n",
    "How much reward will the agent likely get from now until end of time?\n",
    "\n",
    "Total reward of one episode:\n",
    "\n",
    "<center>$ R^\\infty = r_1 + r_2 + r_3 + \\ldots + r_\\infty $</center>"
   ]
  },
  {
   "cell_type": "markdown",
   "metadata": {
    "slideshow": {
     "slide_type": "notes"
    }
   },
   "source": [
    "Based on a policy and transition model as defined above, you can calculate what the upfront expected total reward is, given that the world is in a specific state. In other words, this is the _value_ that that state has to an agent."
   ]
  },
  {
   "cell_type": "markdown",
   "metadata": {
    "deletable": true,
    "editable": true,
    "slideshow": {
     "slide_type": "fragment"
    }
   },
   "source": [
    "_Value function_ - total expected reward:\n",
    "\n",
    "<center>$ V(s) = E[R^\\infty | s] \\\\ ~ \\\\\n",
    "~ = \\sum_a \\pi(s, a) \\sum_{s'} [ T_{s, a}^{s'} \\cdot r_{s,a}^{s'} + \\sum_{a'} \\ldots \\\\ ~ \\\\\n",
    "~ = \\sum_a \\pi(s, a) \\sum_{s'} [ T_{s, a}^{s'} \\cdot r_{s,a}^{s'} + V(s') ]$</center>"
   ]
  },
  {
   "cell_type": "markdown",
   "metadata": {
    "deletable": true,
    "editable": true,
    "slideshow": {
     "slide_type": "fragment"
    }
   },
   "source": [
    "To find the optimal states to be in, the agent is interested in the optimal value function:\n",
    "\n",
    "<center>$V^*(s) = max_a \\sum_{s'} [ T_{s, a}^{s'} \\cdot r_{s,a}^{s'} + V^*(s') ]$</center>"
   ]
  },
  {
   "cell_type": "markdown",
   "metadata": {
    "slideshow": {
     "slide_type": "notes"
    }
   },
   "source": [
    "This is a recursive function, that is infinitely dependent on itself, how could this be solved?"
   ]
  },
  {
   "cell_type": "markdown",
   "metadata": {
    "deletable": true,
    "editable": true,
    "slideshow": {
     "slide_type": "slide"
    }
   },
   "source": [
    "# Solution: Value Iteration\n",
    "\n",
    "1. Start with random estimate of value function, $V_0(s)$\n",
    "2. Iterate until convergence\n",
    "\n",
    "\n",
    "<center>$V_{k+1}(s) = max_a \\sum_{s'} [ T_{s, a}^{s'} \\cdot r_{s,a}^{s'} + V_k(s') ]$</center>"
   ]
  },
  {
   "cell_type": "markdown",
   "metadata": {
    "slideshow": {
     "slide_type": "notes"
    }
   },
   "source": [
    "Value iteration is guaranteed to converge onto the optimal value function."
   ]
  },
  {
   "cell_type": "markdown",
   "metadata": {
    "deletable": true,
    "editable": true,
    "slideshow": {
     "slide_type": "slide"
    }
   },
   "source": [
    "# Example: Coco's Pizza Hunt"
   ]
  },
  {
   "cell_type": "markdown",
   "metadata": {
    "deletable": true,
    "editable": true,
    "slideshow": {
     "slide_type": "notes"
    }
   },
   "source": [
    "Coco the pug finds him self in a simple maze. He can smell his favourite food somewhere, pizza! He doesn't really know how to get there though, and he is only capable of moving in fixed sized steps parallel to the walls: up, down, left, or right."
   ]
  },
  {
   "cell_type": "code",
   "execution_count": 2,
   "metadata": {
    "collapsed": true,
    "deletable": true,
    "editable": true,
    "slideshow": {
     "slide_type": "skip"
    }
   },
   "outputs": [],
   "source": [
    "def coco_world():\n",
    "    \"\"\"Creates a matrix representing the grid world\"\"\"\n",
    "    world_mat = np.zeros((8, 13))\n",
    "    world_mat[1:-1, 1:-1] = 1\n",
    "    world_mat[1:4, 4] = 0\n",
    "    world_mat[4:8, 8] = 0\n",
    "    return world_mat\n",
    "\n",
    "def draw_world(world_mat, coco_pos=None, goal_pos=None, fig=None):\n",
    "    \"\"\"Draw the grid world with agent and goal if given\n",
    "    \n",
    "    This uses the EmojiOne Color font: https://github.com/eosrei/emojione-color-font,\n",
    "    change the characters below if you don't want to install it.\"\"\"\n",
    "    if fig is None:\n",
    "        fig = plt.figure(figsize=reversed(np.array(world.shape) * 0.66))\n",
    "\n",
    "    plt.clf()\n",
    "    plt.imshow(world_mat, cmap='bone')\n",
    "    if coco_pos is not None:\n",
    "        plt.text(*reversed(coco_pos), '🐶', fontname='EmojiOne Color', fontsize=40,\n",
    "                 horizontalalignment='center', verticalalignment='center', color='brown')\n",
    "    if goal_pos is not None:\n",
    "        plt.text(*reversed(goal_pos), '🍕', fontname='EmojiOne Color', fontsize=40,\n",
    "                horizontalalignment='center', verticalalignment='center', color='red')\n",
    "    plt.axis('off')\n",
    "    display.display(plt.gcf())\n",
    "    display.clear_output(wait=True)"
   ]
  },
  {
   "cell_type": "code",
   "execution_count": 3,
   "metadata": {
    "collapsed": false,
    "deletable": true,
    "editable": true
   },
   "outputs": [
    {
     "data": {
      "image/png": "[encoded data removed]",
      "text/plain": [
       "<matplotlib.figure.Figure at 0x1094cbc50>"
      ]
     },
     "metadata": {},
     "output_type": "display_data"
    }
   ],
   "source": [
    "world = coco_world()\n",
    "draw_world(world, coco_pos=(2, 2), goal_pos=(5, 10))"
   ]
  },
  {
   "cell_type": "markdown",
   "metadata": {
    "deletable": true,
    "editable": true,
    "slideshow": {
     "slide_type": "notes"
    }
   },
   "source": [
    "Initially he has no idea how to navigate in this world, so all he can do is just walk around randomly."
   ]
  },
  {
   "cell_type": "code",
   "execution_count": 4,
   "metadata": {
    "collapsed": true,
    "deletable": true,
    "editable": true,
    "slideshow": {
     "slide_type": "skip"
    }
   },
   "outputs": [],
   "source": [
    "def action_target_coord(state_coord, action):\n",
    "    \"\"\"Function that determines which state an action would lead too if unobstructed\"\"\"\n",
    "    if action == 0:\n",
    "        return [state_coord[0] + 1, state_coord[1]]\n",
    "    elif action == 1:\n",
    "        return [state_coord[0], state_coord[1] + 1]\n",
    "    elif action == 2:\n",
    "        return [state_coord[0] - 1, state_coord[1]]\n",
    "    elif action == 3:\n",
    "        return [state_coord[0], state_coord[1] - 1]\n",
    "\n",
    "def state_index(state_coords, state_coord):\n",
    "    \"\"\"Map an x,y coordinate to an index\"\"\"\n",
    "    return np.where((state_coords == state_coord).all(axis=1))[0][0]\n"
   ]
  },
  {
   "cell_type": "code",
   "execution_count": 5,
   "metadata": {
    "collapsed": false,
    "deletable": true,
    "editable": true,
    "slideshow": {
     "slide_type": "skip"
    }
   },
   "outputs": [],
   "source": [
    "def random_policy():\n",
    "    \"\"\"Policy that picks each action with equal probability\"\"\"\n",
    "    return lambda s: [0.25, 0.25, 0.25, 0.25]\n",
    "\n",
    "def step_policy(world_mat, coco_pos, policy):\n",
    "    \"\"\"Choose a single action according to the given policy and update the world state accordingly\"\"\"\n",
    "    states = world_mat != 0\n",
    "    state_coords = np.argwhere(states)\n",
    "    state = state_index(state_coords, coco_pos)\n",
    "    action = np.random.choice(4, p=policy(state))\n",
    "    target_coord = action_target_coord(coco_pos, action)\n",
    "    if world_mat[tuple(target_coord)] == 0:\n",
    "        target_coord = coco_pos\n",
    "    return target_coord\n",
    "\n",
    "def run_policy(world, coco_pos, goal_pos, policy, n_steps):\n",
    "    \"\"\"Run policy for a number of steps, drawing the world state at each iteration\"\"\"\n",
    "    fig = plt.figure(figsize=reversed(world.shape))\n",
    "    draw_world(world, coco_pos, goal_pos, fig)\n",
    "\n",
    "    for i in range(0, n_steps):\n",
    "        coco_pos = step_policy(world, coco_pos, policy)\n",
    "        draw_world(world, coco_pos, goal_pos, fig)"
   ]
  },
  {
   "cell_type": "code",
   "execution_count": 6,
   "metadata": {
    "collapsed": false,
    "deletable": true,
    "editable": true,
    "slideshow": {
     "slide_type": "skip"
    }
   },
   "outputs": [
    {
     "data": {
      "image/png": "[encoded data removed]",
      "text/plain": [
       "<matplotlib.figure.Figure at 0x1094cbcc0>"
      ]
     },
     "metadata": {},
     "output_type": "display_data"
    }
   ],
   "source": [
    "policy = random_policy()\n",
    "coco_pos = (2, 2)\n",
    "goal_pos = (5, 10)\n",
    "run_policy(world, coco_pos, goal_pos, policy, 30)"
   ]
  },
  {
   "cell_type": "markdown",
   "metadata": {
    "deletable": true,
    "editable": true,
    "slideshow": {
     "slide_type": "slide"
    }
   },
   "source": [
    "# Example: Value Iteration"
   ]
  },
  {
   "cell_type": "markdown",
   "metadata": {
    "slideshow": {
     "slide_type": "notes"
    }
   },
   "source": [
    "Now we can perform value iteration to have Coco informed about the actual value of being in each state, i.e. how likely it is that he would make it to the pizza for each state."
   ]
  },
  {
   "cell_type": "code",
   "execution_count": 7,
   "metadata": {
    "collapsed": false,
    "deletable": true,
    "editable": true,
    "slideshow": {
     "slide_type": "skip"
    }
   },
   "outputs": [],
   "source": [
    "def create_transition_model(world_mat, noise=0):\n",
    "    \"\"\"Build a 3D array that represents the world's transition model\n",
    "    \n",
    "    Indexing the model at [s, a, s'] gives the probability that performing action `a` in state `s`\n",
    "    results in the new state `s'`. The noise level controls the accuracy of actions: e.g. with a level of 0.1,\n",
    "    when Coco tries to move right, he has a probility of 0.1 to actually move up, 0.1 to move down, 0.1 to move left,\n",
    "    and 0.7 of actually moving to the right.\n",
    "    \"\"\"\n",
    "    states = world_mat != 0\n",
    "    state_coords = np.argwhere(states)\n",
    "    n_states = len(state_coords)\n",
    "    model = np.zeros((n_states, 4, n_states))\n",
    "    for state in range(0, n_states):\n",
    "        state_coord = state_coords[state]\n",
    "        for action in range(0, 4):\n",
    "            for actual_action in range(0, 4):\n",
    "                target_coord = action_target_coord(state_coord, actual_action)\n",
    "                if world_mat[tuple(target_coord)] == 0:\n",
    "                    target_coord = state_coord\n",
    "                next_state = state_index(state_coords, target_coord)\n",
    "                model[state, action, next_state] = 1 - 3 * noise if action == actual_action else noise\n",
    "    return model\n",
    "\n",
    "def create_reward_function(world_mat, goal_pos, trap_pos=None):\n",
    "    \"\"\"Build an array that represents the world's reward function\n",
    "    \n",
    "    In this example the reward is only based on the state the agent gets into, so the function is a 1D vector.\n",
    "    \"\"\"\n",
    "    states = world_mat != 0\n",
    "    state_coords = np.argwhere(states)\n",
    "    n_states = len(state_coords)\n",
    "    \n",
    "    reward_function = np.zeros(n_states)\n",
    "    reward_function[state_index(state_coords, goal_pos)] = 1\n",
    "    if trap_pos is not None:\n",
    "        reward_function[state_index(state_coords, trap_pos)] = -1\n",
    "\n",
    "    return reward_function\n",
    "\n",
    "def create_random_value_function(world_mat):\n",
    "    states = world_mat != 0\n",
    "    state_coords = np.argwhere(states)\n",
    "    n_states = len(state_coords)\n",
    "\n",
    "    return np.random.rand(n_states)"
   ]
  },
  {
   "cell_type": "code",
   "execution_count": 8,
   "metadata": {
    "collapsed": false,
    "deletable": true,
    "editable": true,
    "slideshow": {
     "slide_type": "skip"
    }
   },
   "outputs": [],
   "source": [
    "def draw_value_function(world_mat, value_function, fig=None):\n",
    "    if fig is None:\n",
    "        fig = plt.figure(figsize=reversed(np.array(world.shape) * 0.66))\n",
    "\n",
    "    plt.clf()\n",
    "    value_function_mat = world_mat.copy()\n",
    "    states = world_mat != 0\n",
    "    state_coords = np.argwhere(states)\n",
    "\n",
    "    for state_coord, value in zip(state_coords, value_function):\n",
    "        value_function_mat[tuple(state_coord)] = value\n",
    "    plt.imshow(value_function_mat, cmap='hot')\n",
    "    plt.axis('off')\n",
    "    display.display(plt.gcf())\n",
    "    display.clear_output(wait=True)"
   ]
  },
  {
   "cell_type": "code",
   "execution_count": 9,
   "metadata": {
    "collapsed": false,
    "deletable": true,
    "editable": true,
    "slideshow": {
     "slide_type": "skip"
    }
   },
   "outputs": [],
   "source": [
    "def value_iteration(value_function, reward_function, transition_model, gamma=0.9):\n",
    "    \"\"\"Performs a single iteration of the value iteration algorithm to update the value function towards the optimal\n",
    "    \n",
    "    `gamma` is a discount factor used here so that the infinite sum of reward does not explode\n",
    "    \"\"\"\n",
    "    next_state_values = reward_function + gamma * value_function\n",
    "    new_value_function = np.zeros_like(value_function)\n",
    "    for state in range(0, len(value_function)):\n",
    "        max_value = -1e6\n",
    "        for action in range(0, 4):\n",
    "            transition_probs = transition_model[state, action, :]\n",
    "            expected_value = (transition_probs * next_state_values).sum()\n",
    "            if expected_value > max_value:\n",
    "                max_value = expected_value\n",
    "        new_value_function[state] = max_value\n",
    "        \n",
    "    return new_value_function"
   ]
  },
  {
   "cell_type": "code",
   "execution_count": 10,
   "metadata": {
    "collapsed": false,
    "deletable": true,
    "editable": true,
    "slideshow": {
     "slide_type": "-"
    }
   },
   "outputs": [
    {
     "data": {
      "image/png": "[encoded data removed]",
      "text/plain": [
       "<matplotlib.figure.Figure at 0x109e95a58>"
      ]
     },
     "metadata": {},
     "output_type": "display_data"
    }
   ],
   "source": [
    "transition_model = create_transition_model(world)\n",
    "reward_function = create_reward_function(world, goal_pos=(5, 10))\n",
    "value_function = create_random_value_function(world)\n",
    "draw_value_function(world, value_function)"
   ]
  },
  {
   "cell_type": "code",
   "execution_count": 11,
   "metadata": {
    "collapsed": false,
    "deletable": true,
    "editable": true,
    "scrolled": false,
    "slideshow": {
     "slide_type": "skip"
    }
   },
   "outputs": [
    {
     "data": {
      "image/png": "[encoded data removed]",
      "text/plain": [
       "<matplotlib.figure.Figure at 0x10c54c278>"
      ]
     },
     "metadata": {},
     "output_type": "display_data"
    }
   ],
   "source": [
    "fig = plt.figure(figsize=reversed(world.shape))\n",
    "for i in range(0, 25):\n",
    "    value_function = value_iteration(value_function, reward_function, transition_model)\n",
    "    draw_value_function(world, value_function, fig)\n",
    "    time.sleep(0.25)"
   ]
  },
  {
   "cell_type": "markdown",
   "metadata": {
    "deletable": true,
    "editable": true,
    "slideshow": {
     "slide_type": "slide"
    }
   },
   "source": [
    "# Optimal Policy\n",
    "\n",
    "Once optimal value function is found, finding optimal policy is trivial:\n",
    "\n",
    "<center>$ \\pi^*(s, a) = 1 : a = \\underset{a}{\\operatorname{argmax}} \\sum_{s'} [ T_{s, a}^{s'} \\cdot r_{s,a}^{s'} + V^*(s') ] $</center>\n",
    "\n",
    "_Pick action leading to maximum value_"
   ]
  },
  {
   "cell_type": "code",
   "execution_count": 12,
   "metadata": {
    "collapsed": false,
    "deletable": true,
    "editable": true,
    "slideshow": {
     "slide_type": "skip"
    }
   },
   "outputs": [],
   "source": [
    "def determine_optimal_policy(world_mat, reward_function, value_function, gamma=0.9):\n",
    "    \"\"\"Creates a policy that picks actions that lead to states with the highest expected reward\"\"\"\n",
    "    next_state_values = reward_function + gamma * value_function\n",
    "    policy_mat = np.zeros((len(reward_function), 4))\n",
    "    for state in range(0, len(policy_mat)):\n",
    "        max_value = -1e6\n",
    "        best_action = -1\n",
    "        for action in range(0, 4):\n",
    "            transition_probs = transition_model[state, action, :]\n",
    "            expected_value = (transition_probs * next_state_values).sum()\n",
    "            if expected_value > max_value:\n",
    "                max_value = expected_value\n",
    "                best_action = action\n",
    "        policy_mat[state, best_action] = 1\n",
    "    \n",
    "    return lambda s: policy_mat[s]"
   ]
  },
  {
   "cell_type": "code",
   "execution_count": 13,
   "metadata": {
    "collapsed": false,
    "deletable": true,
    "editable": true,
    "slideshow": {
     "slide_type": "skip"
    }
   },
   "outputs": [
    {
     "data": {
      "image/png": "[encoded data removed]",
      "text/plain": [
       "<matplotlib.figure.Figure at 0x109ea7320>"
      ]
     },
     "metadata": {},
     "output_type": "display_data"
    }
   ],
   "source": [
    "policy = determine_optimal_policy(world, reward_function, value_function)\n",
    "coco_pos = [np.random.choice(np.arange(1, 6)), np.random.choice(np.arange(1, 3))]\n",
    "run_policy(world, coco_pos, goal_pos, policy, 20)"
   ]
  },
  {
   "cell_type": "markdown",
   "metadata": {
    "deletable": true,
    "editable": true,
    "slideshow": {
     "slide_type": "skip"
    }
   },
   "source": [
    "# Adding Negative Reinforcement and Noise\n",
    "The reward function can have more complex designs, and with noise negative reward is spread to surrounding states."
   ]
  },
  {
   "cell_type": "code",
   "execution_count": 14,
   "metadata": {
    "collapsed": false,
    "deletable": true,
    "editable": true,
    "slideshow": {
     "slide_type": "skip"
    }
   },
   "outputs": [],
   "source": [
    "transition_model = create_transition_model(world, noise=0.15)\n",
    "reward_function = create_reward_function(world, goal_pos=(5, 10), trap_pos=(2, 6))\n",
    "value_function = create_random_value_function(world)"
   ]
  },
  {
   "cell_type": "code",
   "execution_count": 15,
   "metadata": {
    "collapsed": false,
    "deletable": true,
    "editable": true,
    "slideshow": {
     "slide_type": "skip"
    }
   },
   "outputs": [
    {
     "data": {
      "image/png": "[encoded data removed]",
      "text/plain": [
       "<matplotlib.figure.Figure at 0x105f39240>"
      ]
     },
     "metadata": {},
     "output_type": "display_data"
    }
   ],
   "source": [
    "fig = plt.figure(figsize=reversed(world.shape))\n",
    "for i in range(0, 25):\n",
    "    value_function = value_iteration(value_function, reward_function, transition_model)\n",
    "    draw_value_function(world, value_function, fig)\n",
    "    time.sleep(0.25)"
   ]
  },
  {
   "cell_type": "markdown",
   "metadata": {
    "deletable": true,
    "editable": true,
    "slideshow": {
     "slide_type": "slide"
    }
   },
   "source": [
    "# Solved! Or..?\n",
    "* Infinite sum of reward - 'discount' factor $0 \\le \\gamma \\le 1$ tradiing off long term and short term reward\n",
    "\n",
    "    <center>$ \\sum_a \\pi(s, a) \\sum_{s'} [ T_{s, a}^{s'} \\cdot r_{s,a}^{s'} + \\color{red}{\\gamma} V(s') ]$ </center>\n",
    "    \n",
    "\n",
    "* Reward function design - narrow sighted greed, unwanted effects\n",
    "\n",
    "\n",
    "* **This is not Reinforcement Learning!**"
   ]
  },
  {
   "cell_type": "markdown",
   "metadata": {
    "deletable": true,
    "editable": true,
    "slideshow": {
     "slide_type": "slide"
    }
   },
   "source": [
    "# Real Reinforcement Learning\n",
    "\n",
    "Coco knows too much!\n",
    "\n",
    "* Do you always know the consequences of your actions? $T_{s,a}^{s'}$ unknown!\n",
    "* What are the good outcomes? $R(s, a, s')$ unknown\n",
    "\n",
    "Options:\n",
    "1. Learn models from experience at the same time\n",
    "2. Model free learning"
   ]
  },
  {
   "cell_type": "markdown",
   "metadata": {
    "slideshow": {
     "slide_type": "notes"
    }
   },
   "source": [
    "Reinforcement learning models learn through trial and error: the agent performs an action and gains a single sample of 'experience' $<s, a, s' r>$. Such samples give sparse bits of information about the transition model and reward function, that the agent can use to learn how to maximise his expected reward."
   ]
  },
  {
   "cell_type": "markdown",
   "metadata": {
    "deletable": true,
    "editable": true,
    "slideshow": {
     "slide_type": "slide"
    }
   },
   "source": [
    "# Temporal Difference (TD) Learning: No More Models\n",
    "\n",
    "Idea: a single time step already gives some information about value.\n",
    "\n",
    "1. Start with random value function and some policy\n",
    "2. Observe current state $s$\n",
    "3. Perform action $a$ based on policy\n",
    "4. Observe new state $s$ and immediate reward $r$\n",
    "5. Update value of previous state: $V(s) \\leftarrow V(s) + \\alpha [r + \\gamma V(s') - V(s)]$\n",
    "6. Goto 2"
   ]
  },
  {
   "cell_type": "markdown",
   "metadata": {
    "deletable": true,
    "editable": true,
    "slideshow": {
     "slide_type": "fragment"
    }
   },
   "source": [
    "Problem: learns value of current policy, not optimal policy; '_On-Policy_'"
   ]
  },
  {
   "cell_type": "markdown",
   "metadata": {
    "deletable": true,
    "editable": true,
    "slideshow": {
     "slide_type": "slide"
    }
   },
   "source": [
    "# Q-Learning: Off-Policy Learning\n",
    "\n",
    "Idea: assign value to state-action pair: $Q(s, a)$\n",
    "\n",
    "1. Start with random Q-value function\n",
    "2. Observe current state $s$\n",
    "3. Perform action $a$ based on policy _derived from Q_\n",
    "4. Observe new state $s$ and immediate reward $r$\n",
    "5. Update value of previous state-action: $Q(s, a) \\leftarrow Q(s, a) + \\alpha [r + \\gamma \\max_a' Q(s', a') - Q(s, a)]$\n",
    "6. Goto 2\n",
    "\n",
    "Can learn optimal value + policy, even when just acting randomly!"
   ]
  },
  {
   "cell_type": "markdown",
   "metadata": {
    "deletable": true,
    "editable": true,
    "slideshow": {
     "slide_type": "slide"
    }
   },
   "source": [
    "# State of the Art RL! ... in 1989\n",
    "\n",
    "Can't really deal with:\n",
    "* Huge spaces (camera feed, Atari screen, Go board, ...)\n",
    "* Continuous spaces (steering angles, joint motor angles, ...)\n",
    "\n",
    "Needed: _Function approximation_:\n",
    "* Learn parameters $\\theta$ of some function $f_\\theta(s, a)$ to approximate $Q(s,a)$\n",
    "* Linear regression, (deep) neural network, ..."
   ]
  },
  {
   "cell_type": "markdown",
   "metadata": {
    "deletable": true,
    "editable": true,
    "slideshow": {
     "slide_type": "notes"
    }
   },
   "source": [
    "Everything so far assumed all values can be kept in nice tables. Very high dimensional spaces will make those blow up, and it will not be likely that all states will be visited. Continuous actions make it even impossible to use tables, and at least some sort of function approximation is needed."
   ]
  },
  {
   "cell_type": "markdown",
   "metadata": {
    "deletable": true,
    "editable": true,
    "slideshow": {
     "slide_type": "slide"
    }
   },
   "source": [
    "# Continuous actions\n",
    "So, function approximation! But...\n",
    "\n",
    "* Not guaranteed to converge (but let's forget about that for now...)\n",
    "* Find best action? Search action space? Evaluate $Q(s,a)$ many times..\n",
    "\n",
    "Split learner into two parts:\n",
    "1. Critic - learns value function\n",
    "2. Actor - learns best actions"
   ]
  },
  {
   "cell_type": "markdown",
   "metadata": {
    "deletable": true,
    "editable": true,
    "slideshow": {
     "slide_type": "slide"
    }
   },
   "source": [
    "# Actor-Critic Methods\n",
    "\n",
    "<center><img src=\"rl/actorcritic.png\" alt=\"Actor-Critic Model\"></center>"
   ]
  },
  {
   "cell_type": "markdown",
   "metadata": {
    "deletable": true,
    "editable": true,
    "slideshow": {
     "slide_type": "notes"
    }
   },
   "source": [
    "The critic learns a value function like before. The actor however learns the policy separately from this value function, based on the TD (value prediction) error: if an action turned out to be more valuable than initially thought, its probability should be increased. Having a separate actor prevents having to evaluate the value function continously, and you can ship the actor separate from the value function."
   ]
  },
  {
   "cell_type": "markdown",
   "metadata": {
    "deletable": true,
    "editable": true,
    "slideshow": {
     "slide_type": "slide"
    }
   },
   "source": [
    "# Deep Q Learning\n",
    "\n",
    "\n",
    "<center><img src=\"rl/atarigames.png\" alt=\"Atari Games\" width=\"600\"></center>\n",
    "\n",
    "\n",
    "* DeepMind - [Nature, February 2015](http://www.nature.com/nature/journal/v518/n7540/full/nature14236.html)\n",
    "* Learned to play Atari games purely from pixel input\n",
    "* Use CNN to learn Q-value\n",
    "* Limited amount of discreet actions\n"
   ]
  },
  {
   "cell_type": "markdown",
   "metadata": {
    "deletable": true,
    "editable": true,
    "slideshow": {
     "slide_type": "slide"
    }
   },
   "source": [
    "# Catastrophic Forgetting\n",
    "\n",
    "Learning in one area can undo learning in another. Stability trick: _experience replay_\n",
    "\n",
    "<img src=\"rl/experiencememory.png\" width=\"400\">"
   ]
  },
  {
   "cell_type": "markdown",
   "metadata": {
    "deletable": true,
    "editable": true,
    "slideshow": {
     "slide_type": "notes"
    }
   },
   "source": [
    "When an agent is activally learning, it will gather many samples in the same area of state space. Learning from these samples will make the value function and policy more adapt to this area, but doing so changes parameters of the functions that affect all areas. This could undo previously learned behaviour. Using experience replay, the agent stores all his experiences, and trains on random samples from this memory, rather than on the latest experience. This ensures more variance, and alleviates catastrophic forgetting and behaviour divergence."
   ]
  },
  {
   "cell_type": "markdown",
   "metadata": {
    "deletable": true,
    "editable": true,
    "slideshow": {
     "slide_type": "slide"
    }
   },
   "source": [
    "# Learning to Drive?\n",
    "\n",
    "DeepMind - [ICLR 2016](https://arxiv.org/abs/1509.02971), Deep Actor-Critic Method\n",
    "\n",
    "<img src=\"rl/driving.png\" width=\"400\">\n"
   ]
  },
  {
   "cell_type": "markdown",
   "metadata": {
    "deletable": true,
    "editable": true,
    "slideshow": {
     "slide_type": "notes"
    }
   },
   "source": [
    "This method uses a deep network both for value function and policy. This allows it to learn problems with continuous actions, such as pole balancing, bipedal walking, and: driving around a simulated race course."
   ]
  },
  {
   "cell_type": "markdown",
   "metadata": {
    "deletable": true,
    "editable": true,
    "slideshow": {
     "slide_type": "slide"
    }
   },
   "source": [
    "# Simulation is Cool, but...\n",
    "\n",
    "Results difficult to transfer to real world:\n",
    "* Use racing game policy in the City?\n",
    "* Simulation never perfect: overfitting\n",
    "* 'Crash into wall' reinforcement not useful in real car\n",
    "* Tesla, Uber, Nvidia, Google are on it!"
   ]
  },
  {
   "cell_type": "markdown",
   "metadata": {
    "deletable": true,
    "editable": true,
    "slideshow": {
     "slide_type": "fragment"
    }
   },
   "source": [
    "<img src=\"rl/crashed-model-s.jpg\" width=\"400\">"
   ]
  },
  {
   "cell_type": "markdown",
   "metadata": {
    "deletable": true,
    "editable": true,
    "slideshow": {
     "slide_type": "notes"
    }
   },
   "source": [
    "Overfitting can happen both on the similation artifacts, and the chosen reward function. Currently the main approach is to learn from example human behaviour: cloning a human policy, which boils down to supervised learning."
   ]
  },
  {
   "cell_type": "markdown",
   "metadata": {
    "deletable": true,
    "editable": true,
    "slideshow": {
     "slide_type": "slide"
    }
   },
   "source": [
    "# Making it more Human: Hierarchy\n",
    "\n",
    "<table style=\"border: 0px;\"><tr style=\"border: 0px;\">\n",
    "    <td style=\"border: 0px; padding: 40px;\"><img src=\"rl/hierarchy.png\" alt=\"Hierarchy\" style=\"width: 500px;\"/></td>\n",
    "    <td style=\"border: 0px; padding: 40px\"><img src=\"rl/fmri.jpg\" alt=\"fMRI scan\" style=\"width: 300px;\"/></td>\n",
    "</tr></table>"
   ]
  },
  {
   "cell_type": "markdown",
   "metadata": {
    "deletable": true,
    "editable": true,
    "slideshow": {
     "slide_type": "notes"
    }
   },
   "source": [
    "Humans don't just think in basic actions like 'move joint to angle', we plan at different layers of abstraction. At each level we run policies that get finer moving down the hierarchy. In the field of RL there has been much work on 'Hierarchical Reinforcement Learning', most notibly using the 'Options' framework. In the last decade, Botvinick and Barto have mapped this theory to actual structures in the human brain."
   ]
  },
  {
   "cell_type": "markdown",
   "metadata": {
    "deletable": true,
    "editable": true,
    "slideshow": {
     "slide_type": "slide"
    }
   },
   "source": [
    "# Making it more Human: Back to Models\n",
    "\n",
    "<img src=\"rl/modelbased.png\">\n",
    "\n",
    "[Cambridge + Google Brain + DeepMind, 2016](https://arxiv.org/pdf/1603.00748.pdf)"
   ]
  },
  {
   "cell_type": "markdown",
   "metadata": {
    "deletable": true,
    "editable": true,
    "slideshow": {
     "slide_type": "slide"
    }
   },
   "source": [
    "# Resources\n",
    "\n",
    "* ['The Book'](https://webdocs.cs.ualberta.ca/~sutton/book/the-book.html) - Reinforcement Learning, Sutton & Barto\n",
    "* [Demystifying Deep Reinforcement Learning](https://www.nervanasys.com/demystifying-deep-reinforcement-learning/)\n",
    "* [Berkeley Deep RL Course](http://rll.berkeley.edu/deeprlcourse/)\n",
    "* [Reinforcement Learning: Top 10 Breakthrough Technologies](https://www.technologyreview.com/s/603501/10-breakthrough-technologies-2017-reinforcement-learning/) - As judged by MIT Technology Review"
   ]
  },
  {
   "cell_type": "markdown",
   "metadata": {
    "deletable": true,
    "editable": true,
    "slideshow": {
     "slide_type": "slide"
    }
   },
   "source": [
    "# Deep Q-Network\n",
    "\n",
    "<img src=\"rl/deepqnetwork.png\" width=\"600\">"
   ]
  },
  {
   "cell_type": "markdown",
   "metadata": {
    "slideshow": {
     "slide_type": "notes"
    }
   },
   "source": [
    "The network used to approximae the Q-function is a CNN with two convolution layers and two fully connected layers, so not very deep.\n",
    "\n",
    "Also, there are no pooling layers. Pooling are useful to increase spatial invariance: if you want to recognise a cat it should not matter where in the image the cat is. In video games on the other hand the accurate location of objects on the screen is very important.\n",
    "\n",
    "Rather than using the state-action pair as input and calculating a single Q value as output, the network is trained to output the value of all actions given a state directly, so that only one feedforward pass is needed to find the best action."
   ]
  },
  {
   "cell_type": "markdown",
   "metadata": {
    "deletable": true,
    "editable": true,
    "slideshow": {
     "slide_type": "slide"
    }
   },
   "source": [
    "# Stability Trick 2: Fixed Target Q-Network\n",
    "\n",
    "* Fix old network with parameters $\\theta^-$ and calculate target with those:\n",
    "\n",
    "    $ r + \\max_{a'} Q_{\\color{red}{\\theta^-}}(s', a') - Q_{\\color{red}{\\theta}}(s, a)$\n",
    "\n",
    "\n",
    "* Periodically update: $\\theta^- \\leftarrow \\theta$\n",
    "\n",
    "\n",
    "* Breaks correlation network and target, avoids oscillations"
   ]
  },
  {
   "cell_type": "markdown",
   "metadata": {
    "deletable": true,
    "editable": true
   },
   "source": [
    "# Stability Trick 3: Clip Reward/Value\n",
    "\n",
    "* Clip reward to $[-1, +1]$\n",
    "\n",
    "\n",
    "* Avoid huge overestimation of Q-value\n",
    "\n",
    "\n",
    "* Learning gradients well-conditioned\n",
    "\n",
    "\n",
    "* Problem: no difference small/large rewards"
   ]
  },
  {
   "cell_type": "markdown",
   "metadata": {
    "deletable": true,
    "editable": true,
    "slideshow": {
     "slide_type": "slide"
    }
   },
   "source": [
    "# RL Drifting"
   ]
  },
  {
   "cell_type": "code",
   "execution_count": 16,
   "metadata": {
    "collapsed": true,
    "deletable": true,
    "editable": true,
    "slideshow": {
     "slide_type": "skip"
    }
   },
   "outputs": [],
   "source": [
    "from IPython.display import YouTubeVideo"
   ]
  },
  {
   "cell_type": "code",
   "execution_count": 17,
   "metadata": {
    "collapsed": false,
    "deletable": true,
    "editable": true
   },
   "outputs": [
    {
     "data": {
      "image/jpeg": "[encoded data removed]",
      "text/html": [
       "\n",
       "        <iframe\n",
       "            width=\"800\"\n",
       "            height=\"480\"\n",
       "            src=\"https://www.youtube.com/embed/opsmd5yuBF0\"\n",
       "            frameborder=\"0\"\n",
       "            allowfullscreen\n",
       "        ></iframe>\n",
       "        "
      ],
      "text/plain": [
       "<IPython.lib.display.YouTubeVideo at 0x109e9fba8>"
      ]
     },
     "execution_count": 17,
     "metadata": {},
     "output_type": "execute_result"
    }
   ],
   "source": [
    "YouTubeVideo('opsmd5yuBF0', width=800, height=480)"
   ]
  }
 ],
 "metadata": {
  "celltoolbar": "Slideshow",
  "kernelspec": {
   "display_name": "Python 3",
   "language": "python",
   "name": "python3"
  },
  "language_info": {
   "codemirror_mode": {
    "name": "ipython",
    "version": 3
   },
   "file_extension": ".py",
   "mimetype": "text/x-python",
   "name": "python",
   "nbconvert_exporter": "python",
   "pygments_lexer": "ipython3",
   "version": "3.6.0"
  }
 },
 "nbformat": 4,
 "nbformat_minor": 2
}
