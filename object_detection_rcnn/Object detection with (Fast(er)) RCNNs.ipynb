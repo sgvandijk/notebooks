{
 "cells": [
  {
   "cell_type": "markdown",
   "metadata": {
    "slideshow": {
     "slide_type": "slide"
    }
   },
   "source": [
    "# Object detection with (Fast(er)) RCNNs\n",
    "\n",
    "Sander van Dijk @ Parkopedia\n",
    "\n",
    "18-05-2020"
   ]
  },
  {
   "cell_type": "markdown",
   "metadata": {
    "slideshow": {
     "slide_type": "slide"
    }
   },
   "source": [
    "# First off: what is Object Detection\n",
    "\n",
    "* Computer Vision problem involving:\n",
    "    \n",
    "    * Finding bounding boxes of objects in images\n",
    "    * Classifying corresponding objects"
   ]
  },
  {
   "cell_type": "markdown",
   "metadata": {
    "slideshow": {
     "slide_type": "fragment"
    }
   },
   "source": [
    "<center><img src=\"figs/objectdetection.png\" style=\"width: 40%\"></center>"
   ]
  },
  {
   "cell_type": "markdown",
   "metadata": {
    "slideshow": {
     "slide_type": "subslide"
    }
   },
   "source": [
    "# History of Deep Neural Object Detection\n",
    "<center><img src=\"figs/timeline.png\"></center>"
   ]
  },
  {
   "cell_type": "markdown",
   "metadata": {
    "slideshow": {
     "slide_type": "slide"
    }
   },
   "source": [
    "<center><img src=\"figs/rcnn-paper-title.png\"></center>"
   ]
  },
  {
   "cell_type": "markdown",
   "metadata": {
    "slideshow": {
     "slide_type": "subslide"
    }
   },
   "source": [
    "<center><img src=\"figs/rcnn-paper-abstract.png\" style=\"width: 70%\"></center>"
   ]
  },
  {
   "cell_type": "markdown",
   "metadata": {
    "slideshow": {
     "slide_type": "subslide"
    }
   },
   "source": [
    "# State of object detection in 2013\n",
    "\n",
    "* State of the art: ensemble methods based on SIFT and HOG features\n",
    "* Slow progress 2010--2012\n",
    "* AlexNet disrupted image classifaction (ImageNet) in 2012\n",
    "\n",
    "\n",
    "* R-CNN: _\"bridging  the  gap  between image classification and object detection\"_"
   ]
  },
  {
   "cell_type": "markdown",
   "metadata": {
    "slideshow": {
     "slide_type": "subslide"
    }
   },
   "source": [
    "# Not trivial: what is the output?\n",
    "\n",
    "* Classification/segmentation 'easy': fixed input and output size\n",
    "* Object detection: any number of objects of any size, possibly overlapping\n",
    "\n",
    "\n",
    "* Solutions discussed by authors:\n",
    "\n",
    "    * Slide classification network over image. Problem: large receptive field $\\rightarrow$ bad localisation\n",
    "    * 2 step: generate regions of interest (ROIs), then classify"
   ]
  },
  {
   "cell_type": "markdown",
   "metadata": {
    "slideshow": {
     "slide_type": "subslide"
    }
   },
   "source": [
    "# R-CNN - Process\n",
    "\n",
    "<center><img src=\"figs/rcnn-process.png\"></center>"
   ]
  },
  {
   "cell_type": "markdown",
   "metadata": {
    "slideshow": {
     "slide_type": "subslide"
    }
   },
   "source": [
    "# R-CNN - Process Details\n",
    "\n",
    "* Can use any existing category-independent region proposal method. Used: _selective search_\n",
    "* Simple affine warping so regions fit CNN input\n",
    "* CNN: AlexNet pre-trained on ILSVRC2012 classification data, fine-tuned with warped regions\n",
    "* Training classifiers:\n",
    "\n",
    "    * Positive examples: ground truth bounding boxes\n",
    "    * Negative exampels: IoU < 0.3\n",
    "\n",
    "* Test-time detection:\n",
    "\n",
    "    * Classifiers output confidence per class\n",
    "    * Greedy non-maximum suppression based on learned threshold."
   ]
  },
  {
   "cell_type": "markdown",
   "metadata": {
    "slideshow": {
     "slide_type": "subslide"
    }
   },
   "source": [
    "# R-CNN - Extra bits\n",
    "* Linear regression of transformation functions for box refinement\n",
    "\n",
    "\n",
    "$$ \\hat{G}_x = P_w d_x(P) + P_x $$\n",
    "$$ \\hat{G}_y = P_h d_y(P) + P_y $$\n",
    "$$ \\hat{G}_w = P_w \\exp(d_w(P)) $$\n",
    "$$ \\hat{G}_h = P_h \\exp(d_h(P)) $$\n",
    "\n",
    "\n",
    "\n",
    "* Simple translation to semantic segmantion: using existing segmentation proposal methods (min-cut based)"
   ]
  },
  {
   "cell_type": "markdown",
   "metadata": {
    "slideshow": {
     "slide_type": "subslide"
    }
   },
   "source": [
    "# R-CNN: Conclusion\n",
    "\n",
    "* Much better scores!\n",
    "* \"Fast\", \"efficient\", \"13s/image on a GPUor 53s/image on a CPU\"(!!)"
   ]
  },
  {
   "cell_type": "markdown",
   "metadata": {
    "slideshow": {
     "slide_type": "fragment"
    }
   },
   "source": [
    "> <span style=\" font-family: Linux Libertine O\"><span style=\"font-size: 125%\">We conclude by noting that it is significant that we achieved these results by using a **combination** of classical tools from **computer vision _and_ deep learning** (bottom-up region proposals and convolutional neural networks). Rather than opposing lines of scientific inquiry, the two are natural and **inevitable partners**.</span></span>"
   ]
  },
  {
   "cell_type": "markdown",
   "metadata": {
    "slideshow": {
     "slide_type": "slide"
    }
   },
   "source": [
    "<center><img src=\"figs/fast-rcnn-paper-title.png\" style=\"width: 373px\"></center>"
   ]
  },
  {
   "cell_type": "markdown",
   "metadata": {
    "slideshow": {
     "slide_type": "subslide"
    }
   },
   "source": [
    "<center><img src=\"figs/fast-rcnn-paper-abstract.png\" style=\"width: 70%\"></center>"
   ]
  },
  {
   "cell_type": "markdown",
   "metadata": {
    "slideshow": {
     "slide_type": "subslide"
    }
   },
   "source": [
    "# Fast R-CNN - main contributions\n",
    "\n",
    "<br>\n",
    "\n",
    "### 1.  STate of the art detection quality (better than R-CNN)\n",
    "### 2.  Training is single-stage, using a multi-task loss"
   ]
  },
  {
   "cell_type": "markdown",
   "metadata": {
    "slideshow": {
     "slide_type": "subslide"
    }
   },
   "source": [
    "# Fast R-CNN - Process\n",
    "\n",
    "<center><img src=\"figs/fast-rcnn-process.png\"></center>"
   ]
  },
  {
   "cell_type": "markdown",
   "metadata": {
    "slideshow": {
     "slide_type": "subslide"
    }
   },
   "source": [
    "# Fast R-CNN - Process\n",
    "\n",
    "<center><img src=\"figs/fast-rcnn-process.png\" style=\"width: 50%\"></center>\n",
    "\n",
    "Main improvements from R-CNN:\n",
    "* Single feature extraction pass, vs one for each region\n",
    "* SVM replaced by softmax\n",
    "* Box refinement/regression part of NN "
   ]
  },
  {
   "cell_type": "markdown",
   "metadata": {
    "slideshow": {
     "slide_type": "subslide"
    }
   },
   "source": [
    "<img src=\"figs/fast-rcnn-process.png\" style=\"width: 40%; float: right\">\n",
    "\n",
    "# Fast R-CNN - Head details\n",
    "\n",
    "\n",
    "### RoI pooling\n",
    "* To scale random size RoI features to fixed $6 \\times 6$ size\n",
    "* Max-pooling with $6 \\cdot 6$ pools"
   ]
  },
  {
   "cell_type": "markdown",
   "metadata": {
    "slideshow": {
     "slide_type": "fragment"
    }
   },
   "source": [
    "### Bounding box regressor\n",
    "* Outputs normalised, relative translation and scale refinements"
   ]
  },
  {
   "cell_type": "markdown",
   "metadata": {
    "slideshow": {
     "slide_type": "fragment"
    }
   },
   "source": [
    "### Multi-task loss\n",
    "$$\n",
    "L(p,u,t^u,v) = L_{\\text{cls}}(p,u) +\\lambda[u \\geq 1]L_{\\text{loc}}(t^u,v)\n",
    "$$"
   ]
  },
  {
   "cell_type": "markdown",
   "metadata": {
    "slideshow": {
     "slide_type": "subslide"
    }
   },
   "source": [
    "# Fast R-CNN - Conclusion\n",
    "\n",
    "* Versus R-CNN:\n",
    "\n",
    "    * Processing: 146-213 $\\times$ faster (47s to 0.32s per image)\n",
    "    * Training: 9 $\\times$ faster (84 to 9.5 hours)\n",
    "    \n",
    "* Training bbox regression concurrently _improves_ classification head\n",
    "* Softmax now is better/not worse than SVM\n",
    "* Flooding network with regions makes it worse\n",
    "\n",
    "\n",
    "* **Still**: separate object proposal system"
   ]
  },
  {
   "cell_type": "markdown",
   "metadata": {
    "slideshow": {
     "slide_type": "slide"
    }
   },
   "source": [
    "<center><img src=\"figs/faster-rcnn-paper-title.png\"></center>"
   ]
  },
  {
   "cell_type": "markdown",
   "metadata": {
    "slideshow": {
     "slide_type": "subslide"
    }
   },
   "source": [
    "<center><img src=\"figs/faster-rcnn-paper-abstract.png\"></center>"
   ]
  },
  {
   "cell_type": "markdown",
   "metadata": {
    "slideshow": {
     "slide_type": "subslide"
    }
   },
   "source": [
    "# Faster R-CNN - main contributions\n",
    "\n",
    "<br>\n",
    "\n",
    "### 1.  State of the art detection quality (better than Fast R-CNN)\n",
    "### 2.  Detection is single-stage, using feature sharing to get proposals"
   ]
  },
  {
   "cell_type": "markdown",
   "metadata": {
    "slideshow": {
     "slide_type": "subslide"
    }
   },
   "source": [
    "# Faster R-CNN - process\n",
    "\n",
    "<center><img src=\"figs/faster-rcnn-process.png\"></center>"
   ]
  },
  {
   "cell_type": "markdown",
   "metadata": {
    "slideshow": {
     "slide_type": "subslide"
    }
   },
   "source": [
    "# Anchors continued\n",
    "* Receptive field sliding window/256-d features: 228 $\\times$ 228, total stride: 16 pixels\n",
    "* 3 anchor sizes: $128^2$, $256^2$, and $512^2$ pixels\n",
    "* 3 aspect ratios of: 1:1, 1:2, and 2:1\n",
    "\n",
    "\n",
    "* Anchors are \"novel scheme for addressing multiple scales\"\n",
    "\n",
    "    * \"Old\": image/feature pyramids, or multi-scale windows on feature map"
   ]
  },
  {
   "cell_type": "markdown",
   "metadata": {
    "slideshow": {
     "slide_type": "subslide"
    }
   },
   "source": [
    "# Faster R-CNN - training\n",
    "\n",
    "* RPN: multi-task loss - classification (object or not) vs bbox regression\n",
    "* Bounding box regression similar to (Fast) R-CNN, but starting from anchors\n",
    "* Whole system 2 networks (detection (Fast R-CNN) + RPN) sharing initial conv layers, trained alternatingly in 4 steps:\n",
    "\n",
    "    1. Train region proposal network\n",
    "    1. Train separate detector with RPN proposals\n",
    "    1. Reinitialise new RPN with fixed conv layers of detector, tune only RPN specific layers\n",
    "    1. Fix conv layers and RPN, tune detector specific layers"
   ]
  },
  {
   "cell_type": "markdown",
   "metadata": {
    "slideshow": {
     "slide_type": "subslide"
    }
   },
   "source": [
    "# Faster R-CNN - conclusion\n",
    "\n",
    "> <span style=\" font-family: Linux Libertine O\"><span style=\"font-size: 125%\">We  have  presented  RPNs  for  efficient  and  accurate region proposal generation. By sharing convolutional features with the down-stream detection network, the region proposal step is nearly  cost-free. Our method enables **a unified, deep-learning-based object  detection system** to run at near real-time frame rates. The learned  RPN also improves region proposal quality and thus the overall object detection accuracy.</span></span>\n"
   ]
  },
  {
   "cell_type": "code",
   "execution_count": 1,
   "metadata": {
    "scrolled": false,
    "slideshow": {
     "slide_type": "subslide"
    }
   },
   "outputs": [
    {
     "data": {
      "image/jpeg": "[encoded data removed]",
      "text/html": [
       "\n",
       "        <iframe\n",
       "            width=\"1280\"\n",
       "            height=\"720\"\n",
       "            src=\"https://www.youtube.com/embed/hALKoGdEb-8\"\n",
       "            frameborder=\"0\"\n",
       "            allowfullscreen\n",
       "        ></iframe>\n",
       "        "
      ],
      "text/plain": [
       "<IPython.lib.display.YouTubeVideo at 0x7f3474dd1760>"
      ]
     },
     "execution_count": 1,
     "metadata": {},
     "output_type": "execute_result"
    }
   ],
   "source": [
    "from IPython.display import YouTubeVideo\n",
    "YouTubeVideo('hALKoGdEb-8', width=1280, height=720)"
   ]
  }
 ],
 "metadata": {
  "celltoolbar": "Slideshow",
  "kernelspec": {
   "display_name": "Python 3",
   "language": "python",
   "name": "python3"
  },
  "language_info": {
   "codemirror_mode": {
    "name": "ipython",
    "version": 3
   },
   "file_extension": ".py",
   "mimetype": "text/x-python",
   "name": "python",
   "nbconvert_exporter": "python",
   "pygments_lexer": "ipython3",
   "version": "3.8.2"
  }
 },
 "nbformat": 4,
 "nbformat_minor": 4
}
