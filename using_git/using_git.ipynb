{
 "cells": [
  {
   "cell_type": "markdown",
   "metadata": {
    "slideshow": {
     "slide_type": "slide"
    }
   },
   "source": [
    "# Using Git\n",
    "### Or: how to stop worrying and love the rebase"
   ]
  },
  {
   "cell_type": "markdown",
   "metadata": {
    "collapsed": false,
    "slideshow": {
     "slide_type": "slide"
    }
   },
   "source": [
    "<img src=\"figs/xkcdgit.png\">"
   ]
  },
  {
   "cell_type": "markdown",
   "metadata": {
    "slideshow": {
     "slide_type": "notes"
    }
   },
   "source": [
    "If that doesn't fix it, git.txt contains the phone number of a friend of mine who understands git. Just wait through a few minutes of 'It's really pretty simple, just think of branches as...' and eventually you'll learn the commands that will fix everything."
   ]
  },
  {
   "cell_type": "markdown",
   "metadata": {
    "slideshow": {
     "slide_type": "slide"
    }
   },
   "source": [
    "# Sander van Dijk\n",
    "\n",
    "<center>\n",
    "<img src=\"figs/uherts.png\" style=\"height: 50px; margin: 50px;\">\n",
    "\n",
    "<img src=\"figs/bh.png\" style=\"height: 75px; margin: 50px;\">\n",
    "\n",
    "\n",
    "<img src=\"figs/parkopedia.png\" style=\"height: 75px; margin: 50px;\">\n",
    "</center>"
   ]
  },
  {
   "cell_type": "markdown",
   "metadata": {
    "slideshow": {
     "slide_type": "notes"
    }
   },
   "source": [
    "* PhD at University of Hertfordshire, Adaptive Systems Research Group, Informational Constraints and Organisation of Behaviour\n",
    "* Team leader of RoboCup team Bold Hearts\n",
    "* Head of research at [Parkopedia](www.parkopedia.com)"
   ]
  },
  {
   "cell_type": "code",
   "execution_count": 2,
   "metadata": {
    "collapsed": false,
    "slideshow": {
     "slide_type": "skip"
    }
   },
   "outputs": [
    {
     "name": "stdout",
     "output_type": "stream",
     "text": [
      "/tmp/using-git ~/Code/BoldHearts/seminars\r\n",
      "Initialized empty Git repository in /private/tmp/using-git/.git/\r\n"
     ]
    }
   ],
   "source": [
    "# Set up initial repository\n",
    "rm -fr /tmp/using-git*\n",
    "mkdir -p /tmp/using-git\n",
    "pushd /tmp/using-git\n",
    "git init ."
   ]
  },
  {
   "cell_type": "code",
   "execution_count": 3,
   "metadata": {
    "collapsed": false,
    "slideshow": {
     "slide_type": "skip"
    }
   },
   "outputs": [
    {
     "name": "stdout",
     "output_type": "stream",
     "text": []
    }
   ],
   "source": [
    "# A helper function to generate GraphViz git logs\n",
    "function gitloggraph {\n",
    "    (cat << EOF\n",
    "digraph git {\n",
    "    graph [bgcolor=\"#00000000\", rankdir=\"RL\"]\n",
    "    node [shape=box, color=\"#723A8C\", fontcolor=\"#FFFFFF\", fontsize=9, fontname=\"Liberation Mono\", style=\"rounded, filled\"]\n",
    "EOF\n",
    "    git log --all --pretty='format: { %h } -> { %p }; \"%d\" [color=\"#C8703C\", style=\"solid\", fontcolor=\"#000000\", height=0.2] { %d } -> { %h } [color=\"#C8703C\"];' \"$@\" \\\n",
    "        | perl -pe 's/\"\".+?;//g' \\\n",
    "        | perl -pe 's/ ([0-9a-f]+)\\b/ \"$1\"/g' \\\n",
    "        | perl -pe 's/{ ([^};\"]+?) }/{ \"$1\" }/g'\n",
    "    echo '}') | dot -Tpng | display\n",
    "}"
   ]
  },
  {
   "cell_type": "markdown",
   "metadata": {
    "slideshow": {
     "slide_type": "slide"
    }
   },
   "source": [
    "## What is Git?\n",
    "Git is a **Distributed Version Control System (VCS)**\n",
    "\n",
    "- **Version Control**: Keep track of changes and version\n",
    "    - I want to go back to the non-broken version!\n",
    "    - Who made which changes?\n",
    "- **Distributed**: No central truth\n",
    "    - Everybody has complete history\n",
    "    - Personal VC possible: keep track of private changes without sharing with the world\n",
    "- **Team Work**: Tool for combining individual work"
   ]
  },
  {
   "cell_type": "markdown",
   "metadata": {
    "slideshow": {
     "slide_type": "slide"
    }
   },
   "source": [
    "# The Commit"
   ]
  },
  {
   "cell_type": "markdown",
   "metadata": {
    "slideshow": {
     "slide_type": "subslide"
    }
   },
   "source": [
    "## Making History\n",
    "A Git commit consists of:\n",
    "- A recording of a snapshot of your files\n",
    "- *Not* just your changes you made, though Git will make you believe it is\n",
    "- Metadata\n",
    "    - Commit message\n",
    "    - Committer\n",
    "    - Commit date\n",
    "    - Author\n",
    "    - Authoring date\n",
    "- Hash of working directory\n",
    "- Hashes of parent commits\n",
    "- Hash of all the above"
   ]
  },
  {
   "cell_type": "markdown",
   "metadata": {
    "slideshow": {
     "slide_type": "subslide"
    }
   },
   "source": [
    "## Hashing hashed hashes...\n",
    "Files, dir tree, commits  -- SHA1 -->  32 byte *signatures*."
   ]
  },
  {
   "cell_type": "code",
   "execution_count": 4,
   "metadata": {
    "collapsed": false
   },
   "outputs": [
    {
     "name": "stdout",
     "output_type": "stream",
     "text": [
      "7ff36f725aefcb0053476100885041eae669f38e\r\n"
     ]
    }
   ],
   "source": [
    "echo \"Bold Hearts\" | git hash-object -w --stdin"
   ]
  },
  {
   "cell_type": "markdown",
   "metadata": {
    "slideshow": {
     "slide_type": "fragment"
    }
   },
   "source": [
    "### To Remember: *Any difference in commit gives different hash*"
   ]
  },
  {
   "cell_type": "markdown",
   "metadata": {
    "slideshow": {
     "slide_type": "subslide"
    }
   },
   "source": [
    "## Commit Steps (theory)\n",
    "Creating a commit in Git follows these steps:\n",
    "1. Make changes in working directory\n",
    "2. Tell Git which changes to record (*staging*)\n",
    "3. Tell Git to make commit\n",
    "4. Write commit message"
   ]
  },
  {
   "cell_type": "markdown",
   "metadata": {
    "slideshow": {
     "slide_type": "subslide"
    }
   },
   "source": [
    "## Commit Steps (practice)"
   ]
  },
  {
   "cell_type": "code",
   "execution_count": 5,
   "metadata": {
    "collapsed": false
   },
   "outputs": [
    {
     "name": "stdout",
     "output_type": "stream",
     "text": [
      "On branch master\r\n",
      "\r\n",
      "Initial commit\r\n",
      "\r\n",
      "Untracked files:\r\n",
      "  (use \"git add <file>...\" to include in what will be committed)\r\n",
      "\r\n",
      "\t\u001b[31mfoo.txt\u001b[m\r\n",
      "\r\n",
      "nothing added to commit but untracked files present (use \"git add\" to track)\r\n"
     ]
    }
   ],
   "source": [
    "# 1. Make changes\n",
    "echo \"Bold Hearts\" > foo.txt\n",
    "git status"
   ]
  },
  {
   "cell_type": "markdown",
   "metadata": {
    "collapsed": true,
    "slideshow": {
     "slide_type": "subslide"
    }
   },
   "source": [
    "## Commit Steps (practice)"
   ]
  },
  {
   "cell_type": "code",
   "execution_count": 6,
   "metadata": {
    "collapsed": false
   },
   "outputs": [
    {
     "name": "stdout",
     "output_type": "stream",
     "text": [
      "On branch master\r\n",
      "\r\n",
      "Initial commit\r\n",
      "\r\n",
      "Changes to be committed:\r\n",
      "  (use \"git rm --cached <file>...\" to unstage)\r\n",
      "\r\n",
      "\t\u001b[32mnew file:   foo.txt\u001b[m\r\n",
      "\r\n"
     ]
    }
   ],
   "source": [
    "# 2. Staging\n",
    "git add foo.txt\n",
    "git status"
   ]
  },
  {
   "cell_type": "markdown",
   "metadata": {
    "slideshow": {
     "slide_type": "notes"
    }
   },
   "source": [
    "The `git add` command 'stages' your changes for commit. It creates a snapshot of the files you specify and places these in the 'index'. When creating a commit, it is the content of this index that makes up that commit. So you must make sure to add any changed file that you want to commit. This allows you to commit only some changes at a time and group your changes logically. It is even possible to add only some parts of a file. Run `git help add` to read about all the possible options."
   ]
  },
  {
   "cell_type": "markdown",
   "metadata": {
    "collapsed": true,
    "slideshow": {
     "slide_type": "subslide"
    }
   },
   "source": [
    "## Commit Steps (practice)"
   ]
  },
  {
   "cell_type": "code",
   "execution_count": 7,
   "metadata": {
    "collapsed": false
   },
   "outputs": [
    {
     "name": "stdout",
     "output_type": "stream",
     "text": [
      "[master (root-commit) 4bacdc2] My first commit!\r\n",
      " 1 file changed, 1 insertion(+)\r\n",
      " create mode 100644 foo.txt\r\n"
     ]
    }
   ],
   "source": [
    "# 3. Start commit\n",
    "# 4. Write commit message\n",
    "git commit -m \"My first commit!\""
   ]
  },
  {
   "cell_type": "markdown",
   "metadata": {
    "slideshow": {
     "slide_type": "notes"
    }
   },
   "source": [
    "The `git commit` command makes the actual commit, from the changes you added to the index. Normally it is better to not use the `-m` flag, so you get an editor to write a more detailed message, but this is obviously not possible in a notebook/slides."
   ]
  },
  {
   "cell_type": "code",
   "execution_count": 8,
   "metadata": {
    "collapsed": false,
    "slideshow": {
     "slide_type": "fragment"
    }
   },
   "outputs": [
    {
     "name": "stdout",
     "output_type": "stream",
     "text": [
      "On branch master\r\n",
      "nothing to commit, working tree clean\r\n"
     ]
    }
   ],
   "source": [
    "git status"
   ]
  },
  {
   "cell_type": "markdown",
   "metadata": {
    "slideshow": {
     "slide_type": "subslide"
    }
   },
   "source": [
    "# Onwards"
   ]
  },
  {
   "cell_type": "code",
   "execution_count": 9,
   "metadata": {
    "collapsed": false
   },
   "outputs": [
    {
     "name": "stdout",
     "output_type": "stream",
     "text": [
      "On branch master\r\n",
      "Changes not staged for commit:\r\n",
      "  (use \"git add <file>...\" to update what will be committed)\r\n",
      "  (use \"git checkout -- <file>...\" to discard changes in working directory)\r\n",
      "\r\n",
      "\t\u001b[31mmodified:   foo.txt\u001b[m\r\n",
      "\r\n",
      "no changes added to commit (use \"git add\" and/or \"git commit -a\")\r\n"
     ]
    }
   ],
   "source": [
    "sed -e 's/Bold/Cold/' -i '' foo.txt\n",
    "git status"
   ]
  },
  {
   "cell_type": "code",
   "execution_count": 10,
   "metadata": {
    "collapsed": false,
    "slideshow": {
     "slide_type": "fragment"
    }
   },
   "outputs": [
    {
     "name": "stdout",
     "output_type": "stream",
     "text": [
      "\u001b[1mdiff --git a/foo.txt b/foo.txt\u001b[m\r\n",
      "\u001b[1mindex 7ff36f7..e960dab 100644\u001b[m\r\n",
      "\u001b[1m--- a/foo.txt\u001b[m\r\n",
      "\u001b[1m+++ b/foo.txt\u001b[m\r\n",
      "\u001b[36m@@ -1 +1 @@\u001b[m\r\n",
      "\u001b[31m-Bold Hearts\u001b[m\r\n",
      "\u001b[32m+\u001b[m\u001b[32mCold Hearts\u001b[m\r\n"
     ]
    }
   ],
   "source": [
    "git diff"
   ]
  },
  {
   "cell_type": "markdown",
   "metadata": {
    "slideshow": {
     "slide_type": "notes"
    }
   },
   "source": [
    "The `git diff` command shows the difference between your working directory and the index, i.e. the changes you have added so far. If the index is empty, they are the changes relative to the last commit. You can also get the difference between the index and the last or any other commit, between any two commits, or two local files. See `git help diff` for all the details."
   ]
  },
  {
   "cell_type": "markdown",
   "metadata": {
    "slideshow": {
     "slide_type": "subslide"
    }
   },
   "source": [
    "# Onwards"
   ]
  },
  {
   "cell_type": "code",
   "execution_count": 11,
   "metadata": {
    "collapsed": false
   },
   "outputs": [
    {
     "name": "stdout",
     "output_type": "stream",
     "text": [
      "[master 29e05b1] Cool down\r\n",
      " 1 file changed, 1 insertion(+), 1 deletion(-)\r\n"
     ]
    }
   ],
   "source": [
    "git add foo.txt\n",
    "git commit -m 'Cool down'"
   ]
  },
  {
   "cell_type": "code",
   "execution_count": 12,
   "metadata": {
    "collapsed": false,
    "slideshow": {
     "slide_type": "fragment"
    }
   },
   "outputs": [
    {
     "name": "stdout",
     "output_type": "stream",
     "text": [
      "\u001b[33mcommit 29e05b14fa37df9488cadf4bcc4f4226dd619ad2\u001b[m\r\n",
      "Author: Sander van Dijk <sgvandijk@gmail.com>\r\n",
      "Date:   Thu Aug 25 14:00:35 2016 +0100\r\n",
      "\r\n",
      "    Cool down\r\n",
      "\r\n",
      "\u001b[33mcommit 4bacdc2b7367ef4a931645a96d483477053af854\u001b[m\r\n",
      "Author: Sander van Dijk <sgvandijk@gmail.com>\r\n",
      "Date:   Thu Aug 25 14:00:35 2016 +0100\r\n",
      "\r\n",
      "    My first commit!\r\n"
     ]
    }
   ],
   "source": [
    "git log"
   ]
  },
  {
   "cell_type": "markdown",
   "metadata": {
    "slideshow": {
     "slide_type": "notes"
    }
   },
   "source": [
    "The `git log` command shows all commits leading up to the latest commit, with the newest at the top. Again, there are many options to determine the content and formatting of the output: `git help log`. A nice compact but rich format is `git log --all --decorate --oneline --graph`. "
   ]
  },
  {
   "cell_type": "markdown",
   "metadata": {
    "slideshow": {
     "slide_type": "subslide"
    }
   },
   "source": [
    "# Commit contents"
   ]
  },
  {
   "cell_type": "markdown",
   "metadata": {
    "slideshow": {
     "slide_type": "notes"
    }
   },
   "source": [
    "We can look into the internal repository objects that git creates with `git cat-file`. They are indexed by their hash, so the following gives the content of our first commits. The `-p` flag pretty-prints the contents for us humans."
   ]
  },
  {
   "cell_type": "code",
   "execution_count": 13,
   "metadata": {
    "collapsed": false
   },
   "outputs": [
    {
     "name": "stdout",
     "output_type": "stream",
     "text": [
      "tree ca54a01be26f8fa167212c0ead8956969644668d\r\n",
      "author Sander van Dijk <sgvandijk@gmail.com> 1472130035 +0100\r\n",
      "committer Sander van Dijk <sgvandijk@gmail.com> 1472130035 +0100\r\n",
      "\r\n",
      "My first commit!\r\n"
     ]
    }
   ],
   "source": [
    "git cat-file -p 4bacdc2b7367ef4a931645a96d483477053af854"
   ]
  },
  {
   "cell_type": "code",
   "execution_count": 15,
   "metadata": {
    "collapsed": false,
    "slideshow": {
     "slide_type": "fragment"
    }
   },
   "outputs": [
    {
     "name": "stdout",
     "output_type": "stream",
     "text": [
      "tree 1b14702b72f4e741cf64e553f7ead6f466204500\r\n",
      "parent 4bacdc2b7367ef4a931645a96d483477053af854\r\n",
      "author Sander van Dijk <sgvandijk@gmail.com> 1472130035 +0100\r\n",
      "committer Sander van Dijk <sgvandijk@gmail.com> 1472130035 +0100\r\n",
      "\r\n",
      "Cool down\r\n"
     ]
    }
   ],
   "source": [
    "git cat-file -p 29e0"
   ]
  },
  {
   "cell_type": "markdown",
   "metadata": {
    "slideshow": {
     "slide_type": "notes"
    }
   },
   "source": [
    "This is indeed all the content of a commit as listed earlier. Note that the second commit additionally specifies the first commit as its parent. Also note that we didn't have to specify the full commit hash! Any unique prefix will do, so with just two commits we could even address them by just the first character. This works for any git command."
   ]
  },
  {
   "cell_type": "markdown",
   "metadata": {
    "slideshow": {
     "slide_type": "slide"
    }
   },
   "source": [
    "# Lineage"
   ]
  },
  {
   "cell_type": "markdown",
   "metadata": {
    "slideshow": {
     "slide_type": "subslide"
    }
   },
   "source": [
    "## Lineage\n",
    "Git's history forms a **Directed Acyclic Graph (DAG)**\n",
    "- All commits point to their parent(s)\n",
    "- No way to follow arrows back to start\n",
    "\n",
    "Our graph after the 2 commits:"
   ]
  },
  {
   "cell_type": "code",
   "execution_count": 16,
   "metadata": {
    "collapsed": false,
    "hideCode": false
   },
   "outputs": [
    {
     "name": "stdout",
     "output_type": "stream",
     "text": []
    },
    {
     "data": {
      "image/png": "[encoded data removed]"
     },
     "metadata": {},
     "output_type": "display_data"
    }
   ],
   "source": [
    "gitloggraph"
   ]
  },
  {
   "cell_type": "markdown",
   "metadata": {
    "slideshow": {
     "slide_type": "notes"
    }
   },
   "source": [
    "Besides the two commits, there are also two references:\n",
    "* `HEAD`: always there, indicates which commit will be the parent of your next commit, or /the commit you are 'on'/. Here, it points to `master`, which in turn points to the last commit.\n",
    "* `master` is the default name of the main 'branch' of your repository."
   ]
  },
  {
   "cell_type": "markdown",
   "metadata": {
    "slideshow": {
     "slide_type": "subslide"
    }
   },
   "source": [
    "## I was told there'd be branches...\n",
    "Intuitively a branch is\n",
    "- a separate line of development\n",
    "- all commits from some branching point\n",
    "\n",
    "In practice a branch is\n",
    "- just a label pointing to a commit\n",
    "- **not** a set of commits\n",
    "- made up of all commits reachable from reference (implicitely)"
   ]
  },
  {
   "cell_type": "markdown",
   "metadata": {
    "slideshow": {
     "slide_type": "notes"
    }
   },
   "source": [
    "Reachable here means you can get there by following the parents from the commit that the branch points to. We will look at this concept later again."
   ]
  },
  {
   "cell_type": "markdown",
   "metadata": {
    "slideshow": {
     "slide_type": "subslide"
    }
   },
   "source": [
    "## I thought tags were labels?\n",
    "- Tags label commits to make them special/easier to find\n",
    "- Branch label follows new commits/`HEAD`"
   ]
  },
  {
   "cell_type": "code",
   "execution_count": 17,
   "metadata": {
    "collapsed": false,
    "slideshow": {
     "slide_type": "fragment"
    }
   },
   "outputs": [
    {
     "name": "stdout",
     "output_type": "stream",
     "text": []
    },
    {
     "data": {
      "image/png": "[encoded data removed]"
     },
     "metadata": {},
     "output_type": "display_data"
    }
   ],
   "source": [
    "git tag \"freezing\" && gitloggraph"
   ]
  },
  {
   "cell_type": "code",
   "execution_count": 18,
   "metadata": {
    "collapsed": false,
    "slideshow": {
     "slide_type": "fragment"
    }
   },
   "outputs": [
    {
     "name": "stdout",
     "output_type": "stream",
     "text": [
      "[master 456c0d4] Tell him again\r\n",
      " 1 file changed, 1 insertion(+)\r\n",
      " create mode 100644 bar.txt\r\n"
     ]
    },
    {
     "data": {
      "image/png": "[encoded data removed]"
     },
     "metadata": {},
     "output_type": "display_data"
    }
   ],
   "source": [
    "echo \"Who told you to touch it?\" > bar.txt\n",
    "git add bar.txt && git commit -m \"Tell him again\" && gitloggraph"
   ]
  },
  {
   "cell_type": "markdown",
   "metadata": {
    "slideshow": {
     "slide_type": "notes"
    }
   },
   "source": [
    "Note that the `master` branch reference moved to the new commit, along with `HEAD`, while the tag stayed in place. "
   ]
  },
  {
   "cell_type": "markdown",
   "metadata": {
    "slideshow": {
     "slide_type": "subslide"
    }
   },
   "source": [
    "## Let's branch"
   ]
  },
  {
   "cell_type": "code",
   "execution_count": 19,
   "metadata": {
    "collapsed": false,
    "slideshow": {
     "slide_type": "-"
    }
   },
   "outputs": [
    {
     "name": "stdout",
     "output_type": "stream",
     "text": [
      "Note: checking out 'freezing'.\r\n",
      "\r\n",
      "You are in 'detached HEAD' state. You can look around, make experimental\r\n",
      "changes and commit them, and you can discard any commits you make in this\r\n",
      "state without impacting any branches by performing another checkout.\r\n",
      "\r\n",
      "If you want to create a new branch to retain commits you create, you may\r\n",
      "do so (now or later) by using -b with the checkout command again. Example:\r\n",
      "\r\n",
      "  git checkout -b <new-branch-name>\r\n",
      "\r\n",
      "HEAD is now at 29e05b1... Cool down\r\n"
     ]
    },
    {
     "data": {
      "image/png": "[encoded data removed]"
     },
     "metadata": {},
     "output_type": "display_data"
    }
   ],
   "source": [
    "git checkout freezing && gitloggraph"
   ]
  },
  {
   "cell_type": "markdown",
   "metadata": {
    "slideshow": {
     "slide_type": "notes"
    }
   },
   "source": [
    "`git checkout`:\n",
    "1. **moves `HEAD`** to whatever commit or reference you specified (in this case the `freezing` tag that references the second commit)\n",
    "2. **updates your working tree** with the snapshot of the tree of that commit\n",
    "\n",
    "We got a big warning about being in 'detached `HEAD`' state. This means that `HEAD` is not pointing to a branch reference, but directly to a commit instead. Usually you don't want this, because it could lead to lost work (more details later), so it's best to start a new branch."
   ]
  },
  {
   "cell_type": "markdown",
   "metadata": {
    "slideshow": {
     "slide_type": "subslide"
    }
   },
   "source": [
    "## Let's branch"
   ]
  },
  {
   "cell_type": "code",
   "execution_count": 20,
   "metadata": {
    "collapsed": false,
    "slideshow": {
     "slide_type": "-"
    }
   },
   "outputs": [
    {
     "name": "stdout",
     "output_type": "stream",
     "text": [
      "Switched to a new branch 'heatup'\r\n"
     ]
    },
    {
     "data": {
      "image/png": "[encoded data removed]"
     },
     "metadata": {},
     "output_type": "display_data"
    }
   ],
   "source": [
    "# `checkout -b x` is shorthand for `git branch x && git checkout x`\n",
    "git checkout -b heatup && gitloggraph"
   ]
  },
  {
   "cell_type": "markdown",
   "metadata": {
    "slideshow": {
     "slide_type": "notes"
    }
   },
   "source": [
    "The `git branch branchname` command creates a new branch reference and points it to the commit that `HEAD` is currently (possibly transitively) pointing at. It does *not* update `HEAD` to point to this new branch, so new commits will not actually be 'on' this branch until you check it out, or use the shortcut used here.\n",
    "\n",
    "We could have prevented the detached `HEAD` with `git checkout -b heatup freezing`, which is equivalent to `git checkout freezing && git branch heatup && git checkout heatup`."
   ]
  },
  {
   "cell_type": "code",
   "execution_count": 21,
   "metadata": {
    "collapsed": false,
    "slideshow": {
     "slide_type": "fragment"
    }
   },
   "outputs": [
    {
     "name": "stdout",
     "output_type": "stream",
     "text": [
      "[heatup 2f2df12] Defreeze\r\n",
      " 1 file changed, 1 insertion(+), 1 deletion(-)\r\n"
     ]
    },
    {
     "data": {
      "image/png": "[encoded data removed]"
     },
     "metadata": {},
     "output_type": "display_data"
    }
   ],
   "source": [
    "sed -e 's/Cold/Bold/' -i '' foo.txt && git commit -a -m 'Defreeze' && gitloggraph"
   ]
  },
  {
   "cell_type": "markdown",
   "metadata": {
    "slideshow": {
     "slide_type": "notes"
    }
   },
   "source": [
    "Note again how `HEAD` and the branch references have been updated.\n",
    "\n",
    "Here we used the `-a` commit flag, which `add`s all changes before committing. Usually this is bad practice, and you should really add changes separately to make sure each commit contains coherent sets of changes, and not things a bunch of unrelated fixes or unfinished/breaking changes."
   ]
  },
  {
   "cell_type": "markdown",
   "metadata": {
    "slideshow": {
     "slide_type": "subslide"
    }
   },
   "source": [
    "## Merging"
   ]
  },
  {
   "cell_type": "markdown",
   "metadata": {
    "slideshow": {
     "slide_type": "notes"
    }
   },
   "source": [
    "At some point you will want to bring your changes on a branch into the master branch, or combine the changes from different branches. One way is to 'merge' one branch into the branch you are currently on."
   ]
  },
  {
   "cell_type": "code",
   "execution_count": 22,
   "metadata": {
    "collapsed": false
   },
   "outputs": [
    {
     "name": "stdout",
     "output_type": "stream",
     "text": [
      "Switched to branch 'master'\r\n",
      "Merge made by the 'recursive' strategy.\r\n",
      " foo.txt | 2 \u001b[32m+\u001b[m\u001b[31m-\u001b[m\r\n",
      " 1 file changed, 1 insertion(+), 1 deletion(-)\r\n"
     ]
    },
    {
     "data": {
      "image/png": "[encoded data removed]"
     },
     "metadata": {},
     "output_type": "display_data"
    }
   ],
   "source": [
    "git checkout master\n",
    "git merge heatup -m \"Merging 'heatup' into master\" && gitloggraph"
   ]
  },
  {
   "cell_type": "markdown",
   "metadata": {
    "slideshow": {
     "slide_type": "notes"
    }
   },
   "source": [
    "As you see, this creates a new commit, a so-called 'merge commit', that has the special property of having multiple parents and combines the directory tree of those parents. In our case each branch touched separate files and we end up with both files at the last stage of each respective branch."
   ]
  },
  {
   "cell_type": "code",
   "execution_count": 23,
   "metadata": {
    "collapsed": false,
    "slideshow": {
     "slide_type": "-"
    }
   },
   "outputs": [
    {
     "name": "stdout",
     "output_type": "stream",
     "text": [
      "bar.txt\tfoo.txt\r\n",
      "Bold Hearts\r\n"
     ]
    }
   ],
   "source": [
    "ls && cat foo.txt"
   ]
  },
  {
   "cell_type": "markdown",
   "metadata": {
    "slideshow": {
     "slide_type": "subslide"
    }
   },
   "source": [
    "## Rebasing"
   ]
  },
  {
   "cell_type": "code",
   "execution_count": 24,
   "metadata": {
    "collapsed": false
   },
   "outputs": [
    {
     "name": "stdout",
     "output_type": "stream",
     "text": [
      "HEAD is now at 456c0d4 Tell him again\r\n",
      "Switched to branch 'heatup'\r\n"
     ]
    },
    {
     "data": {
      "image/png": "[encoded data removed]"
     },
     "metadata": {},
     "output_type": "display_data"
    }
   ],
   "source": [
    "git reset --hard HEAD@{1} && git checkout heatup && gitloggraph"
   ]
  },
  {
   "cell_type": "code",
   "execution_count": 25,
   "metadata": {
    "collapsed": false,
    "slideshow": {
     "slide_type": "fragment"
    }
   },
   "outputs": [
    {
     "name": "stdout",
     "output_type": "stream",
     "text": [
      "First, rewinding head to replay your work on top of it...\r\n",
      "Applying: Defreeze\r\n"
     ]
    },
    {
     "data": {
      "image/png": "[encoded data removed]"
     },
     "metadata": {},
     "output_type": "display_data"
    }
   ],
   "source": [
    "git rebase master && gitloggraph"
   ]
  },
  {
   "cell_type": "markdown",
   "metadata": {
    "slideshow": {
     "slide_type": "notes"
    }
   },
   "source": [
    "'Rebasing' can be an **alternative** to merging. It changes the 'base' of the branch you are on, to make it seem like you started this branch at the new base.\n",
    "\n",
    "The argument to `git rebase` specifies which commit will be your new base, or which commit you want to '**rebase onto**'. It looks like git cut off the branch and put it back on top of `master`.\n",
    "\n",
    "Note that the **hash** of the last commit has **changed**! The parent of the commit has changed, and as said before the hash changes with any change in a commit's content. To git, this is now _a whole new commit_, unrelated to the original one.\n",
    "\n",
    "To show the rebasing alternative, we used `reset` to 'rewind' `HEAD` (and the branch it points to, here `master`) back to where it was before the last action, i.e. before the merge. The `--hard` flag really discards all changes. This is the **first example of the power of git's bookkeeping** that allows you to undo nearly anything, which we will dive into deeper later."
   ]
  },
  {
   "cell_type": "code",
   "execution_count": 26,
   "metadata": {
    "collapsed": false,
    "slideshow": {
     "slide_type": "skip"
    }
   },
   "outputs": [
    {
     "name": "stdout",
     "output_type": "stream",
     "text": [
      "bar.txt\tfoo.txt\r\n",
      "Bold Hearts\r\n"
     ]
    }
   ],
   "source": [
    "# Check the result is indeed the same\n",
    "ls && cat foo.txt"
   ]
  },
  {
   "cell_type": "markdown",
   "metadata": {
    "slideshow": {
     "slide_type": "subslide"
    }
   },
   "source": [
    "## Merge or Rebase?\n",
    "Why merge:\n",
    "- Log shows history as it happened\n",
    "- List of merge commits are summary (not 1000x 'fixed typo/whitespace'...)\n",
    "\n",
    "Why rebase:\n",
    "- Many parallel branches = chaotic DAG\n",
    "- Conflicts resolved at commit where they happened\n",
    "- Rewrite history to reflect higher level conceptual steps rather than just code changes\n",
    "\n",
    "** Per team decision ** but also IMHO ** per branch **"
   ]
  },
  {
   "cell_type": "markdown",
   "metadata": {
    "slideshow": {
     "slide_type": "slide"
    }
   },
   "source": [
    "# Remoting"
   ]
  },
  {
   "cell_type": "markdown",
   "metadata": {
    "slideshow": {
     "slide_type": "subslide"
    }
   },
   "source": [
    "## Distributed\n",
    "- ** A remote (repository) ** - version of your project somewhere else\n",
    "- Other directory, on network, GitHub, ...\n",
    "- Can be any repository (project's central repo, friend's copy, Linux kernel, ...)\n",
    "- Use to _push_ your changes and _pull_ others"
   ]
  },
  {
   "cell_type": "markdown",
   "metadata": {
    "slideshow": {
     "slide_type": "subslide"
    }
   },
   "source": [
    "## Adding a remote\n",
    "Create a 'bookmark' to another repository"
   ]
  },
  {
   "cell_type": "code",
   "execution_count": 27,
   "metadata": {
    "collapsed": false,
    "slideshow": {
     "slide_type": "fragment"
    }
   },
   "outputs": [
    {
     "name": "stdout",
     "output_type": "stream",
     "text": [
      "Initialized empty Git repository in /private/tmp/using-git.clone/.git/\r\n"
     ]
    }
   ],
   "source": [
    "cd /tmp && mkdir using-git.clone && cd using-git.clone\n",
    "git init ."
   ]
  },
  {
   "cell_type": "code",
   "execution_count": 28,
   "metadata": {
    "collapsed": false
   },
   "outputs": [
    {
     "name": "stdout",
     "output_type": "stream",
     "text": [
      "provenance\t../using-git (fetch)\r\n",
      "provenance\t../using-git (push)\r\n",
      "fatal: your current branch 'master' does not have any commits yet\r\n"
     ]
    },
    {
     "data": {
      "image/png": "[encoded data removed]"
     },
     "metadata": {},
     "output_type": "display_data"
    }
   ],
   "source": [
    "git remote add provenance ../using-git\n",
    "git remote -v && gitloggraph"
   ]
  },
  {
   "cell_type": "markdown",
   "metadata": {
    "slideshow": {
     "slide_type": "subslide"
    }
   },
   "source": [
    "## Fetching\n",
    "Refresh knowledge about remote"
   ]
  },
  {
   "cell_type": "code",
   "execution_count": 29,
   "metadata": {
    "collapsed": false,
    "slideshow": {
     "slide_type": "fragment"
    }
   },
   "outputs": [
    {
     "name": "stdout",
     "output_type": "stream",
     "text": [
      "remote: Counting objects: 11, done.\u001b[K\r\n",
      "remote: Compressing objects:  16% (1/6)   \u001b[K\r",
      "remote: Compressing objects:  33% (2/6)   \u001b[K\r",
      "remote: Compressing objects:  50% (3/6)   \u001b[K\r",
      "remote: Compressing objects:  66% (4/6)   \u001b[K\r",
      "remote: Compressing objects:  83% (5/6)   \u001b[K\r",
      "remote: Compressing objects: 100% (6/6)   \u001b[K\r",
      "remote: Compressing objects: 100% (6/6), done.\u001b[K\r\n",
      "remote: Total 11 (delta 1), reused 0 (delta 0)\u001b[K\r\n",
      "Unpacking objects:   9% (1/11)   \r",
      "Unpacking objects:  18% (2/11)   \r",
      "Unpacking objects:  27% (3/11)   \r",
      "Unpacking objects:  36% (4/11)   \r",
      "Unpacking objects:  45% (5/11)   \r",
      "Unpacking objects:  54% (6/11)   \r",
      "Unpacking objects:  63% (7/11)   \r",
      "Unpacking objects:  72% (8/11)   \r",
      "Unpacking objects:  81% (9/11)   \r",
      "Unpacking objects:  90% (10/11)   \r",
      "Unpacking objects: 100% (11/11)   \r",
      "Unpacking objects: 100% (11/11), done.\r\n",
      "From ../using-git\r\n",
      " * [new branch]      heatup     -> provenance/heatup\r\n",
      " * [new branch]      master     -> provenance/master\r\n",
      " * [new tag]         freezing   -> freezing\r\n"
     ]
    },
    {
     "data": {
      "image/png": "[encoded data removed]"
     },
     "metadata": {},
     "output_type": "display_data"
    }
   ],
   "source": [
    "git fetch provenance && gitloggraph"
   ]
  },
  {
   "cell_type": "markdown",
   "metadata": {
    "slideshow": {
     "slide_type": "notes"
    }
   },
   "source": [
    "Fetching only downloads all new commits and references from the remote, it doesn't change anything locally.\n",
    "\n",
    "Note there is no local master or HEAD in the graph. It is there, but it doesn't point to an actual commit yet"
   ]
  },
  {
   "cell_type": "markdown",
   "metadata": {
    "slideshow": {
     "slide_type": "subslide"
    }
   },
   "source": [
    "## Pushing\n",
    "Update remote with your changes"
   ]
  },
  {
   "cell_type": "code",
   "execution_count": 30,
   "metadata": {
    "collapsed": false
   },
   "outputs": [
    {
     "name": "stdout",
     "output_type": "stream",
     "text": [
      "Branch master set up to track remote branch master from provenance.\r\n",
      "Already on 'master'\r\n",
      "[master 7ff3131] We're done\r\n",
      " 1 file changed, 1 insertion(+)\r\n"
     ]
    },
    {
     "data": {
      "image/png": "[encoded data removed]"
     },
     "metadata": {},
     "output_type": "display_data"
    }
   ],
   "source": [
    "git checkout -b master provenance/master && echo \"Done\" >> foo.txt && git commit -a -m \"We're done\"\n",
    "gitloggraph"
   ]
  },
  {
   "cell_type": "markdown",
   "metadata": {
    "slideshow": {
     "slide_type": "subslide"
    }
   },
   "source": [
    "## Pushing\n",
    "Update remote with your changes"
   ]
  },
  {
   "cell_type": "code",
   "execution_count": 31,
   "metadata": {
    "collapsed": false,
    "slideshow": {
     "slide_type": "-"
    }
   },
   "outputs": [
    {
     "name": "stdout",
     "output_type": "stream",
     "text": [
      "Counting objects: 3, done.\r\n",
      "Delta compression using up to 8 threads.\r\n",
      "Compressing objects:  50% (1/2)   \r",
      "Compressing objects: 100% (2/2)   \r",
      "Compressing objects: 100% (2/2), done.\r\n",
      "Writing objects:  33% (1/3)   \r",
      "Writing objects:  66% (2/3)   \r",
      "Writing objects: 100% (3/3)   \r",
      "Writing objects: 100% (3/3), 293 bytes | 0 bytes/s, done.\r\n",
      "Total 3 (delta 0), reused 0 (delta 0)\r\n",
      "To ../using-git\r\n",
      "   456c0d4..7ff3131  master -> master\r\n"
     ]
    },
    {
     "data": {
      "image/png": "[encoded data removed]"
     },
     "metadata": {},
     "output_type": "display_data"
    }
   ],
   "source": [
    "git push provenance && gitloggraph"
   ]
  },
  {
   "cell_type": "markdown",
   "metadata": {
    "slideshow": {
     "slide_type": "subslide"
    }
   },
   "source": [
    "## Pulling\n",
    "Update your branch with remote changes"
   ]
  },
  {
   "cell_type": "code",
   "execution_count": 32,
   "metadata": {
    "collapsed": false
   },
   "outputs": [
    {
     "name": "stdout",
     "output_type": "stream",
     "text": [
      "Switched to branch 'master'\r\n",
      "[master dd0e353] Continueing\r\n",
      " 1 file changed, 1 insertion(+)\r\n",
      "remote: Counting objects: 3, done.\u001b[K\r\n",
      "remote: Compressing objects:  50% (1/2)   \u001b[K\r",
      "remote: Compressing objects: 100% (2/2)   \u001b[K\r",
      "remote: Compressing objects: 100% (2/2), done.\u001b[K\r\n",
      "remote: Total 3 (delta 0), reused 0 (delta 0)\u001b[K\r\n",
      "Unpacking objects:  33% (1/3)   \r",
      "Unpacking objects:  66% (2/3)   \r",
      "Unpacking objects: 100% (3/3)   \r",
      "Unpacking objects: 100% (3/3), done.\r\n",
      "From ../using-git\r\n",
      "   7ff3131..dd0e353  master     -> provenance/master\r\n"
     ]
    },
    {
     "data": {
      "image/png": "[encoded data removed]"
     },
     "metadata": {},
     "output_type": "display_data"
    }
   ],
   "source": [
    "# Make a commit in original repo\n",
    "cd ../using-git && git checkout master && echo \"Not done yet\" >> foo.txt && git commit -a -m \"Continueing\"\n",
    "# Fetch changes in new repo\n",
    "cd ../using-git.clone && git fetch && gitloggraph "
   ]
  },
  {
   "cell_type": "markdown",
   "metadata": {
    "slideshow": {
     "slide_type": "subslide"
    }
   },
   "source": [
    "## Pulling"
   ]
  },
  {
   "cell_type": "code",
   "execution_count": 33,
   "metadata": {
    "collapsed": false
   },
   "outputs": [
    {
     "name": "stdout",
     "output_type": "stream",
     "text": [
      "Updating 7ff3131..dd0e353\r\n",
      "Fast-forward\r\n",
      " foo.txt | 1 \u001b[32m+\u001b[m\r\n",
      " 1 file changed, 1 insertion(+)\r\n"
     ]
    },
    {
     "data": {
      "image/png": "[encoded data removed]"
     },
     "metadata": {},
     "output_type": "display_data"
    }
   ],
   "source": [
    "git pull provenance && gitloggraph"
   ]
  },
  {
   "cell_type": "markdown",
   "metadata": {
    "slideshow": {
     "slide_type": "notes"
    }
   },
   "source": [
    "Using `git pull` is actually shorthand for fetching and then merging the remote branch into your local branch. Note git told us it fast-forwarded, which means that it merged by just moving the local branch reference to the last commit. It could do that when your branch has not diverged, i.e. your branch's head is an ancestor of the remote branch's head. "
   ]
  },
  {
   "cell_type": "markdown",
   "metadata": {
    "slideshow": {
     "slide_type": "subslide"
    }
   },
   "source": [
    "## Cloning\n",
    "Helping you forget about first steps"
   ]
  },
  {
   "cell_type": "code",
   "execution_count": 34,
   "metadata": {
    "collapsed": false
   },
   "outputs": [
    {
     "name": "stdout",
     "output_type": "stream",
     "text": [
      "Cloning into 'using-git.bestclone'...\r\n",
      "done.\r\n"
     ]
    },
    {
     "data": {
      "image/png": "[encoded data removed]"
     },
     "metadata": {},
     "output_type": "display_data"
    }
   ],
   "source": [
    "cd .. && git clone using-git using-git.bestclone\n",
    "cd using-git.bestclone && gitloggraph"
   ]
  },
  {
   "cell_type": "markdown",
   "metadata": {
    "slideshow": {
     "slide_type": "notes"
    }
   },
   "source": [
    "And tada, we have the same setup in one quick command. The name `origin` is just the default name for a clone's original remote, it is not special (just like `master` is just the default name for the first branch and is not special).\n",
    "\n",
    "In this case, `clone` also "
   ]
  },
  {
   "cell_type": "code",
   "execution_count": 35,
   "metadata": {
    "collapsed": false,
    "slideshow": {
     "slide_type": "fragment"
    }
   },
   "outputs": [
    {
     "name": "stdout",
     "output_type": "stream",
     "text": [
      "On branch master\r\n",
      "Your branch is up-to-date with 'origin/master'.\r\n",
      "nothing to commit, working tree clean\r\n"
     ]
    }
   ],
   "source": [
    "git status"
   ]
  },
  {
   "cell_type": "markdown",
   "metadata": {
    "slideshow": {
     "slide_type": "notes"
    }
   },
   "source": [
    "The status is the same as at the remote, except for the mention of `origin/master`. This is the 'tracked' branch, which is automatically set up bu the clone command. More on that later.\n",
    "\n",
    "When cloning, the clone will place `HEAD` at the same place as the remote has it, and creates the according branch reference locally. Other branches are not created locally, you only see where branch references are at the remote, prefixed with `<remotename>/`.\n",
    "\n",
    "Note that `origin` is not special, it is just the name used by default when cloning a remote. If you want (to confuse somebody, like your future self) you could pick a different name like `git clone -o daoridz`, or you can name any other remote `origin`."
   ]
  },
  {
   "cell_type": "markdown",
   "metadata": {
    "slideshow": {
     "slide_type": "subslide"
    }
   },
   "source": [
    "## Tracking branches\n",
    "- Tracked branch = remote branch used in pull/push if none given\n",
    "- Or: 'upstream' branch\n",
    "- up-to-date/ahead/behind info in `git status`\n",
    "- Created for you when:\n",
    "    - **cloning** - `master` tracks `origin/master`\n",
    "    - **checking out remote branch** - i.e.:<br>`git checkout -b foo remote/foo`<br>, or equivalent:<br>`git checkout --track remote/foo`\n",
    "- Can track branch with any name"
   ]
  },
  {
   "cell_type": "markdown",
   "metadata": {
    "slideshow": {
     "slide_type": "subslide"
    }
   },
   "source": [
    "## Tracking by hand"
   ]
  },
  {
   "cell_type": "code",
   "execution_count": 36,
   "metadata": {
    "collapsed": false
   },
   "outputs": [
    {
     "name": "stdout",
     "output_type": "stream",
     "text": [
      "  master   \u001b[m dd0e353 [\u001b[34morigin/master\u001b[m] Continueing\r\n",
      "* \u001b[32mnotheatup\u001b[m dda4379 Defreeze\r\n"
     ]
    }
   ],
   "source": [
    "(git checkout origin/heatup && git branch notheatup && git checkout notheatup) &> /dev/null\n",
    "git branch -vv"
   ]
  },
  {
   "cell_type": "code",
   "execution_count": 37,
   "metadata": {
    "collapsed": false,
    "slideshow": {
     "slide_type": "fragment"
    }
   },
   "outputs": [
    {
     "name": "stdout",
     "output_type": "stream",
     "text": [
      "Branch notheatup set up to track remote branch heatup from origin.\r\n",
      "  master   \u001b[m dd0e353 [\u001b[34morigin/master\u001b[m] Continueing\r\n",
      "* \u001b[32mnotheatup\u001b[m dda4379 [\u001b[34morigin/heatup\u001b[m] Defreeze\r\n"
     ]
    }
   ],
   "source": [
    "git branch -u origin/heatup\n",
    "git branch -vv"
   ]
  },
  {
   "cell_type": "markdown",
   "metadata": {
    "slideshow": {
     "slide_type": "notes"
    }
   },
   "source": [
    "Setting the upstream branch to track can also be done when pulling or pushing by adding the `-u` flag. A very common usecase is for instance to create a branch locally, make some commits, then push it up with `-u` to track the remote branch you just uploaded."
   ]
  },
  {
   "cell_type": "markdown",
   "metadata": {
    "slideshow": {
     "slide_type": "slide"
    }
   },
   "source": [
    "# Undoing\n"
   ]
  },
  {
   "cell_type": "markdown",
   "metadata": {
    "slideshow": {
     "slide_type": "subslide"
    }
   },
   "source": [
    "## Oops...\n",
    "\n",
    "> I won't commit/branch/push, I'm afraid I will break something\n",
    ">     - Git novice\n",
    "\n",
    "Reality: ***very*** hard to completely screw up"
   ]
  },
  {
   "cell_type": "markdown",
   "metadata": {
    "slideshow": {
     "slide_type": "subslide"
    }
   },
   "source": [
    "## Git never forgets&dagger;\n",
    "\n",
    "- **Git never overwrites** - rewriting history (rebasing, appending commits, etc) creates new, independent commits\n",
    "- **Git doesn't delete&dagger; ** - old commits are there, but just not visible when unreachable\n",
    "\n",
    "*Reachability*: a commit is *reachable* when there is a directed path from a branch reference to that commit"
   ]
  },
  {
   "cell_type": "markdown",
   "metadata": {
    "slideshow": {
     "slide_type": "subslide"
    }
   },
   "source": [
    "## Finding lost commits"
   ]
  },
  {
   "cell_type": "code",
   "execution_count": 38,
   "metadata": {
    "collapsed": false
   },
   "outputs": [
    {
     "name": "stdout",
     "output_type": "stream",
     "text": [
      "Checking object directories:  10% (28/256)   \r",
      "Checking object directories:  16% (42/256)   \r",
      "Checking object directories:  18% (48/256)   \r",
      "Checking object directories:  19% (49/256)   \r",
      "Checking object directories:  27% (70/256)   \r",
      "Checking object directories:  29% (76/256)   \r",
      "Checking object directories:  35% (91/256)   \r",
      "Checking object directories:  38% (98/256)   \r",
      "Checking object directories:  41% (107/256)   \r",
      "Checking object directories:  45% (116/256)   \r",
      "Checking object directories:  50% (128/256)   \r",
      "Checking object directories:  75% (192/256)   \r",
      "Checking object directories:  79% (203/256)   \r",
      "Checking object directories:  83% (213/256)   \r",
      "Checking object directories:  86% (222/256)   \r",
      "Checking object directories:  91% (234/256)   \r",
      "Checking object directories:  95% (244/256)   \r",
      "Checking object directories: 100% (256/256)   \r",
      "Checking object directories: 100% (256/256), done.\r\n",
      "dangling commit 6a349c2538b1bfa46e207797e96e4799fde5b9f8\r\n"
     ]
    }
   ],
   "source": [
    "cd ../using-git && git fsck --lost-found | tee fsck.out"
   ]
  },
  {
   "cell_type": "code",
   "execution_count": 39,
   "metadata": {
    "collapsed": false,
    "slideshow": {
     "slide_type": "fragment"
    }
   },
   "outputs": [
    {
     "name": "stdout",
     "output_type": "stream",
     "text": [
      "tree 5a2aaa3fe1272654c3cb392187b2bb79b9b21159\r\n",
      "parent 456c0d4b4cd78022e1fbf24397b3b10cfc46d50e\r\n",
      "parent 2f2df12cbea3f37055e4c73b532e5d55557c1d8c\r\n",
      "author Sander van Dijk <sgvandijk@gmail.com> 1472130070 +0100\r\n",
      "committer Sander van Dijk <sgvandijk@gmail.com> 1472130070 +0100\r\n",
      "\r\n",
      "Merging 'heatup' into master\r\n"
     ]
    }
   ],
   "source": [
    "# Show content of dangling commit\n",
    "grep dangling < fsck.out | cut -d ' ' -f 3 | tee lost-commit | xargs git cat-file -p"
   ]
  },
  {
   "cell_type": "markdown",
   "metadata": {
    "slideshow": {
     "slide_type": "subslide"
    }
   },
   "source": [
    "## Recover!"
   ]
  },
  {
   "cell_type": "code",
   "execution_count": 40,
   "metadata": {
    "collapsed": false
   },
   "outputs": [
    {
     "name": "stdout",
     "output_type": "stream",
     "text": [
      "Switched to a new branch 'return-of-the-merge'\r\n"
     ]
    },
    {
     "data": {
      "image/png": "[encoded data removed]"
     },
     "metadata": {},
     "output_type": "display_data"
    }
   ],
   "source": [
    "git checkout -b return-of-the-merge $(cat lost-commit) && gitloggraph"
   ]
  },
  {
   "cell_type": "markdown",
   "metadata": {
    "slideshow": {
     "slide_type": "notes"
    }
   },
   "source": [
    "This shows the commit is there. Remember that the commit referenced by `heatup` was the result of rebasing rather than merging. This shows again that commits with the same contents but different ancestors are regarded as completely separate."
   ]
  },
  {
   "cell_type": "markdown",
   "metadata": {
    "slideshow": {
     "slide_type": "subslide"
    }
   },
   "source": [
    "## The reflog\n",
    "Keeps track of all the commits a reference pointed at."
   ]
  },
  {
   "cell_type": "code",
   "execution_count": 41,
   "metadata": {
    "collapsed": false
   },
   "outputs": [
    {
     "name": "stdout",
     "output_type": "stream",
     "text": [
      "\u001b[33m6a349c2\u001b[m HEAD@{0}: checkout: moving from master to return-of-the-merge\r\n",
      "\u001b[33mdd0e353\u001b[m HEAD@{1}: commit: Continueing\r\n",
      "\u001b[33m7ff3131\u001b[m HEAD@{2}: checkout: moving from heatup to master\r\n",
      "\u001b[33mdda4379\u001b[m HEAD@{3}: rebase finished: returning to refs/heads/heatup\r\n",
      "\u001b[33mdda4379\u001b[m HEAD@{4}: rebase: Defreeze\r\n",
      "\u001b[33m456c0d4\u001b[m HEAD@{5}: rebase: checkout master\r\n",
      "\u001b[33m2f2df12\u001b[m HEAD@{6}: checkout: moving from master to heatup\r\n",
      "\u001b[33m456c0d4\u001b[m HEAD@{7}: reset: moving to HEAD@{1}\r\n",
      "\u001b[33m6a349c2\u001b[m HEAD@{8}: merge heatup: Merge made by the 'recursive' strategy.\r\n",
      "\u001b[33m456c0d4\u001b[m HEAD@{9}: checkout: moving from heatup to master\r\n",
      "\u001b[33m2f2df12\u001b[m HEAD@{10}: commit: Defreeze\r\n",
      "\u001b[33m29e05b1\u001b[m HEAD@{11}: checkout: moving from 29e05b14fa37df9488cadf4bcc4f4226dd619ad2 to heatup\r\n",
      "\u001b[33m29e05b1\u001b[m HEAD@{12}: checkout: moving from master to freezing\r\n",
      "\u001b[33m456c0d4\u001b[m HEAD@{13}: commit: Tell him again\r\n",
      "\u001b[33m29e05b1\u001b[m HEAD@{14}: commit: Cool down\r\n",
      "\u001b[33m4bacdc2\u001b[m HEAD@{15}: commit (initial): My first commit!\r\n"
     ]
    }
   ],
   "source": [
    "git reflog"
   ]
  },
  {
   "cell_type": "markdown",
   "metadata": {
    "slideshow": {
     "slide_type": "notes"
    }
   },
   "source": [
    "We also could have found the dangling commit in this log: it is the one before the reset, at `HEAD@{8}`; you can see the hash is the same as the top one, where `HEAD` is currently. You can use the `HEAD@` references as handy shortcuts to check out old commits.\n",
    "\n",
    "By default the log is for the `HEAD` reference, but you can request the log for any other reference, too.\n",
    "\n",
    "If you want to reset the current branch you are on, you can use `git reset --hard HEAD@{x}` as shown earlier when we undid the merge."
   ]
  },
  {
   "cell_type": "code",
   "execution_count": 42,
   "metadata": {
    "collapsed": false,
    "slideshow": {
     "slide_type": "skip"
    }
   },
   "outputs": [
    {
     "name": "stdout",
     "output_type": "stream",
     "text": [
      "\u001b[33mdda4379\u001b[m heatup@{0}: rebase finished: refs/heads/heatup onto 456c0d4b4cd78022e1fbf24397b3b10cfc46d50e\r\n",
      "\u001b[33m2f2df12\u001b[m heatup@{1}: commit: Defreeze\r\n",
      "\u001b[33m29e05b1\u001b[m heatup@{2}: branch: Created from HEAD\r\n"
     ]
    }
   ],
   "source": [
    "git reflog heatup"
   ]
  },
  {
   "cell_type": "markdown",
   "metadata": {
    "slideshow": {
     "slide_type": "subslide"
    }
   },
   "source": [
    "## More undoing\n",
    "- Working changes\n",
    "- Staging\n",
    "- Amending commits"
   ]
  },
  {
   "cell_type": "markdown",
   "metadata": {
    "slideshow": {
     "slide_type": "notes"
    }
   },
   "source": [
    "Although amending is not really undoing, but rather rewriting history"
   ]
  },
  {
   "cell_type": "markdown",
   "metadata": {
    "slideshow": {
     "slide_type": "fragment"
    }
   },
   "source": [
    "But first, tips to make recovery easier:\n",
    "- **Branch soon and often** - branches are easy to discard\n",
    "- **Commit often** - can always reorder/squash/discard small changes\n",
    "- **Communicate** about public branches"
   ]
  },
  {
   "cell_type": "markdown",
   "metadata": {
    "slideshow": {
     "slide_type": "subslide"
    }
   },
   "source": [
    "## Undoing working changes"
   ]
  },
  {
   "cell_type": "code",
   "execution_count": 43,
   "metadata": {
    "collapsed": false
   },
   "outputs": [
    {
     "name": "stdout",
     "output_type": "stream",
     "text": [
      " \u001b[31mM\u001b[m bar.txt\r\n",
      " \u001b[31mM\u001b[m foo.txt\r\n"
     ]
    }
   ],
   "source": [
    "echo \"mistake 1\" >> foo.txt && echo \"mistake 2\" >> bar.txt && git status -s -uno"
   ]
  },
  {
   "cell_type": "markdown",
   "metadata": {
    "slideshow": {
     "slide_type": "notes"
    }
   },
   "source": [
    "The `-s` flag gives a short version of the status, `-uno` stands for 'no untracked files'"
   ]
  },
  {
   "cell_type": "code",
   "execution_count": 44,
   "metadata": {
    "collapsed": false,
    "slideshow": {
     "slide_type": "fragment"
    }
   },
   "outputs": [
    {
     "name": "stdout",
     "output_type": "stream",
     "text": [
      " \u001b[31mM\u001b[m bar.txt\r\n"
     ]
    }
   ],
   "source": [
    "# Discard changes to single file\n",
    "git checkout foo.txt && git status -s -uno"
   ]
  },
  {
   "cell_type": "markdown",
   "metadata": {
    "slideshow": {
     "slide_type": "notes"
    }
   },
   "source": [
    "`git checkout` with a path reset the contents of the file at that path with the contents of the index, i.e. having the changes you've `add`ed, but without other changes you have made. In the case when you haven't added anything, like here, it reverts it to the state of the commit you're on."
   ]
  },
  {
   "cell_type": "code",
   "execution_count": 45,
   "metadata": {
    "collapsed": false,
    "slideshow": {
     "slide_type": "fragment"
    }
   },
   "outputs": [
    {
     "name": "stdout",
     "output_type": "stream",
     "text": [
      "HEAD is now at 6a349c2 Merging 'heatup' into master\r\n",
      "On branch return-of-the-merge\r\n",
      "nothing to commit (use -u to show untracked files)\r\n"
     ]
    }
   ],
   "source": [
    "# Discard all changes\n",
    "git reset --hard && git status -uno"
   ]
  },
  {
   "cell_type": "markdown",
   "metadata": {
    "slideshow": {
     "slide_type": "notes"
    }
   },
   "source": [
    "Note that a hard reset also discards any changes added to the index"
   ]
  },
  {
   "cell_type": "markdown",
   "metadata": {
    "slideshow": {
     "slide_type": "subslide"
    }
   },
   "source": [
    "## Undoing staging"
   ]
  },
  {
   "cell_type": "code",
   "execution_count": 46,
   "metadata": {
    "collapsed": false
   },
   "outputs": [
    {
     "name": "stdout",
     "output_type": "stream",
     "text": [
      "\u001b[32mM\u001b[m  foo.txt\r\n"
     ]
    }
   ],
   "source": [
    "echo \"mistake 3\" >> foo.txt && git add foo.txt && git status -s -uno"
   ]
  },
  {
   "cell_type": "code",
   "execution_count": 47,
   "metadata": {
    "collapsed": false
   },
   "outputs": [
    {
     "name": "stdout",
     "output_type": "stream",
     "text": [
      "Unstaged changes after reset:\r\n",
      "M\tfoo.txt\r\n"
     ]
    }
   ],
   "source": [
    "git reset foo.txt"
   ]
  },
  {
   "cell_type": "markdown",
   "metadata": {
    "slideshow": {
     "slide_type": "notes"
    }
   },
   "source": [
    "Without a path, all files get reset. This is equivalent to using the `--mixed` flag; compare with `--hard` where not only the index but also your working copy gets reset. The last alternative is to use `--soft`, which keeps both the index and the working copy intact, but resets `HEAD` to a given commit."
   ]
  },
  {
   "cell_type": "markdown",
   "metadata": {
    "slideshow": {
     "slide_type": "subslide"
    }
   },
   "source": [
    "## Amending commits"
   ]
  },
  {
   "cell_type": "code",
   "execution_count": 48,
   "metadata": {
    "collapsed": false
   },
   "outputs": [
    {
     "name": "stdout",
     "output_type": "stream",
     "text": [
      "[return-of-the-merge 69b5e38] adding mistake 4\r\n",
      " 1 file changed, 2 insertions(+)\r\n"
     ]
    }
   ],
   "source": [
    "echo \"mistake 3\" >> foo.txt && echo \"mistake 4\" >> bar.txt && git add foo.txt && git commit -m \"adding mistake 4\""
   ]
  },
  {
   "cell_type": "code",
   "execution_count": 49,
   "metadata": {
    "collapsed": false,
    "slideshow": {
     "slide_type": "fragment"
    }
   },
   "outputs": [
    {
     "name": "stdout",
     "output_type": "stream",
     "text": [
      "[return-of-the-merge dc84660] adding mistake 3\r\n",
      " Date: Thu Aug 25 14:01:14 2016 +0100\r\n",
      " 1 file changed, 2 insertions(+)\r\n"
     ]
    }
   ],
   "source": [
    "# Amending commit message\n",
    "git commit --amend -m \"adding mistake 3\""
   ]
  },
  {
   "cell_type": "code",
   "execution_count": 50,
   "metadata": {
    "collapsed": false,
    "slideshow": {
     "slide_type": "fragment"
    }
   },
   "outputs": [
    {
     "name": "stdout",
     "output_type": "stream",
     "text": [
      "[return-of-the-merge 30bdb92] adding mistakes 3 and 4\r\n",
      " Date: Thu Aug 25 14:01:14 2016 +0100\r\n",
      " 2 files changed, 3 insertions(+)\r\n"
     ]
    }
   ],
   "source": [
    "# adding more changes\n",
    "git add bar.txt && git commit --amend -m \"adding mistakes 3 and 4\""
   ]
  },
  {
   "cell_type": "markdown",
   "metadata": {
    "slideshow": {
     "slide_type": "notes"
    }
   },
   "source": [
    "To remove changes from the commit, you can reset to the previous commit while keeping your working copy (`git reset HEAD~`) and make a new commit from there."
   ]
  },
  {
   "cell_type": "markdown",
   "metadata": {
    "slideshow": {
     "slide_type": "subslide"
    }
   },
   "source": [
    "## Revert commits\n",
    "Create a new commit that does the inverse of another"
   ]
  },
  {
   "cell_type": "code",
   "execution_count": 51,
   "metadata": {
    "collapsed": false
   },
   "outputs": [
    {
     "name": "stdout",
     "output_type": "stream",
     "text": [
      "[return-of-the-merge a495354] Revert \"adding mistakes 3 and 4\"\r\n",
      " 2 files changed, 3 deletions(-)\r\n"
     ]
    }
   ],
   "source": [
    "git revert --no-edit HEAD"
   ]
  },
  {
   "cell_type": "code",
   "execution_count": 52,
   "metadata": {
    "collapsed": false
   },
   "outputs": [
    {
     "name": "stdout",
     "output_type": "stream",
     "text": [
      "\u001b[33ma495354\u001b[m Revert \"adding mistakes 3 and 4\"\r\n",
      "\u001b[33m30bdb92\u001b[m adding mistakes 3 and 4\r\n",
      "\u001b[33m6a349c2\u001b[m Merging 'heatup' into master\r\n",
      "\u001b[33m2f2df12\u001b[m Defreeze\r\n",
      "\u001b[33m456c0d4\u001b[m Tell him again\r\n",
      "\u001b[33m29e05b1\u001b[m Cool down\r\n",
      "\u001b[33m4bacdc2\u001b[m My first commit!\r\n"
     ]
    }
   ],
   "source": [
    "git log --oneline"
   ]
  },
  {
   "cell_type": "code",
   "execution_count": 53,
   "metadata": {
    "collapsed": false
   },
   "outputs": [
    {
     "name": "stdout",
     "output_type": "stream",
     "text": []
    }
   ],
   "source": [
    "git diff HEAD~2"
   ]
  },
  {
   "cell_type": "markdown",
   "metadata": {
    "slideshow": {
     "slide_type": "fragment"
    }
   },
   "source": [
    "Why not reset?\n",
    "- Can revert any commit, not just last\n",
    "- Revert already published commits"
   ]
  },
  {
   "cell_type": "markdown",
   "metadata": {
    "slideshow": {
     "slide_type": "subslide"
    }
   },
   "source": [
    "## &dagger; When Git forgets\n",
    "When you tell it to:\n",
    "- Garbage collect: `git gc`\n",
    "- Reset unstaged/uncommitted data"
   ]
  }
 ],
 "metadata": {
  "celltoolbar": "Slideshow",
  "kernelspec": {
   "display_name": "Bash",
   "language": "bash",
   "name": "bash"
  },
  "language_info": {
   "codemirror_mode": "shell",
   "file_extension": ".sh",
   "mimetype": "text/x-sh",
   "name": "bash"
  }
 },
 "nbformat": 4,
 "nbformat_minor": 0
}
