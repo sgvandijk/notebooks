{
 "cells": [
  {
   "cell_type": "markdown",
   "metadata": {
    "slideshow": {
     "slide_type": "slide"
    }
   },
   "source": [
    "# Scoring Probability Forecasters\n",
    "### How to test probabilistic predictions\n",
    "\n",
    "Sander van Dijk @ Parkopedia\n",
    "\n",
    "21 May 2019"
   ]
  },
  {
   "cell_type": "code",
   "execution_count": null,
   "metadata": {},
   "outputs": [],
   "source": []
  },
  {
   "cell_type": "code",
   "execution_count": null,
   "metadata": {},
   "outputs": [],
   "source": []
  },
  {
   "cell_type": "markdown",
   "metadata": {
    "slideshow": {
     "slide_type": "slide"
    }
   },
   "source": [
    "# Probabilistic Forecasters"
   ]
  },
  {
   "cell_type": "markdown",
   "metadata": {
    "slideshow": {
     "slide_type": "notes"
    }
   },
   "source": [
    "People want to know what will happen in the future. We look into crystal balls, coffee grounds, use tarrot cards, or read palms. Or, maybe more acceptable to some people, we try to extrapolate from past experience and available facts using logic, physics, or perhaps machine learning. A person or system that produces predictions about the future is a _forecaster_."
   ]
  },
  {
   "cell_type": "markdown",
   "metadata": {},
   "source": [
    "Some of forecasters we encounter in our daily lifes:\n",
    "\n",
    "* Bookies predicting the odds of sports outcomes (and adjusting them to their benefit)\n",
    "* Pollsters guessing who will win the next election\n",
    "* The weatherman forecasting the probability that it will rain tomorrow"
   ]
  },
  {
   "cell_type": "markdown",
   "metadata": {
    "slideshow": {
     "slide_type": "notes"
    }
   },
   "source": [
    "If the forecast is a probability, like in the last example, we talk about a _probabilistic prediction_. "
   ]
  },
  {
   "cell_type": "markdown",
   "metadata": {},
   "source": [
    "Further examples of probabilistic predictions:\n",
    "* The probability of your flight being delayed\n",
    "* The probability that your opponent will make a certain move\n",
    "* The probability of finding a parking space in an hour"
   ]
  },
  {
   "cell_type": "markdown",
   "metadata": {
    "slideshow": {
     "slide_type": "slide"
    }
   },
   "source": [
    "# How good is a probability?"
   ]
  },
  {
   "cell_type": "markdown",
   "metadata": {
    "slideshow": {
     "slide_type": "notes"
    }
   },
   "source": [
    "If somebody tells you the probability that something will occur, how can you test whether he is a good forecaster? Let's take the example of predicting whether it will rain tomorrow. For Tuesday, they make inverse predictions: 10% and 25%. With rain indeed falling on Monday and Tuesday being dry, they both predicted the correct outcome to be more likely than the wrong outcome. Anna would seem to be the better forecaster based on these two days, because she was more certain in her predictions. But what if the next two days they make similar predictions, but the outcomes are the exact inverse, meaning both did bad on those days. Anna now is more decisively wrong. But who is the better forecaster overall? And is either of them better than Carlos, who just predicted 50% all round, which is correct over all 4 days, but probably also not very useful."
   ]
  },
  {
   "cell_type": "markdown",
   "metadata": {},
   "source": [
    "Pick your favourite rain forecaster!\n",
    "\n",
    "| Day | Anna | Robert | Carlos | Outcome |\n",
    "|-----|------|-----|---------|---------|\n",
    "| Monday    | 90% | 75% | 50% | 🌧️ |\n",
    "| Tuesday   | 10% | 25% | 50% | 🌞 |\n",
    "| Wednesday | 90% | 75% | 50% | 🌞 |\n",
    "| Thursday  | 10% | 25% | 50% | 🌧️ |\n"
   ]
  },
  {
   "cell_type": "markdown",
   "metadata": {
    "slideshow": {
     "slide_type": "slide"
    }
   },
   "source": [
    "# First observations\n",
    "* It is not possible to answer:\n",
    "\n",
    "    * Is this probability correct?\n",
    "    * Is this forecaster accurate at 95%?\n",
    "    \n",
    "* Judgement should not be based on a small set of examples\n",
    "* It is possible to debate about what a probability _means_... but we won't\n",
    "* We _can_ develop some ideas about what makes a forecast useful and turn those into concrete tests"
   ]
  },
  {
   "cell_type": "markdown",
   "metadata": {
    "slideshow": {
     "slide_type": "notes"
    }
   },
   "source": [
    "If you are interested in the philospy of the interpreteation of probabilities, you can make your way through [the entry on this topic in the Stanford Encyclopedia of Philosopyhy](https://plato.stanford.edu/entries/probability-interpret/). If you have heard the terms 'frequentist' and 'Baysian' before, you probably know why we won't touch that here.."
   ]
  },
  {
   "cell_type": "markdown",
   "metadata": {
    "slideshow": {
     "slide_type": "slide"
    }
   },
   "source": [
    "# Intuition 1: Calibration"
   ]
  },
  {
   "cell_type": "markdown",
   "metadata": {
    "slideshow": {
     "slide_type": "notes"
    }
   },
   "source": [
    "One of the first ideas that many people develop when talking about how good a probabilistic forecaster is, is often phrased along the lines of:"
   ]
  },
  {
   "cell_type": "markdown",
   "metadata": {},
   "source": [
    "> Out of all the times you predicted something to happen with 70% chance,<br>\n",
    "> it should indeed have happened 7 out of 10 times."
   ]
  },
  {
   "cell_type": "markdown",
   "metadata": {
    "slideshow": {
     "slide_type": "notes"
    }
   },
   "source": [
    "This idea is called 'calibration', and a forecaster who provides predictions that match the relative frequency of occurance in this way is said to be 'well calibrated."
   ]
  },
  {
   "cell_type": "code",
   "execution_count": 14,
   "metadata": {},
   "outputs": [],
   "source": [
    "import matplotlib.pyplot as plt\n",
    "from matplotlib import animation\n",
    "from IPython.display import HTML\n",
    "import random\n",
    "import numpy as np\n",
    "\n",
    "def calibration_example(forecaster):\n",
    "    buckets_green_ratios = np.arange(0.1, 1.1, 0.1)\n",
    "    n_draws = 100\n",
    "    def predict(bucket):\n",
    "        if forecaster == \"calibrated\":\n",
    "            return buckets_green_ratios[bucket]\n",
    "        \n",
    "    # First set up the figure, the axis, and the plot element we want to animate\n",
    "    fig = plt.figure()\n",
    "    ax = plt.axes(xlim=(-0.05, 1.1), ylim=(0, 15))\n",
    "    print(ax.plot([], [], lw=1))\n",
    "    scatter = ax.scatter(x=[], y=[], c=[])\n",
    "    draws = {\"predictions\": [0.1, 0.1, 0.2], \"outcomes\": [1, 0, 1]}\n",
    "\n",
    "    def draws_to_points():\n",
    "        n_points_per_row = 2\n",
    "        dist_between_points = 1 / n_points_per_row\n",
    "        x_start = dist_between_points / 2\n",
    "        cur_pos = np.zeros((len(buckets_green_ratios), 2))\n",
    "        \n",
    "        xs = []\n",
    "        ys = []\n",
    "        cs = []\n",
    "        for pred, outc in zip(draw[\"predictions\"], dra[\"outcomes\"]):\n",
    "            bucket = int(pred * 10) - 1\n",
    "            y_idx, x_idx = cur_pos[bucket]\n",
    "            x = bucket + x_start + x_idx * dist_between_points\n",
    "            y = y_idx * dist_between_points\n",
    "            \n",
    "            xs.append(x)\n",
    "            ys.append(y)\n",
    "            cs.append(\"green\" if outc == 1 else \"red\")\n",
    "            \n",
    "            x_idx += 1\n",
    "            if x_idx > n_points_per_row:\n",
    "                y_idx += 1\n",
    "                x_idx = 0\n",
    "        \n",
    "        return {\"x\": xs, \"y\": ys, c: \"cs\"}\n",
    "    \n",
    "    ax.set_data(draws_to_points)\n",
    "    \n",
    "#     # Initialization function: plot the background of each frame\n",
    "#     def init():\n",
    "#         scatter.set_data(x=[], y=[], c=[])\n",
    "#         draws = []\n",
    "#         return line,\n",
    "\n",
    "#     # Animation function which updates figure data.  This is called sequentially\n",
    "#     def animate(i):\n",
    "#         line.set_data(x, u[i,:])\n",
    "#         return line,\n",
    "\n",
    "#     # Call the animator.  blit=True means only re-draw the parts that have changed.\n",
    "#     anim = animation.FuncAnimation(fig, animate, init_func=init,\n",
    "#                                    frames=Nt, interval=20, blit=True)\n",
    "\n",
    "#     plt.close(anim._fig)\n",
    "\n",
    "#     # Call function to display the animation\n",
    "#     HTML(anim.to_html5_video())"
   ]
  },
  {
   "cell_type": "code",
   "execution_count": 15,
   "metadata": {},
   "outputs": [
    {
     "name": "stdout",
     "output_type": "stream",
     "text": [
      "[<matplotlib.lines.Line2D object at 0x7f5926406cf8>]\n"
     ]
    },
    {
     "ename": "AttributeError",
     "evalue": "'AxesSubplot' object has no attribute 'set_data'",
     "output_type": "error",
     "traceback": [
      "\u001b[0;31m---------------------------------------------------------------------------\u001b[0m",
      "\u001b[0;31mAttributeError\u001b[0m                            Traceback (most recent call last)",
      "\u001b[0;32m<ipython-input-15-45046210c103>\u001b[0m in \u001b[0;36m<module>\u001b[0;34m\u001b[0m\n\u001b[0;32m----> 1\u001b[0;31m \u001b[0mcalibration_example\u001b[0m\u001b[0;34m(\u001b[0m\u001b[0;34m\"calibrated\"\u001b[0m\u001b[0;34m)\u001b[0m\u001b[0;34m\u001b[0m\u001b[0;34m\u001b[0m\u001b[0m\n\u001b[0m",
      "\u001b[0;32m<ipython-input-14-afe330ef96db>\u001b[0m in \u001b[0;36mcalibration_example\u001b[0;34m(forecaster)\u001b[0m\n\u001b[1;32m     45\u001b[0m         \u001b[0;32mreturn\u001b[0m \u001b[0;34m{\u001b[0m\u001b[0;34m\"x\"\u001b[0m\u001b[0;34m:\u001b[0m \u001b[0mxs\u001b[0m\u001b[0;34m,\u001b[0m \u001b[0;34m\"y\"\u001b[0m\u001b[0;34m:\u001b[0m \u001b[0mys\u001b[0m\u001b[0;34m,\u001b[0m \u001b[0mc\u001b[0m\u001b[0;34m:\u001b[0m \u001b[0;34m\"cs\"\u001b[0m\u001b[0;34m}\u001b[0m\u001b[0;34m\u001b[0m\u001b[0;34m\u001b[0m\u001b[0m\n\u001b[1;32m     46\u001b[0m \u001b[0;34m\u001b[0m\u001b[0m\n\u001b[0;32m---> 47\u001b[0;31m     \u001b[0max\u001b[0m\u001b[0;34m.\u001b[0m\u001b[0mset_data\u001b[0m\u001b[0;34m(\u001b[0m\u001b[0mdraws_to_points\u001b[0m\u001b[0;34m)\u001b[0m\u001b[0;34m\u001b[0m\u001b[0;34m\u001b[0m\u001b[0m\n\u001b[0m\u001b[1;32m     48\u001b[0m \u001b[0;34m\u001b[0m\u001b[0m\n\u001b[1;32m     49\u001b[0m \u001b[0;31m#     # Initialization function: plot the background of each frame\u001b[0m\u001b[0;34m\u001b[0m\u001b[0;34m\u001b[0m\u001b[0;34m\u001b[0m\u001b[0m\n",
      "\u001b[0;31mAttributeError\u001b[0m: 'AxesSubplot' object has no attribute 'set_data'"
     ]
    },
    {
     "data": {
      "image/png": "[encoded data removed]",
      "text/plain": [
       "<Figure size 432x288 with 1 Axes>"
      ]
     },
     "metadata": {
      "needs_background": "light"
     },
     "output_type": "display_data"
    }
   ],
   "source": [
    "calibration_example(\"calibrated\")"
   ]
  }
 ],
 "metadata": {
  "celltoolbar": "Slideshow",
  "kernelspec": {
   "display_name": "Python 3",
   "language": "python",
   "name": "python3"
  },
  "language_info": {
   "codemirror_mode": {
    "name": "ipython",
    "version": 3
   },
   "file_extension": ".py",
   "mimetype": "text/x-python",
   "name": "python",
   "nbconvert_exporter": "python",
   "pygments_lexer": "ipython3",
   "version": "3.7.3"
  }
 },
 "nbformat": 4,
 "nbformat_minor": 2
}
