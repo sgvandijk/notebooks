{
 "cells": [
  {
   "cell_type": "markdown",
   "metadata": {
    "slideshow": {
     "slide_type": "slide"
    }
   },
   "source": [
    "# Python Workshop\n",
    "## Session 3 - Classes & Objects, Python Standard Library\n",
    "<br><br><br><br>\n",
    "Sander van Dijk<br>\n",
    "16 January 2020"
   ]
  },
  {
   "cell_type": "markdown",
   "metadata": {
    "slideshow": {
     "slide_type": "slide"
    }
   },
   "source": [
    "# Classes and Objects\n",
    "## _Even More_ Encapsulation, Abstraction, Reuse"
   ]
  },
  {
   "cell_type": "markdown",
   "metadata": {
    "ExecuteTime": {
     "end_time": "2020-01-15T19:08:38.218493Z",
     "start_time": "2020-01-15T19:08:38.214673Z"
    },
    "slideshow": {
     "slide_type": "slide"
    }
   },
   "source": [
    "# Objects: encapsulated data/state with associated functionality\n",
    "* Put functions and the data they work on together in one entity\n",
    "* Create multiple instances of the same data + functionality that don't conflict\n",
    "* Actually: _everything in Python is an object_ - ints, strings, functions, lists...\n",
    "* Terminology\n",
    "    * _member data_ - data encapsulated by object\n",
    "    * _methods_ - functions attached to an object\n",
    "    * _attributes_ - members and methods, 'anything after a dot'"
   ]
  },
  {
   "cell_type": "code",
   "execution_count": 1,
   "metadata": {
    "ExecuteTime": {
     "end_time": "2020-01-16T12:57:41.358959Z",
     "start_time": "2020-01-16T12:57:41.354474Z"
    },
    "slideshow": {
     "slide_type": "fragment"
    }
   },
   "outputs": [
    {
     "name": "stdout",
     "output_type": "stream",
     "text": [
      "16\n",
      "737440\n"
     ]
    }
   ],
   "source": [
    "from datetime import datetime\n",
    "my_now = datetime.now()\n",
    "print(my_now.day)\n",
    "print(my_now.toordinal())"
   ]
  },
  {
   "cell_type": "markdown",
   "metadata": {
    "slideshow": {
     "slide_type": "slide"
    }
   },
   "source": [
    "  # Classes: object templates\n",
    "* Classes are _recipes_ for creating objects, objects are _instances_ of a class\n",
    "* Defines what member data and functions they will have\n",
    "* Determines how they are initialised\n",
    "* Can provide more general helper methods (class attributes)"
   ]
  },
  {
   "cell_type": "code",
   "execution_count": 2,
   "metadata": {
    "ExecuteTime": {
     "end_time": "2020-01-16T12:57:41.366072Z",
     "start_time": "2020-01-16T12:57:41.360918Z"
    }
   },
   "outputs": [
    {
     "name": "stdout",
     "output_type": "stream",
     "text": [
      "<class 'datetime.datetime'>\n",
      "<class 'datetime.datetime'>\n"
     ]
    }
   ],
   "source": [
    "# Find out of what class an object is\n",
    "print(my_now.__class__)\n",
    "print(type(my_now))"
   ]
  },
  {
   "cell_type": "markdown",
   "metadata": {
    "slideshow": {
     "slide_type": "slide"
    }
   },
   "source": [
    "# Class example 1/3"
   ]
  },
  {
   "cell_type": "code",
   "execution_count": 3,
   "metadata": {
    "ExecuteTime": {
     "end_time": "2020-01-16T12:57:41.373306Z",
     "start_time": "2020-01-16T12:57:41.369299Z"
    }
   },
   "outputs": [],
   "source": [
    "from typing import Optional\n",
    "\n",
    "class Animal:\n",
    "    \"\"\"An animal is a living organism\"\"\"\n",
    "    \n",
    "    def __init__(self, name: str = \"dog\"):\n",
    "        # _name is a member variable\n",
    "        # `_` indicates it shouldn't be used outside of class\n",
    "        self._name = name\n",
    "    \n",
    "    def make_sound(self) -> Optional[str]:\n",
    "        \"\"\"Method that returns the sound that an animal makes\"\"\"\n",
    "        if self._name == \"cat\":\n",
    "            return \"meow\"\n",
    "        elif self._name == \"dog\":\n",
    "            return \"woof\"\n",
    "        else:\n",
    "            return None"
   ]
  },
  {
   "cell_type": "markdown",
   "metadata": {
    "slideshow": {
     "slide_type": "slide"
    }
   },
   "source": [
    "# Class example 2/3"
   ]
  },
  {
   "cell_type": "code",
   "execution_count": 4,
   "metadata": {
    "ExecuteTime": {
     "end_time": "2020-01-16T12:57:41.380350Z",
     "start_time": "2020-01-16T12:57:41.374717Z"
    },
    "scrolled": false,
    "slideshow": {
     "slide_type": "-"
    }
   },
   "outputs": [
    {
     "name": "stdout",
     "output_type": "stream",
     "text": [
      "Help on class Animal in module __main__:\n",
      "\n",
      "class Animal(builtins.object)\n",
      " |  Animal(name: str = 'dog')\n",
      " |  \n",
      " |  An animal is a living organism\n",
      " |  \n",
      " |  Methods defined here:\n",
      " |  \n",
      " |  __init__(self, name: str = 'dog')\n",
      " |      Initialize self.  See help(type(self)) for accurate signature.\n",
      " |  \n",
      " |  make_sound(self) -> Union[str, NoneType]\n",
      " |      Method that returns the sound that an animal makes\n",
      " |  \n",
      " |  ----------------------------------------------------------------------\n",
      " |  Data descriptors defined here:\n",
      " |  \n",
      " |  __dict__\n",
      " |      dictionary for instance variables (if defined)\n",
      " |  \n",
      " |  __weakref__\n",
      " |      list of weak references to the object (if defined)\n",
      "\n"
     ]
    }
   ],
   "source": [
    "help(Animal)"
   ]
  },
  {
   "cell_type": "markdown",
   "metadata": {
    "slideshow": {
     "slide_type": "slide"
    }
   },
   "source": [
    "# Class example 3/3"
   ]
  },
  {
   "cell_type": "code",
   "execution_count": 5,
   "metadata": {
    "ExecuteTime": {
     "end_time": "2020-01-16T12:57:41.388341Z",
     "start_time": "2020-01-16T12:57:41.381735Z"
    }
   },
   "outputs": [
    {
     "data": {
      "text/plain": [
       "__main__.Animal"
      ]
     },
     "execution_count": 5,
     "metadata": {},
     "output_type": "execute_result"
    }
   ],
   "source": [
    "kay = Animal(\"dog\")\n",
    "luna = Animal(\"cat\")\n",
    "bailey = Animal(\"rabbit\")\n",
    "type(bailey)"
   ]
  },
  {
   "cell_type": "code",
   "execution_count": 6,
   "metadata": {
    "ExecuteTime": {
     "end_time": "2020-01-16T12:57:41.392461Z",
     "start_time": "2020-01-16T12:57:41.389557Z"
    },
    "slideshow": {
     "slide_type": "fragment"
    }
   },
   "outputs": [
    {
     "name": "stdout",
     "output_type": "stream",
     "text": [
      "woof\n",
      "meow\n",
      "None\n"
     ]
    }
   ],
   "source": [
    "print(kay.make_sound())\n",
    "print(luna.make_sound())\n",
    "print(bailey.make_sound())"
   ]
  },
  {
   "cell_type": "markdown",
   "metadata": {
    "slideshow": {
     "slide_type": "slide"
    }
   },
   "source": [
    "# Class variables and methods\n",
    "* Attached to a class instead of an instance\n",
    "* Use case: 'factory' functions that help create objects"
   ]
  },
  {
   "cell_type": "code",
   "execution_count": 7,
   "metadata": {
    "ExecuteTime": {
     "end_time": "2020-01-16T12:57:41.397184Z",
     "start_time": "2020-01-16T12:57:41.393607Z"
    }
   },
   "outputs": [],
   "source": [
    "class Animal:\n",
    "    n_good_boys = 0\n",
    "    \n",
    "    def __init__(self, name: str):\n",
    "        self._name = name\n",
    "    \n",
    "    def get_name(self) -> str:\n",
    "        return self._name\n",
    "    \n",
    "    @classmethod\n",
    "    def create_good_boy(cls):\n",
    "        print(cls)\n",
    "        cls.n_good_boys += 1\n",
    "        return cls(\"dog\")"
   ]
  },
  {
   "cell_type": "code",
   "execution_count": 8,
   "metadata": {
    "ExecuteTime": {
     "end_time": "2020-01-16T12:57:41.402195Z",
     "start_time": "2020-01-16T12:57:41.399295Z"
    },
    "slideshow": {
     "slide_type": "fragment"
    }
   },
   "outputs": [
    {
     "name": "stdout",
     "output_type": "stream",
     "text": [
      "<class '__main__.Animal'>\n",
      "dog\n",
      "1\n"
     ]
    }
   ],
   "source": [
    "buddy = Animal.create_good_boy()\n",
    "cito = Animal(\"hamster\")\n",
    "print(buddy.get_name())\n",
    "print(Animal.n_good_boys)"
   ]
  },
  {
   "cell_type": "markdown",
   "metadata": {
    "slideshow": {
     "slide_type": "slide"
    }
   },
   "source": [
    "# Static methods 1/2\n",
    "* Methods that don't require a reference to object (`self`) or class (`cls`)\n",
    "* Use case: utility functions"
   ]
  },
  {
   "cell_type": "code",
   "execution_count": 9,
   "metadata": {
    "ExecuteTime": {
     "end_time": "2020-01-16T12:57:41.406511Z",
     "start_time": "2020-01-16T12:57:41.403544Z"
    }
   },
   "outputs": [],
   "source": [
    "class Person:\n",
    "    \n",
    "    def __init__(self, name: str):\n",
    "        # _name is a member variable\n",
    "        # `_` indicates it shouldn't be used outside of class\n",
    "        self._name = name\n",
    "    \n",
    "    def get_name(self) -> str:\n",
    "        return self._name\n",
    "    \n",
    "    @staticmethod\n",
    "    def is_adult(age: int) -> bool:\n",
    "        return age >= 18"
   ]
  },
  {
   "cell_type": "code",
   "execution_count": 10,
   "metadata": {
    "ExecuteTime": {
     "end_time": "2020-01-16T12:57:41.412119Z",
     "start_time": "2020-01-16T12:57:41.407534Z"
    },
    "slideshow": {
     "slide_type": "fragment"
    }
   },
   "outputs": [
    {
     "data": {
      "text/plain": [
       "True"
      ]
     },
     "execution_count": 10,
     "metadata": {},
     "output_type": "execute_result"
    }
   ],
   "source": [
    "sander = Person(\"Sander\")\n",
    "Person.is_adult(age=26)"
   ]
  },
  {
   "cell_type": "markdown",
   "metadata": {
    "slideshow": {
     "slide_type": "slide"
    }
   },
   "source": [
    "# Static methods 2/2\n",
    "* Use sparingly; alternative: just define function separately"
   ]
  },
  {
   "cell_type": "code",
   "execution_count": 11,
   "metadata": {
    "ExecuteTime": {
     "end_time": "2020-01-16T12:57:41.417530Z",
     "start_time": "2020-01-16T12:57:41.413193Z"
    },
    "slideshow": {
     "slide_type": "fragment"
    }
   },
   "outputs": [
    {
     "data": {
      "text/plain": [
       "True"
      ]
     },
     "execution_count": 11,
     "metadata": {},
     "output_type": "execute_result"
    }
   ],
   "source": [
    "class Person:\n",
    "    \n",
    "    def __init__(self, name: str):\n",
    "        # _name is a member variable\n",
    "        # `_` indicates it shouldn't be used outside of class\n",
    "        self._name = name\n",
    "    \n",
    "    def get_name(self) -> str:\n",
    "        return self._name\n",
    "    \n",
    "def is_adult(age: int) -> bool:\n",
    "    return age >= 18\n",
    "\n",
    "sander = Person(\"Sander\")\n",
    "is_adult(age=26)"
   ]
  },
  {
   "cell_type": "markdown",
   "metadata": {
    "slideshow": {
     "slide_type": "slide"
    }
   },
   "source": [
    "# Inheritance\n",
    "* Type hierarchy to reflect common reusable base in classes\n",
    "* Hide sub-class specific implementation details"
   ]
  },
  {
   "cell_type": "code",
   "execution_count": 12,
   "metadata": {
    "ExecuteTime": {
     "end_time": "2020-01-16T12:57:41.423296Z",
     "start_time": "2020-01-16T12:57:41.419062Z"
    },
    "slideshow": {
     "slide_type": "fragment"
    }
   },
   "outputs": [],
   "source": [
    "class Animal:\n",
    "    def make_sound(self):\n",
    "        return None\n",
    "\n",
    "class Dog(Animal):\n",
    "    def make_sound(self):\n",
    "        return \"woof\"\n",
    "\n",
    "class Cat(Animal):\n",
    "    def make_sound(self):\n",
    "        return \"meow\"\n",
    "\n",
    "class Tiger(Cat):\n",
    "    def make_sound(self):\n",
    "        return \"roar\""
   ]
  },
  {
   "cell_type": "code",
   "execution_count": 13,
   "metadata": {
    "ExecuteTime": {
     "end_time": "2020-01-16T12:57:41.429457Z",
     "start_time": "2020-01-16T12:57:41.424687Z"
    },
    "slideshow": {
     "slide_type": "fragment"
    }
   },
   "outputs": [
    {
     "name": "stdout",
     "output_type": "stream",
     "text": [
      "woof\n",
      "<class '__main__.Tiger'>\n",
      "True\n"
     ]
    }
   ],
   "source": [
    "kay = Dog()\n",
    "luna = Tiger()\n",
    "print(kay.make_sound())\n",
    "print(type(luna))\n",
    "print(isinstance(luna, Tiger))"
   ]
  },
  {
   "cell_type": "markdown",
   "metadata": {
    "slideshow": {
     "slide_type": "slide"
    }
   },
   "source": [
    "# Decorators\n",
    "## Wrapping functionality in functions"
   ]
  },
  {
   "cell_type": "markdown",
   "metadata": {
    "slideshow": {
     "slide_type": "slide"
    }
   },
   "source": [
    "# Decorators 1/2\n",
    "* Decorators allow you to give functions special behaviour\n",
    "* Functions that can wrap other functions and access arguments and return values"
   ]
  },
  {
   "cell_type": "code",
   "execution_count": 14,
   "metadata": {
    "ExecuteTime": {
     "end_time": "2020-01-16T12:57:41.433368Z",
     "start_time": "2020-01-16T12:57:41.430646Z"
    },
    "slideshow": {
     "slide_type": "fragment"
    }
   },
   "outputs": [],
   "source": [
    "def check_positive(func):\n",
    "    def wrapper(arg: int):\n",
    "        if arg < 0:\n",
    "            arg = 0\n",
    "        return func(arg)\n",
    "    return wrapper"
   ]
  },
  {
   "cell_type": "code",
   "execution_count": 15,
   "metadata": {
    "ExecuteTime": {
     "end_time": "2020-01-16T12:57:41.437953Z",
     "start_time": "2020-01-16T12:57:41.434580Z"
    },
    "slideshow": {
     "slide_type": "fragment"
    }
   },
   "outputs": [
    {
     "name": "stdout",
     "output_type": "stream",
     "text": [
      "2\n",
      "1\n"
     ]
    }
   ],
   "source": [
    "@check_positive\n",
    "def print_number(arg: int):\n",
    "    print(arg)\n",
    "\n",
    "@check_positive\n",
    "def increment(arg: int):\n",
    "    return arg + 1\n",
    "\n",
    "print(increment(1))\n",
    "print(increment(-2))"
   ]
  },
  {
   "cell_type": "markdown",
   "metadata": {
    "slideshow": {
     "slide_type": "slide"
    }
   },
   "source": [
    "# Decorators 2/2\n",
    "* Equivalent to replacing function by wrapped version"
   ]
  },
  {
   "cell_type": "code",
   "execution_count": 16,
   "metadata": {
    "ExecuteTime": {
     "end_time": "2020-01-16T12:57:41.444041Z",
     "start_time": "2020-01-16T12:57:41.439170Z"
    },
    "slideshow": {
     "slide_type": "fragment"
    }
   },
   "outputs": [
    {
     "name": "stdout",
     "output_type": "stream",
     "text": [
      "1\n",
      "0\n"
     ]
    }
   ],
   "source": [
    "def check_positive(func):\n",
    "    def inner(arg: int):\n",
    "        if arg < 0:\n",
    "            arg = 0\n",
    "        return func(arg)\n",
    "    return inner\n",
    "\n",
    "def print_number(arg: int):\n",
    "    print(arg)\n",
    "\n",
    "print_number = check_positive(print_number)\n",
    "\n",
    "print_number(1)\n",
    "print_number(-2)"
   ]
  },
  {
   "cell_type": "markdown",
   "metadata": {
    "slideshow": {
     "slide_type": "slide"
    }
   },
   "source": [
    "# Decorator example: caching results"
   ]
  },
  {
   "cell_type": "code",
   "execution_count": 17,
   "metadata": {
    "ExecuteTime": {
     "end_time": "2020-01-16T12:57:41.451212Z",
     "start_time": "2020-01-16T12:57:41.445876Z"
    }
   },
   "outputs": [
    {
     "name": "stdout",
     "output_type": "stream",
     "text": [
      "Just do it!\n",
      "1\n",
      "1\n"
     ]
    }
   ],
   "source": [
    "from functools import lru_cache\n",
    "\n",
    "class Foo:\n",
    "    @lru_cache()\n",
    "    def doit(self):\n",
    "        print(\"Just do it!\")\n",
    "        return 1\n",
    "\n",
    "foo = Foo()\n",
    "print(foo.doit())\n",
    "print(foo.doit())"
   ]
  },
  {
   "cell_type": "markdown",
   "metadata": {
    "slideshow": {
     "slide_type": "slide"
    }
   },
   "source": [
    "# Python Standard Library\n",
    "## All batteries included"
   ]
  },
  {
   "cell_type": "markdown",
   "metadata": {
    "slideshow": {
     "slide_type": "slide"
    }
   },
   "source": [
    "# Standard library\n",
    "* Large collection of packages and modules provided with Python\n",
    "\n",
    "### <center>https://docs.python.org/3/library/</center>"
   ]
  },
  {
   "cell_type": "markdown",
   "metadata": {
    "slideshow": {
     "slide_type": "slide"
    }
   },
   "source": [
    "# Intermezzo: `dict`"
   ]
  },
  {
   "cell_type": "code",
   "execution_count": 18,
   "metadata": {
    "ExecuteTime": {
     "end_time": "2020-01-16T12:57:41.459439Z",
     "start_time": "2020-01-16T12:57:41.452994Z"
    }
   },
   "outputs": [
    {
     "name": "stdout",
     "output_type": "stream",
     "text": [
      "3\n",
      "None\n",
      "-1\n",
      "c: 1\n",
      "b: 2\n",
      "a: 3\n"
     ]
    }
   ],
   "source": [
    "# A dictionary is a built in container mapping keys to values\n",
    "my_dict = {\"c\": 1, \"b\": 2, \"a\": 3}\n",
    "\n",
    "# Use case: index by other things than index\n",
    "print(my_dict[\"a\"])\n",
    "\n",
    "# Use `get` if you're not certain key is available\n",
    "# print(my_dict[\"d\"])\n",
    "print(my_dict.get(\"d\"))\n",
    "print(my_dict.get(\"d\", -1))\n",
    "\n",
    "# Iteration is over the keys\n",
    "for key in my_dict:\n",
    "    print(f\"{key}: {my_dict[key]}\")"
   ]
  },
  {
   "cell_type": "markdown",
   "metadata": {
    "slideshow": {
     "slide_type": "slide"
    }
   },
   "source": [
    "# `collections` - Beyond built-in containers"
   ]
  },
  {
   "cell_type": "code",
   "execution_count": 19,
   "metadata": {
    "ExecuteTime": {
     "end_time": "2020-01-16T12:57:41.468330Z",
     "start_time": "2020-01-16T12:57:41.462950Z"
    },
    "slideshow": {
     "slide_type": "fragment"
    }
   },
   "outputs": [
    {
     "name": "stdout",
     "output_type": "stream",
     "text": [
      "Person(name='John', age=18, height=1.84)\n",
      "('Alice', 72, 1.67)\n",
      "18\n"
     ]
    }
   ],
   "source": [
    "from collections import namedtuple\n",
    "\n",
    "Person = namedtuple(\"Person\", \"name age height\")\n",
    "\n",
    "john = Person(\"John\", 18, 1.84)\n",
    "alice = (\"Alice\", 72, 1.67)\n",
    "\n",
    "print(john)\n",
    "print(alice)\n",
    "print(john.age)"
   ]
  },
  {
   "cell_type": "code",
   "execution_count": 20,
   "metadata": {
    "ExecuteTime": {
     "end_time": "2020-01-16T12:57:41.476728Z",
     "start_time": "2020-01-16T12:57:41.470647Z"
    },
    "slideshow": {
     "slide_type": "fragment"
    }
   },
   "outputs": [
    {
     "name": "stdout",
     "output_type": "stream",
     "text": [
      "2\n",
      "0\n"
     ]
    }
   ],
   "source": [
    "from collections import defaultdict\n",
    "\n",
    "my_dict = defaultdict(int)\n",
    "my_dict[\"a\"] = 1\n",
    "my_dict[\"b\"] = 2\n",
    "print(my_dict[\"b\"])\n",
    "# Creates default value for missing keys (int() == 0)\n",
    "print(my_dict[\"c\"])"
   ]
  },
  {
   "cell_type": "markdown",
   "metadata": {
    "slideshow": {
     "slide_type": "slide"
    }
   },
   "source": [
    "# `itertools` - Standard iteration utilities"
   ]
  },
  {
   "cell_type": "code",
   "execution_count": 21,
   "metadata": {
    "ExecuteTime": {
     "end_time": "2020-01-16T12:57:41.489140Z",
     "start_time": "2020-01-16T12:57:41.480019Z"
    },
    "slideshow": {
     "slide_type": "fragment"
    }
   },
   "outputs": [
    {
     "name": "stdout",
     "output_type": "stream",
     "text": [
      "10\n",
      "11\n",
      "12\n",
      "13\n"
     ]
    }
   ],
   "source": [
    "from itertools import count, cycle, repeat\n",
    "\n",
    "for i in count(10):  # infinite range\n",
    "    print(i)\n",
    "    if i == 13:\n",
    "        break"
   ]
  },
  {
   "cell_type": "code",
   "execution_count": 22,
   "metadata": {
    "ExecuteTime": {
     "end_time": "2020-01-16T12:57:41.494043Z",
     "start_time": "2020-01-16T12:57:41.490618Z"
    },
    "scrolled": false,
    "slideshow": {
     "slide_type": "fragment"
    }
   },
   "outputs": [
    {
     "name": "stdout",
     "output_type": "stream",
     "text": [
      "1\n",
      "2\n",
      "3\n",
      "1\n"
     ]
    }
   ],
   "source": [
    "j = 0\n",
    "for i in cycle([1, 2, 3]):  # infinite repeating sequence\n",
    "    print(i)\n",
    "    j += 1\n",
    "    if j == 4:\n",
    "        break"
   ]
  },
  {
   "cell_type": "code",
   "execution_count": 23,
   "metadata": {
    "ExecuteTime": {
     "end_time": "2020-01-16T12:57:41.502181Z",
     "start_time": "2020-01-16T12:57:41.497414Z"
    },
    "slideshow": {
     "slide_type": "fragment"
    }
   },
   "outputs": [
    {
     "name": "stdout",
     "output_type": "stream",
     "text": [
      "(0, 10)\n",
      "(2, 10)\n",
      "(3, 10)\n",
      "(4, 10)\n"
     ]
    }
   ],
   "source": [
    "for i in zip([0, 2, 3, 4], repeat(10)):  # infinite repeating item\n",
    "    print(i)"
   ]
  },
  {
   "cell_type": "markdown",
   "metadata": {
    "slideshow": {
     "slide_type": "slide"
    }
   },
   "source": [
    "# `datetime` - Working with dates and time"
   ]
  },
  {
   "cell_type": "code",
   "execution_count": 24,
   "metadata": {
    "ExecuteTime": {
     "end_time": "2020-01-16T12:57:41.508526Z",
     "start_time": "2020-01-16T12:57:41.504054Z"
    },
    "slideshow": {
     "slide_type": "fragment"
    }
   },
   "outputs": [
    {
     "name": "stdout",
     "output_type": "stream",
     "text": [
      "0\n",
      "19\n",
      "2020-04-20 19:00:00\n"
     ]
    }
   ],
   "source": [
    "from datetime import date, time, datetime\n",
    "\n",
    "birthday = date(2020, 4, 20)\n",
    "partytime = time(19, 0)\n",
    "\n",
    "print(birthday.weekday())\n",
    "print(partytime.hour)\n",
    "print(datetime.combine(birthday, partytime))"
   ]
  },
  {
   "cell_type": "code",
   "execution_count": 25,
   "metadata": {
    "ExecuteTime": {
     "end_time": "2020-01-16T12:57:41.519418Z",
     "start_time": "2020-01-16T12:57:41.511385Z"
    },
    "slideshow": {
     "slide_type": "fragment"
    }
   },
   "outputs": [
    {
     "name": "stdout",
     "output_type": "stream",
     "text": [
      "<class 'datetime.timedelta'>\n",
      "95\n"
     ]
    }
   ],
   "source": [
    "days_to_go = birthday - date.today()\n",
    "print(type(days_to_go))\n",
    "print(int(days_to_go.days))"
   ]
  },
  {
   "cell_type": "markdown",
   "metadata": {
    "slideshow": {
     "slide_type": "slide"
    }
   },
   "source": [
    "# `argparse` - Help with command line options\n",
    "\n",
    "### <center>== PyCharm Demo ==</center>"
   ]
  },
  {
   "cell_type": "markdown",
   "metadata": {
    "slideshow": {
     "slide_type": "slide"
    }
   },
   "source": [
    "# `logging` - Nicer way to output what is happening\n",
    "\n",
    "### <center>== PyCharm Demo ==</center>"
   ]
  }
 ],
 "metadata": {
  "celltoolbar": "Slideshow",
  "kernelspec": {
   "display_name": "Python 3",
   "language": "python",
   "name": "python3"
  },
  "language_info": {
   "codemirror_mode": {
    "name": "ipython",
    "version": 3
   },
   "file_extension": ".py",
   "mimetype": "text/x-python",
   "name": "python",
   "nbconvert_exporter": "python",
   "pygments_lexer": "ipython3",
   "version": "3.7.5rc1"
  }
 },
 "nbformat": 4,
 "nbformat_minor": 2
}
