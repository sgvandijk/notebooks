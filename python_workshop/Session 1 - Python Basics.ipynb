{
 "cells": [
  {
   "cell_type": "markdown",
   "metadata": {
    "slideshow": {
     "slide_type": "slide"
    }
   },
   "source": [
    "# Python Workshop\n",
    "## Session 1 - Python Basics\n",
    "<br><br><br><br>\n",
    "Sander van Dijk<br>\n",
    "14 January 2020"
   ]
  },
  {
   "cell_type": "markdown",
   "metadata": {
    "slideshow": {
     "slide_type": "subslide"
    }
   },
   "source": [
    "# Why Python?\n",
    "* There are many programming languages, why use Python and not say PHP, C++, ...?\n",
    "\n",
    "* Python is easy\n",
    "\n",
    "    - Basic syntax is relatively straightforward\n",
    "    - No complex setup needed to get started\n",
    "    - Simple module/package system to build complex frameworks\n",
    "\n",
    "* Python has 'all batteries included'\n",
    "* Python has many 3rd party packages easily available\n",
    "* Many usecases $\\rightarrow$ broad career options"
   ]
  },
  {
   "cell_type": "markdown",
   "metadata": {
    "slideshow": {
     "slide_type": "subslide"
    }
   },
   "source": [
    "# What makes Python different\n",
    "* Syntax - meaningful indentation, no special tokens (`{}`, `;`, `$`, `->`, fewer `()`)\n",
    "* Interpreted $\\rightarrow$ generally slower than compiled language like C++\n",
    "* Much less verbose and faster to write than Java/C++\n",
    "* Not mostly optimised for web like PHP, main language in Data Science"
   ]
  },
  {
   "cell_type": "markdown",
   "metadata": {
    "slideshow": {
     "slide_type": "subslide"
    }
   },
   "source": [
    "# Syntax example"
   ]
  },
  {
   "cell_type": "code",
   "execution_count": 12,
   "metadata": {},
   "outputs": [
    {
     "name": "stdout",
     "output_type": "stream",
     "text": [
      "Got one\n",
      "Hello, world!\n"
     ]
    }
   ],
   "source": [
    "my_var = 1\n",
    "\n",
    "if my_var == 2:\n",
    "    print(\"Got two\")\n",
    "elif my_var == 1:\n",
    "    print(\"Got one\")\n",
    "else:\n",
    "    print(\"Got something else\")\n",
    "\n",
    "class Foo:\n",
    "    def __init__(self):\n",
    "        self.bar = \"Hello, world!\"\n",
    "    \n",
    "    def get_bar(self):\n",
    "        return self.bar\n",
    "\n",
    "my_foo = Foo()\n",
    "print(my_foo.get_bar())"
   ]
  },
  {
   "cell_type": "markdown",
   "metadata": {
    "slideshow": {
     "slide_type": "subslide"
    }
   },
   "source": [
    "# Code style\n",
    "* Should you write `my_var=1` or `my_var = 1`? How many empty lines? Indent 4, 8, 5 spaces?\n",
    "* Style guides help readability, consistency, prevention of certain bugs $\\rightarrow$ not wasting people's time.\n",
    "* Python has a standard style guide accepted and adhered to globally: [PEP 8](https://www.python.org/dev/peps/pep-0008/)"
   ]
  },
  {
   "cell_type": "markdown",
   "metadata": {
    "slideshow": {
     "slide_type": "slide"
    }
   },
   "source": [
    "# Language features"
   ]
  },
  {
   "cell_type": "markdown",
   "metadata": {
    "slideshow": {
     "slide_type": "subslide"
    }
   },
   "source": [
    "# Types in Python\n",
    "\n",
    "Python is _dynamically_ and/but _strongly_ typed\n",
    "\n",
    "* **Dynamic typing** (vs statically)\n",
    "\n",
    "    There is no point before running the code that types are checked by Python. Types for variables, function arguments, return values, etc can not be enforced*. Also called 'duck typing': if something behaves like some type, it can be treated as some type.\n",
    "* **Strong typing** (vs weakly)\n",
    "\n",
    "    Types don't change at runtime, and can not be coerced into each other: the text string `\"1\"` can not be treated like the number `1`."
   ]
  },
  {
   "cell_type": "code",
   "execution_count": 13,
   "metadata": {
    "slideshow": {
     "slide_type": "subslide"
    }
   },
   "outputs": [
    {
     "ename": "TypeError",
     "evalue": "must be str, not int",
     "output_type": "error",
     "traceback": [
      "\u001b[0;31m---------------------------------------------------------------------------\u001b[0m",
      "\u001b[0;31mTypeError\u001b[0m                                 Traceback (most recent call last)",
      "\u001b[0;32m<ipython-input-13-3a8df5e66fc9>\u001b[0m in \u001b[0;36m<module>\u001b[0;34m\u001b[0m\n\u001b[1;32m      1\u001b[0m \u001b[0mmy_str\u001b[0m \u001b[0;34m=\u001b[0m \u001b[0;34m\"1\"\u001b[0m\u001b[0;34m\u001b[0m\u001b[0;34m\u001b[0m\u001b[0m\n\u001b[0;32m----> 2\u001b[0;31m \u001b[0mmy_str\u001b[0m \u001b[0;34m+\u001b[0m \u001b[0;36m1\u001b[0m\u001b[0;34m\u001b[0m\u001b[0;34m\u001b[0m\u001b[0m\n\u001b[0m",
      "\u001b[0;31mTypeError\u001b[0m: must be str, not int"
     ]
    }
   ],
   "source": [
    "my_str = \"1\"\n",
    "my_str + 1"
   ]
  },
  {
   "cell_type": "markdown",
   "metadata": {
    "slideshow": {
     "slide_type": "subslide"
    }
   },
   "source": [
    "# Type hinting\n",
    "In latest versions of Python you _can_ specify types:"
   ]
  },
  {
   "cell_type": "code",
   "execution_count": 17,
   "metadata": {},
   "outputs": [
    {
     "name": "stdout",
     "output_type": "stream",
     "text": [
      "Argument type: <class 'int'>\n",
      "1\n"
     ]
    }
   ],
   "source": [
    "def foo(arg: int) -> str:\n",
    "    \"\"\"Expect an integer and return it formatted as a string\"\"\"\n",
    "    print(f\"Argument type: {type(arg)}\")\n",
    "    return str(arg)\n",
    "\n",
    "print(foo(1))"
   ]
  },
  {
   "cell_type": "markdown",
   "metadata": {
    "slideshow": {
     "slide_type": "-"
    }
   },
   "source": [
    "At runtime this..."
   ]
  },
  {
   "cell_type": "markdown",
   "metadata": {
    "slideshow": {
     "slide_type": "fragment"
    }
   },
   "source": [
    "does nothing!"
   ]
  },
  {
   "cell_type": "code",
   "execution_count": 18,
   "metadata": {},
   "outputs": [
    {
     "name": "stdout",
     "output_type": "stream",
     "text": [
      "Argument type: <class 'str'>\n",
      "bar\n"
     ]
    }
   ],
   "source": [
    "print(foo(\"bar\"))"
   ]
  },
  {
   "cell_type": "markdown",
   "metadata": {
    "slideshow": {
     "slide_type": "subslide"
    }
   },
   "source": [
    "# Why the hassle of type hinting?\n",
    "* Type checking while writing code (in proper editors/IDEs)\n",
    "* Code completion\n",
    "* Can have static checking in automatic test pipeline: [mypy](http://mypy-lang.org/)\n",
    "\n",
    "### <center>= PyCharm Demo =</center>"
   ]
  },
  {
   "cell_type": "markdown",
   "metadata": {
    "slideshow": {
     "slide_type": "subslide"
    }
   },
   "source": [
    "# More complex types\n",
    "## Tuples, Lists, Sets, Iterating, Generators"
   ]
  },
  {
   "cell_type": "markdown",
   "metadata": {
    "slideshow": {
     "slide_type": "subslide"
    }
   },
   "source": [
    "# Tuples: Fixed length immutable sequence of items"
   ]
  },
  {
   "cell_type": "code",
   "execution_count": 1,
   "metadata": {},
   "outputs": [
    {
     "name": "stdout",
     "output_type": "stream",
     "text": [
      "3\n",
      "1\n",
      "3.1417\n",
      "a\n"
     ]
    },
    {
     "ename": "TypeError",
     "evalue": "'tuple' object does not support item assignment",
     "output_type": "error",
     "traceback": [
      "\u001b[0;31m---------------------------------------------------------------------------\u001b[0m",
      "\u001b[0;31mTypeError\u001b[0m                                 Traceback (most recent call last)",
      "\u001b[0;32m<ipython-input-1-ad38d25c7f9d>\u001b[0m in \u001b[0;36m<module>\u001b[0;34m\u001b[0m\n\u001b[1;32m     14\u001b[0m \u001b[0;34m\u001b[0m\u001b[0m\n\u001b[1;32m     15\u001b[0m \u001b[0;31m# You **cannot** change the elements\u001b[0m\u001b[0;34m\u001b[0m\u001b[0;34m\u001b[0m\u001b[0;34m\u001b[0m\u001b[0m\n\u001b[0;32m---> 16\u001b[0;31m \u001b[0mfoo\u001b[0m\u001b[0;34m[\u001b[0m\u001b[0;36m0\u001b[0m\u001b[0;34m]\u001b[0m \u001b[0;34m=\u001b[0m \u001b[0;36m2\u001b[0m\u001b[0;34m\u001b[0m\u001b[0;34m\u001b[0m\u001b[0m\n\u001b[0m",
      "\u001b[0;31mTypeError\u001b[0m: 'tuple' object does not support item assignment"
     ]
    }
   ],
   "source": [
    "# Syntax: comma separated list in brackets\n",
    "foo = (1, \"a\", 3.1417)\n",
    "\n",
    "# You can ask for its length\n",
    "print(len(foo))\n",
    "\n",
    "# You can access individual elements by indexing:\n",
    "print(foo[0])\n",
    "print(foo[2])\n",
    "\n",
    "# You can unpack a tuple\n",
    "my_int, my_str, my_float = foo\n",
    "print(my_str)\n",
    "\n",
    "# You **cannot** change the elements\n",
    "foo[0] = 2"
   ]
  },
  {
   "cell_type": "markdown",
   "metadata": {
    "slideshow": {
     "slide_type": "subslide"
    }
   },
   "source": [
    "# Tuples: Fixed length immutable sequence of items\n",
    "\n",
    "* Tuples are a combination of multiple values/objects, possibly of different types\n",
    "* Some use-cases:\n",
    "\n",
    "    * Make explicit that some values belong together\n",
    "    * Returning multiple values from a function\n",
    "\n",
    "* Limit use where meaning/order of values can be confusing (hint: this is almost all the time. Instead:\n",
    "\n",
    "    * Separate named (and typed) function arguments\n",
    "    * Combine in a class with named members and helper methods\n",
    "    * Use [`namedtuple`](https://docs.python.org/3.6/library/collections.html#collections.namedtuple)"
   ]
  },
  {
   "cell_type": "code",
   "execution_count": 2,
   "metadata": {},
   "outputs": [],
   "source": [
    "# Bad: user has to figure out what should be in the tuple and can easily get order wrong\n",
    "# At the very least clear documentation should be added\n",
    "def foo(args):\n",
    "    my_int, my_str, my_float = args\n",
    "    print(my_str)\n",
    "\n",
    "# Good\n",
    "def foo(my_int, my_str, my_float):\n",
    "    print(my_str)    "
   ]
  },
  {
   "cell_type": "markdown",
   "metadata": {
    "slideshow": {
     "slide_type": "subslide"
    }
   },
   "source": [
    "# Lists: variable length mutable sequence of items"
   ]
  },
  {
   "cell_type": "code",
   "execution_count": 3,
   "metadata": {},
   "outputs": [
    {
     "name": "stdout",
     "output_type": "stream",
     "text": [
      "3\n",
      "1\n",
      "3.1417\n",
      "a\n",
      "[2, 'a', 3.1417, (1, 2, 3)]\n"
     ]
    }
   ],
   "source": [
    "# Syntax: comma separated list in square brackets\n",
    "foo = [1, \"a\", 3.1417]\n",
    "\n",
    "# You can ask for its length\n",
    "print(len(foo))\n",
    "\n",
    "# You can access individual elements by indexing:\n",
    "print(foo[0])\n",
    "print(foo[2])\n",
    "\n",
    "# You can unpack a list\n",
    "my_int, my_str, my_float = foo\n",
    "print(my_str)\n",
    "\n",
    "# You **can** change the elements\n",
    "foo[0] = 2\n",
    "\n",
    "# You can alter the number of elements\n",
    "foo.append((1, 2, 3))\n",
    "print(foo)"
   ]
  },
  {
   "cell_type": "markdown",
   "metadata": {
    "slideshow": {
     "slide_type": "subslide"
    }
   },
   "source": [
    "# Sets: variable length mutable sequence of unique items"
   ]
  },
  {
   "cell_type": "code",
   "execution_count": 10,
   "metadata": {},
   "outputs": [
    {
     "name": "stdout",
     "output_type": "stream",
     "text": [
      "3\n"
     ]
    },
    {
     "ename": "TypeError",
     "evalue": "'set' object does not support indexing",
     "output_type": "error",
     "traceback": [
      "\u001b[0;31m---------------------------------------------------------------------------\u001b[0m",
      "\u001b[0;31mTypeError\u001b[0m                                 Traceback (most recent call last)",
      "\u001b[0;32m<ipython-input-10-e9f1d4a6b800>\u001b[0m in \u001b[0;36m<module>\u001b[0;34m\u001b[0m\n\u001b[1;32m      6\u001b[0m \u001b[0;34m\u001b[0m\u001b[0m\n\u001b[1;32m      7\u001b[0m \u001b[0;31m# Sets have no order, so you **cannot** access individual elements by indexing:\u001b[0m\u001b[0;34m\u001b[0m\u001b[0;34m\u001b[0m\u001b[0;34m\u001b[0m\u001b[0m\n\u001b[0;32m----> 8\u001b[0;31m \u001b[0mprint\u001b[0m\u001b[0;34m(\u001b[0m\u001b[0mfoo\u001b[0m\u001b[0;34m[\u001b[0m\u001b[0;36m0\u001b[0m\u001b[0;34m]\u001b[0m\u001b[0;34m)\u001b[0m\u001b[0;34m\u001b[0m\u001b[0;34m\u001b[0m\u001b[0m\n\u001b[0m\u001b[1;32m      9\u001b[0m \u001b[0;34m\u001b[0m\u001b[0m\n\u001b[1;32m     10\u001b[0m \u001b[0;31m# This means you cannot unpack a set either\u001b[0m\u001b[0;34m\u001b[0m\u001b[0;34m\u001b[0m\u001b[0;34m\u001b[0m\u001b[0m\n",
      "\u001b[0;31mTypeError\u001b[0m: 'set' object does not support indexing"
     ]
    }
   ],
   "source": [
    "# Syntax: comma separated list in curly brackets\n",
    "foo = {1, \"a\", 3.1417}\n",
    "\n",
    "# You can ask for its length\n",
    "print(len(foo))\n",
    "\n",
    "# Sets have no order, so you **cannot** access individual elements by indexing:\n",
    "print(foo[0])\n",
    "\n",
    "# This means you cannot unpack a set either\n",
    "my_int, my_str, my_float = foo\n",
    "\n",
    "# You can alter the number of elements\n",
    "foo.add((1, 2, 3))\n",
    "print(foo)\n",
    "\n",
    "# Elements will always be unique\n",
    "foo.add(1)\n",
    "print(foo)"
   ]
  },
  {
   "cell_type": "markdown",
   "metadata": {
    "slideshow": {
     "slide_type": "subslide"
    }
   },
   "source": [
    "# Tuple $\\leftrightarrow$ List $\\leftrightarrow$ Set"
   ]
  },
  {
   "cell_type": "code",
   "execution_count": 13,
   "metadata": {},
   "outputs": [
    {
     "name": "stdout",
     "output_type": "stream",
     "text": [
      "(1, 3.1417, 'a')\n"
     ]
    }
   ],
   "source": [
    "my_tuple = (1, \"a\", 3.1417, 1)\n",
    "\n",
    "# If you need list functionality, easy to create on from a tuple:\n",
    "my_list = list(my_tuple)\n",
    "\n",
    "# Or to a set (also works from my_list)\n",
    "my_set = set(my_tuple)\n",
    "\n",
    "# And back to tuple\n",
    "my_new_tuple = tuple(my_set)\n",
    "\n",
    "print(my_new_tuple)"
   ]
  },
  {
   "cell_type": "markdown",
   "metadata": {
    "slideshow": {
     "slide_type": "fragment"
    }
   },
   "source": [
    "* Converting to a set is an easy and efficient way to remove duplicate values."
   ]
  },
  {
   "cell_type": "markdown",
   "metadata": {
    "slideshow": {
     "slide_type": "subslide"
    }
   },
   "source": [
    "# Iterating over elements\n",
    "\n",
    "You can easily iterate over elements in a list/tuple/set:"
   ]
  },
  {
   "cell_type": "code",
   "execution_count": 16,
   "metadata": {},
   "outputs": [
    {
     "name": "stdout",
     "output_type": "stream",
     "text": [
      "List:\n",
      "1\n",
      "a\n",
      "3.1417\n",
      "1\n",
      "Set:\n",
      "1\n",
      "3.1417\n",
      "a\n"
     ]
    }
   ],
   "source": [
    "my_list = [1, \"a\", 3.1417, 1]\n",
    "\n",
    "# Assign each item to 'element' in order\n",
    "print(\"List:\")\n",
    "for element in my_list:\n",
    "    print(element)\n",
    "\n",
    "print(\"Set:\")\n",
    "for element in set(my_list):\n",
    "    print(element)"
   ]
  },
  {
   "cell_type": "markdown",
   "metadata": {
    "slideshow": {
     "slide_type": "subslide"
    }
   },
   "source": [
    "# Use `range` to create sequences of incrementing numbers"
   ]
  },
  {
   "cell_type": "code",
   "execution_count": 25,
   "metadata": {},
   "outputs": [
    {
     "name": "stdout",
     "output_type": "stream",
     "text": [
      "0\n",
      "1\n",
      "2\n"
     ]
    }
   ],
   "source": [
    "# One argument: count this many numbers (starting at 0 and up to n - 1)\n",
    "for i in range(3):\n",
    "    print(i)"
   ]
  },
  {
   "cell_type": "code",
   "execution_count": 26,
   "metadata": {
    "slideshow": {
     "slide_type": "fragment"
    }
   },
   "outputs": [
    {
     "name": "stdout",
     "output_type": "stream",
     "text": [
      "2\n",
      "3\n",
      "4\n"
     ]
    }
   ],
   "source": [
    "# Two arguments: start counting from first argument\n",
    "for j in range(2, 5):\n",
    "    print(j)"
   ]
  },
  {
   "cell_type": "code",
   "execution_count": 24,
   "metadata": {
    "slideshow": {
     "slide_type": "fragment"
    }
   },
   "outputs": [
    {
     "name": "stdout",
     "output_type": "stream",
     "text": [
      "-1\n",
      "1\n",
      "3\n"
     ]
    }
   ],
   "source": [
    "# Three arguments: use step size given by last argument\n",
    "for j in range(-1, 5, 2):\n",
    "    print(j)"
   ]
  },
  {
   "cell_type": "markdown",
   "metadata": {
    "slideshow": {
     "slide_type": "subslide"
    }
   },
   "source": [
    "# Use `enumerate` to get item indices"
   ]
  },
  {
   "cell_type": "code",
   "execution_count": 28,
   "metadata": {},
   "outputs": [
    {
     "name": "stdout",
     "output_type": "stream",
     "text": [
      "(0, 'a')\n",
      "(1, 'b')\n",
      "(2, 'c')\n"
     ]
    }
   ],
   "source": [
    "# Enumerate adds an incremental index to each element\n",
    "for i in enumerate([\"a\", \"b\", \"c\"]):\n",
    "    print(i)"
   ]
  },
  {
   "cell_type": "code",
   "execution_count": 29,
   "metadata": {},
   "outputs": [
    {
     "name": "stdout",
     "output_type": "stream",
     "text": [
      "0: a\n",
      "1: b\n",
      "2: c\n"
     ]
    }
   ],
   "source": [
    "# Use tuple unwrapping to get easier access\n",
    "for index, element in enumerate([\"a\", \"b\", \"c\"]):\n",
    "    print(f\"{index}: {element}\")"
   ]
  },
  {
   "cell_type": "markdown",
   "metadata": {
    "slideshow": {
     "slide_type": "subslide"
    }
   },
   "source": [
    "# Use `zip` to iterate over multiple lists together"
   ]
  },
  {
   "cell_type": "code",
   "execution_count": 30,
   "metadata": {},
   "outputs": [
    {
     "name": "stdout",
     "output_type": "stream",
     "text": [
      "a: red\n",
      "b: green\n",
      "c: blue\n"
     ]
    }
   ],
   "source": [
    "list_a = [\"a\", \"b\", \"c\"]\n",
    "list_b = [\"red\", \"green\", \"blue\"]\n",
    "\n",
    "for a, b in zip(list_a, list_b):\n",
    "    print(f\"{a}: {b}\")"
   ]
  },
  {
   "cell_type": "code",
   "execution_count": 33,
   "metadata": {
    "slideshow": {
     "slide_type": "fragment"
    }
   },
   "outputs": [
    {
     "name": "stdout",
     "output_type": "stream",
     "text": [
      "a: red\n",
      "b: green\n",
      "c: blue\n"
     ]
    }
   ],
   "source": [
    "# zip will not go beyond length of shortest list\n",
    "list_a = [\"a\", \"b\", \"c\", \"d\"]\n",
    "list_b = [\"red\", \"green\", \"blue\"]\n",
    "\n",
    "for a, b in zip(list_a, list_b):\n",
    "    print(f\"{a}: {b}\")"
   ]
  },
  {
   "cell_type": "code",
   "execution_count": 32,
   "metadata": {
    "slideshow": {
     "slide_type": "fragment"
    }
   },
   "outputs": [
    {
     "name": "stdout",
     "output_type": "stream",
     "text": [
      "[('a', 'red'), ('b', 'green'), ('c', 'blue')]\n",
      "('a', 'b', 'c')\n",
      "('red', 'green', 'blue')\n"
     ]
    }
   ],
   "source": [
    "# Common trick to 'unzip' lists\n",
    "zipped = list(zip(list_a, list_b))\n",
    "print(zipped)\n",
    "for e in zip(*zipped):\n",
    "    print(e)"
   ]
  },
  {
   "cell_type": "markdown",
   "metadata": {},
   "source": [
    "# Other build in list functions"
   ]
  },
  {
   "cell_type": "code",
   "execution_count": 38,
   "metadata": {
    "slideshow": {
     "slide_type": "subslide"
    }
   },
   "outputs": [
    {
     "data": {
      "text/plain": [
       "[1, 2, 3, 4, 5]"
      ]
     },
     "execution_count": 38,
     "metadata": {},
     "output_type": "execute_result"
    }
   ],
   "source": [
    "sorted([4, 2, 1, 3, 5])"
   ]
  },
  {
   "cell_type": "code",
   "execution_count": 40,
   "metadata": {
    "slideshow": {
     "slide_type": "fragment"
    }
   },
   "outputs": [
    {
     "data": {
      "text/plain": [
       "[5, 4, 3, 2, 1]"
      ]
     },
     "execution_count": 40,
     "metadata": {},
     "output_type": "execute_result"
    }
   ],
   "source": [
    "list(reversed([1, 2, 3, 4, 5]))"
   ]
  },
  {
   "cell_type": "code",
   "execution_count": 43,
   "metadata": {
    "slideshow": {
     "slide_type": "fragment"
    }
   },
   "outputs": [
    {
     "name": "stdout",
     "output_type": "stream",
     "text": [
      "1\n",
      "5\n",
      "15\n"
     ]
    }
   ],
   "source": [
    "print(min([4, 2, 1, 3, 5]))\n",
    "print(max([4, 2, 1, 3, 5]))\n",
    "print(sum([4, 2, 1, 3, 5]))"
   ]
  },
  {
   "cell_type": "markdown",
   "metadata": {
    "slideshow": {
     "slide_type": "subslide"
    }
   },
   "source": [
    "# Strings can be treated as lists of characters"
   ]
  },
  {
   "cell_type": "code",
   "execution_count": 45,
   "metadata": {},
   "outputs": [
    {
     "data": {
      "text/plain": [
       "['H', 'e', 'l', 'l', 'o', ',', ' ', 'w', 'o', 'r', 'l', 'd', '!']"
      ]
     },
     "execution_count": 45,
     "metadata": {},
     "output_type": "execute_result"
    }
   ],
   "source": [
    "list(\"Hello, world!\")"
   ]
  },
  {
   "cell_type": "code",
   "execution_count": 46,
   "metadata": {
    "slideshow": {
     "slide_type": "fragment"
    }
   },
   "outputs": [
    {
     "name": "stdout",
     "output_type": "stream",
     "text": [
      "H\n",
      "e\n",
      "l\n",
      "l\n",
      "o\n"
     ]
    }
   ],
   "source": [
    "for c in \"Hello\":\n",
    "    print(c)"
   ]
  },
  {
   "cell_type": "code",
   "execution_count": 49,
   "metadata": {
    "slideshow": {
     "slide_type": "fragment"
    }
   },
   "outputs": [
    {
     "data": {
      "text/plain": [
       "['d', 'l', 'o', 'r', 'w']"
      ]
     },
     "execution_count": 49,
     "metadata": {},
     "output_type": "execute_result"
    }
   ],
   "source": [
    "list(sorted(\"world\"))"
   ]
  }
 ],
 "metadata": {
  "celltoolbar": "Slideshow",
  "kernelspec": {
   "display_name": "Python 3",
   "language": "python",
   "name": "python3"
  },
  "language_info": {
   "codemirror_mode": {
    "name": "ipython",
    "version": 3
   },
   "file_extension": ".py",
   "mimetype": "text/x-python",
   "name": "python",
   "nbconvert_exporter": "python",
   "pygments_lexer": "ipython3",
   "version": "3.6.8"
  }
 },
 "nbformat": 4,
 "nbformat_minor": 2
}
