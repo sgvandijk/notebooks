{
 "cells": [
  {
   "cell_type": "markdown",
   "metadata": {
    "slideshow": {
     "slide_type": "slide"
    }
   },
   "source": [
    "# Python Workshop\n",
    "## Session 1 - Python Basics\n",
    "<br><br><br><br>\n",
    "Sander van Dijk<br>\n",
    "14 January 2020"
   ]
  },
  {
   "cell_type": "markdown",
   "metadata": {
    "slideshow": {
     "slide_type": "slide"
    }
   },
   "source": [
    "# Why Python?\n",
    "* There are many programming languages, why use Python and not say PHP, C++, ...?\n",
    "\n",
    "* Python is easy\n",
    "\n",
    "    - Basic syntax is relatively straightforward\n",
    "    - No complex setup needed to get started\n",
    "    - Simple module/package system to build complex frameworks\n",
    "\n",
    "* Python has 'all batteries included'\n",
    "* Python has many 3rd party packages easily available\n",
    "* Many usecases $\\rightarrow$ broad career options"
   ]
  },
  {
   "cell_type": "markdown",
   "metadata": {
    "slideshow": {
     "slide_type": "slide"
    }
   },
   "source": [
    "# What makes Python different\n",
    "* Syntax - meaningful indentation, no special tokens (`{}`, `;`, `$`, `->`, fewer `()`)\n",
    "* Interpreted $\\rightarrow$ generally slower than compiled language like C++\n",
    "* Much less verbose and faster to write than Java/C++\n",
    "* Not mostly optimised for web like PHP, main language in Data Science"
   ]
  },
  {
   "cell_type": "markdown",
   "metadata": {
    "slideshow": {
     "slide_type": "slide"
    }
   },
   "source": [
    "# Syntax example"
   ]
  },
  {
   "cell_type": "code",
   "execution_count": null,
   "metadata": {
    "ExecuteTime": {
     "end_time": "2020-01-14T11:09:14.232616Z",
     "start_time": "2020-01-14T11:09:14.225212Z"
    }
   },
   "outputs": [],
   "source": [
    "my_var = 1\n",
    "\n",
    "if my_var == 2:\n",
    "    print(\"Got two\")\n",
    "elif my_var == 1:\n",
    "    print(\"Got one\")\n",
    "else:\n",
    "    print(\"Got something else\")\n",
    "\n",
    "class Foo:\n",
    "    def __init__(self):\n",
    "        self.bar = \"Hello, world!\"\n",
    "    \n",
    "    def get_bar(self):\n",
    "        return self.bar\n",
    "\n",
    "my_foo = Foo()\n",
    "print(my_foo.get_bar())"
   ]
  },
  {
   "cell_type": "markdown",
   "metadata": {
    "slideshow": {
     "slide_type": "slide"
    }
   },
   "source": [
    "# Code style\n",
    "* Should you write `my_var=1` or `my_var = 1`? How many empty lines? Indent 4, 8, 5 spaces?\n",
    "* Style guides help readability, consistency, prevention of certain bugs $\\rightarrow$ not wasting people's time.\n",
    "* Python has a standard style guide accepted and adhered to globally: [PEP 8](https://www.python.org/dev/peps/pep-0008/)"
   ]
  },
  {
   "cell_type": "markdown",
   "metadata": {
    "slideshow": {
     "slide_type": "slide"
    }
   },
   "source": [
    "# Language features"
   ]
  },
  {
   "cell_type": "markdown",
   "metadata": {
    "slideshow": {
     "slide_type": "slide"
    }
   },
   "source": [
    "# Types in Python\n",
    "\n",
    "* Python is **dynamically typed** (vs statically)\n",
    "\n",
    "    There is no point before running the code that types are checked by Python. Types for variables, function arguments, return values, etc can not be enforced*. Also called 'duck typing': if something behaves like some type, it can be treated as some type.\n",
    "* Python is **strongly typied** (vs weakly)\n",
    "\n",
    "    Types don't change at runtime, and can not be coerced into each other: the text string `\"1\"` can not be treated like the number `1`."
   ]
  },
  {
   "cell_type": "code",
   "execution_count": null,
   "metadata": {
    "ExecuteTime": {
     "end_time": "2020-01-14T11:13:43.296221Z",
     "start_time": "2020-01-14T11:13:43.253299Z"
    },
    "slideshow": {
     "slide_type": "fragment"
    }
   },
   "outputs": [],
   "source": [
    "my_str = \"1\"\n",
    "my_str + 1"
   ]
  },
  {
   "cell_type": "markdown",
   "metadata": {
    "slideshow": {
     "slide_type": "slide"
    }
   },
   "source": [
    "# Type hinting\n",
    "In latest versions of Python you _can_ specify types:"
   ]
  },
  {
   "cell_type": "code",
   "execution_count": null,
   "metadata": {
    "ExecuteTime": {
     "end_time": "2020-01-14T11:15:15.503553Z",
     "start_time": "2020-01-14T11:15:15.498753Z"
    }
   },
   "outputs": [],
   "source": [
    "def foo(arg: int) -> str:\n",
    "    \"\"\"Expect an integer and return it formatted as a string\"\"\"\n",
    "    print(f\"Argument type: {type(arg)}\")\n",
    "    return str(arg)\n",
    "\n",
    "print(foo(1))"
   ]
  },
  {
   "cell_type": "markdown",
   "metadata": {
    "slideshow": {
     "slide_type": "fragment"
    }
   },
   "source": [
    "At runtime this..."
   ]
  },
  {
   "cell_type": "markdown",
   "metadata": {
    "slideshow": {
     "slide_type": "fragment"
    }
   },
   "source": [
    "...does nothing!"
   ]
  },
  {
   "cell_type": "code",
   "execution_count": null,
   "metadata": {
    "ExecuteTime": {
     "end_time": "2020-01-14T11:16:20.990850Z",
     "start_time": "2020-01-14T11:16:20.986032Z"
    }
   },
   "outputs": [],
   "source": [
    "print(foo(\"bar\"))"
   ]
  },
  {
   "cell_type": "markdown",
   "metadata": {
    "slideshow": {
     "slide_type": "slide"
    }
   },
   "source": [
    "# Why the hassle of type hinting?\n",
    "* Type checking while writing code (in proper editors/IDEs)\n",
    "* Code completion\n",
    "* Can have static checking in automatic test pipeline: [mypy](http://mypy-lang.org/)\n",
    "\n",
    "### <center>= PyCharm Demo =</center>"
   ]
  },
  {
   "cell_type": "markdown",
   "metadata": {
    "slideshow": {
     "slide_type": "slide"
    }
   },
   "source": [
    "# Simple types\n",
    "## Boolean, Integer, Floating Point"
   ]
  },
  {
   "cell_type": "markdown",
   "metadata": {
    "slideshow": {
     "slide_type": "slide"
    }
   },
   "source": [
    "# Booleans: Binary truthiness"
   ]
  },
  {
   "cell_type": "code",
   "execution_count": null,
   "metadata": {
    "ExecuteTime": {
     "end_time": "2020-01-14T11:21:18.376151Z",
     "start_time": "2020-01-14T11:21:18.371958Z"
    }
   },
   "outputs": [],
   "source": [
    "# Two values\n",
    "foo = True\n",
    "bar = False\n",
    "print(type(foo))"
   ]
  },
  {
   "cell_type": "code",
   "execution_count": null,
   "metadata": {
    "ExecuteTime": {
     "end_time": "2020-01-14T11:26:03.867863Z",
     "start_time": "2020-01-14T11:26:03.862917Z"
    }
   },
   "outputs": [],
   "source": [
    "# Just about everything can be used as a truth value\n",
    "print(bool(0))\n",
    "print(bool(1))\n",
    "print(bool(None))"
   ]
  },
  {
   "cell_type": "markdown",
   "metadata": {
    "slideshow": {
     "slide_type": "slide"
    }
   },
   "source": [
    "# Boolean expressions"
   ]
  },
  {
   "cell_type": "code",
   "execution_count": null,
   "metadata": {
    "ExecuteTime": {
     "end_time": "2020-01-14T11:26:57.572903Z",
     "start_time": "2020-01-14T11:26:57.570339Z"
    },
    "slideshow": {
     "slide_type": "fragment"
    }
   },
   "outputs": [],
   "source": [
    "# Result of tests (NB use `is` instead of `==`)\n",
    "print(foo is True)\n",
    "print(bar is True)"
   ]
  },
  {
   "cell_type": "code",
   "execution_count": null,
   "metadata": {
    "ExecuteTime": {
     "end_time": "2020-01-14T11:29:07.642082Z",
     "start_time": "2020-01-14T11:29:07.637314Z"
    },
    "slideshow": {
     "slide_type": "fragment"
    }
   },
   "outputs": [],
   "source": [
    "# Any expressions can be combined with `not`, `or`, and `and`\n",
    "print(not True)\n",
    "print(not False)\n",
    "print(True or False)\n",
    "print(True and False)"
   ]
  },
  {
   "cell_type": "code",
   "execution_count": null,
   "metadata": {
    "ExecuteTime": {
     "end_time": "2020-01-14T11:32:13.844312Z",
     "start_time": "2020-01-14T11:32:13.835194Z"
    },
    "slideshow": {
     "slide_type": "fragment"
    }
   },
   "outputs": [],
   "source": [
    "# What will the result be? Order of evaluation matters\n",
    "print(False and False or True)\n",
    "print(False or True and False)"
   ]
  },
  {
   "cell_type": "markdown",
   "metadata": {
    "slideshow": {
     "slide_type": "slide"
    }
   },
   "source": [
    "# Integers and Floats"
   ]
  },
  {
   "cell_type": "code",
   "execution_count": null,
   "metadata": {
    "ExecuteTime": {
     "end_time": "2020-01-14T11:32:53.506054Z",
     "start_time": "2020-01-14T11:32:53.503162Z"
    }
   },
   "outputs": [],
   "source": [
    "print(type(1))\n",
    "print(type(1.0))"
   ]
  },
  {
   "cell_type": "code",
   "execution_count": null,
   "metadata": {
    "ExecuteTime": {
     "end_time": "2020-01-14T11:33:57.760010Z",
     "start_time": "2020-01-14T11:33:57.751122Z"
    }
   },
   "outputs": [],
   "source": [
    "print(float(1))\n",
    "print(int(1.9))\n",
    "print(round(1.9))"
   ]
  },
  {
   "cell_type": "code",
   "execution_count": null,
   "metadata": {
    "ExecuteTime": {
     "end_time": "2020-01-14T11:34:03.441098Z",
     "start_time": "2020-01-14T11:34:03.431973Z"
    }
   },
   "outputs": [],
   "source": [
    "print(1 == 1.0)"
   ]
  },
  {
   "cell_type": "code",
   "execution_count": null,
   "metadata": {
    "ExecuteTime": {
     "end_time": "2020-01-14T11:36:48.897226Z",
     "start_time": "2020-01-14T11:36:48.890449Z"
    }
   },
   "outputs": [],
   "source": [
    "print(2 * 3)\n",
    "print(2 * 3.0)\n",
    "print(3.2 / 2.364723823)\n",
    "print(3 // 2)"
   ]
  },
  {
   "cell_type": "markdown",
   "metadata": {
    "slideshow": {
     "slide_type": "slide"
    }
   },
   "source": [
    "# More complex types\n",
    "## Tuples, Lists, Sets, Iterating, Generators"
   ]
  },
  {
   "cell_type": "markdown",
   "metadata": {
    "slideshow": {
     "slide_type": "slide"
    }
   },
   "source": [
    "# Tuples: Fixed length immutable sequence of items"
   ]
  },
  {
   "cell_type": "code",
   "execution_count": null,
   "metadata": {
    "ExecuteTime": {
     "end_time": "2020-01-14T11:39:53.394524Z",
     "start_time": "2020-01-14T11:39:53.377721Z"
    }
   },
   "outputs": [],
   "source": [
    "# Syntax: comma separated list in brackets\n",
    "foo = (1, \"a\", 3.1417)\n",
    "\n",
    "# You can ask for its length\n",
    "print(len(foo))\n",
    "\n",
    "# You can access individual elements by indexing:\n",
    "print(foo[0])\n",
    "print(foo[2])\n",
    "\n",
    "# You can unpack a tuple\n",
    "my_int, my_str, my_float = foo\n",
    "\n",
    "print(my_str)\n",
    "\n",
    "# You **cannot** change the elements\n",
    "foo[0] = 2"
   ]
  },
  {
   "cell_type": "markdown",
   "metadata": {
    "slideshow": {
     "slide_type": "slide"
    }
   },
   "source": [
    "# Tuples: Fixed length immutable sequence of items\n",
    "\n",
    "* Tuples are a combination of multiple values/objects, possibly of different types\n",
    "* Some use-cases:\n",
    "\n",
    "    * Make explicit that some values belong together\n",
    "    * Returning multiple values from a function\n",
    "\n",
    "* Limit use where meaning/order of values can be confusing (hint: this is almost all the time. Instead:\n",
    "\n",
    "    * Separate named (and typed) function arguments\n",
    "    * Combine in a class with named members and helper methods\n",
    "    * Use [`namedtuple`](https://docs.python.org/3.6/library/collections.html#collections.namedtuple)"
   ]
  },
  {
   "cell_type": "code",
   "execution_count": null,
   "metadata": {
    "ExecuteTime": {
     "end_time": "2020-01-14T11:44:27.951622Z",
     "start_time": "2020-01-14T11:44:27.939720Z"
    },
    "slideshow": {
     "slide_type": "fragment"
    }
   },
   "outputs": [],
   "source": [
    "# Good\n",
    "def foo(my_int, my_str, my_float):\n",
    "    print(my_str)\n",
    "\n",
    "myvar = (1, \"a\", 3.1417)\n",
    "foo(*myvar)"
   ]
  },
  {
   "cell_type": "markdown",
   "metadata": {
    "slideshow": {
     "slide_type": "slide"
    }
   },
   "source": [
    "# Lists: variable length mutable sequence of items"
   ]
  },
  {
   "cell_type": "code",
   "execution_count": null,
   "metadata": {
    "ExecuteTime": {
     "end_time": "2020-01-14T11:45:28.276305Z",
     "start_time": "2020-01-14T11:45:28.272051Z"
    }
   },
   "outputs": [],
   "source": [
    "# Syntax: comma separated list in square brackets\n",
    "foo = [1, \"a\", 3.1417]\n",
    "\n",
    "# You can ask for its length\n",
    "print(len(foo))\n",
    "\n",
    "# You can access individual elements by indexing:\n",
    "print(foo[0])\n",
    "print(foo[2])\n",
    "\n",
    "# You can unpack a list\n",
    "my_int, my_str, my_float = foo\n",
    "print(my_str)\n",
    "\n",
    "# You **can** change the elements\n",
    "foo[0] = 2\n",
    "\n",
    "# You can alter the number of elements\n",
    "foo.append((1, 2, 3))\n",
    "print(foo)"
   ]
  },
  {
   "cell_type": "markdown",
   "metadata": {
    "slideshow": {
     "slide_type": "slide"
    }
   },
   "source": [
    "# Sets: variable length mutable sequence of unique items"
   ]
  },
  {
   "cell_type": "code",
   "execution_count": null,
   "metadata": {
    "ExecuteTime": {
     "end_time": "2020-01-14T11:47:35.917995Z",
     "start_time": "2020-01-14T11:47:35.911049Z"
    }
   },
   "outputs": [],
   "source": [
    "# Syntax: comma separated list in curly brackets\n",
    "foo = {1, \"a\", 3.1417}\n",
    "\n",
    "# You can ask for its length\n",
    "print(len(foo))\n",
    "\n",
    "# Sets have no order, so you **cannot** access individual elements by indexing:\n",
    "# print(foo[0])\n",
    "\n",
    "# This means you cannot unpack a set either\n",
    "my_int, my_str, my_float = foo\n",
    "\n",
    "# You can alter the number of elements\n",
    "foo.add((1, 2, 3))\n",
    "print(foo)\n",
    "\n",
    "# Elements will always be unique\n",
    "foo.add(1)\n",
    "print(foo)"
   ]
  },
  {
   "cell_type": "markdown",
   "metadata": {
    "slideshow": {
     "slide_type": "slide"
    }
   },
   "source": [
    "# Tuple $\\leftrightarrow$ List $\\leftrightarrow$ Set"
   ]
  },
  {
   "cell_type": "code",
   "execution_count": null,
   "metadata": {
    "ExecuteTime": {
     "end_time": "2020-01-14T11:49:37.235401Z",
     "start_time": "2020-01-14T11:49:37.226909Z"
    }
   },
   "outputs": [],
   "source": [
    "my_tuple = (1, \"a\", 3.1417, 1, \"a\")\n",
    "\n",
    "# If you need list functionality, easy to create on from a tuple:\n",
    "my_list = list(my_tuple)\n",
    "print(my_list)\n",
    "# Or to a set (also works from my_list)\n",
    "my_set = set(my_tuple)\n",
    "print(my_set)\n",
    "# And back to tuple\n",
    "my_new_tuple = tuple(my_set)\n",
    "\n",
    "print(my_new_tuple)"
   ]
  },
  {
   "cell_type": "markdown",
   "metadata": {
    "slideshow": {
     "slide_type": "fragment"
    }
   },
   "source": [
    "* Converting to a set is an easy and efficient way to remove duplicate values."
   ]
  },
  {
   "cell_type": "markdown",
   "metadata": {
    "slideshow": {
     "slide_type": "slide"
    }
   },
   "source": [
    "# Iterating over elements\n",
    "\n",
    "You can easily iterate over elements in a list/tuple/set:"
   ]
  },
  {
   "cell_type": "code",
   "execution_count": null,
   "metadata": {
    "ExecuteTime": {
     "end_time": "2020-01-14T11:50:29.271521Z",
     "start_time": "2020-01-14T11:50:29.262335Z"
    }
   },
   "outputs": [],
   "source": [
    "my_list = [1, \"a\", 3.1417, 1]\n",
    "\n",
    "# Assign each item to 'element' in order\n",
    "print(\"==== List ====\")\n",
    "for element in my_list:\n",
    "    print(element)\n",
    "\n",
    "print(\"==== Set  ====\")\n",
    "for element in set(my_list):\n",
    "    print(element)"
   ]
  },
  {
   "cell_type": "markdown",
   "metadata": {
    "slideshow": {
     "slide_type": "slide"
    }
   },
   "source": [
    "# Use `range` to create sequences of incrementing numbers"
   ]
  },
  {
   "cell_type": "code",
   "execution_count": null,
   "metadata": {
    "ExecuteTime": {
     "end_time": "2020-01-14T11:51:17.105465Z",
     "start_time": "2020-01-14T11:51:17.100001Z"
    }
   },
   "outputs": [],
   "source": [
    "# One argument: count this many numbers (starting at 0 and up to n - 1)\n",
    "for i in range(3):\n",
    "    print(i)"
   ]
  },
  {
   "cell_type": "code",
   "execution_count": null,
   "metadata": {
    "ExecuteTime": {
     "end_time": "2020-01-14T11:51:36.833749Z",
     "start_time": "2020-01-14T11:51:36.824821Z"
    },
    "slideshow": {
     "slide_type": "fragment"
    }
   },
   "outputs": [],
   "source": [
    "# Two arguments: start counting from first argument\n",
    "for j in range(2, 5):\n",
    "    print(j)"
   ]
  },
  {
   "cell_type": "code",
   "execution_count": null,
   "metadata": {
    "ExecuteTime": {
     "end_time": "2020-01-14T11:52:27.178175Z",
     "start_time": "2020-01-14T11:52:27.166990Z"
    },
    "slideshow": {
     "slide_type": "fragment"
    }
   },
   "outputs": [],
   "source": [
    "# Three arguments: use step size given by last argument\n",
    "for j in range(5, -1, -1):\n",
    "    print(j)"
   ]
  },
  {
   "cell_type": "markdown",
   "metadata": {
    "slideshow": {
     "slide_type": "slide"
    }
   },
   "source": [
    "# Use `enumerate` to get item indices"
   ]
  },
  {
   "cell_type": "code",
   "execution_count": null,
   "metadata": {
    "ExecuteTime": {
     "end_time": "2020-01-14T11:53:43.983138Z",
     "start_time": "2020-01-14T11:53:43.977532Z"
    }
   },
   "outputs": [],
   "source": [
    "# Enumerate adds an incremental index to each element\n",
    "for i in enumerate([\"a\", \"b\", \"c\"]):\n",
    "    i[0]\n",
    "    i[1]\n",
    "    print(i)"
   ]
  },
  {
   "cell_type": "code",
   "execution_count": null,
   "metadata": {
    "ExecuteTime": {
     "end_time": "2020-01-14T11:53:57.792851Z",
     "start_time": "2020-01-14T11:53:57.784695Z"
    }
   },
   "outputs": [],
   "source": [
    "# Use tuple unwrapping to get easier access\n",
    "for index, element in enumerate([\"a\", \"b\", \"c\"]):\n",
    "    print(f\"{index}: {element}\")"
   ]
  },
  {
   "cell_type": "markdown",
   "metadata": {
    "slideshow": {
     "slide_type": "slide"
    }
   },
   "source": [
    "# Use `zip` to iterate over multiple lists together"
   ]
  },
  {
   "cell_type": "code",
   "execution_count": null,
   "metadata": {
    "ExecuteTime": {
     "end_time": "2020-01-14T11:55:18.166337Z",
     "start_time": "2020-01-14T11:55:18.154408Z"
    }
   },
   "outputs": [],
   "source": [
    "list_a = [\"a\", \"b\", \"c\"]\n",
    "list_b = [\"red\", \"green\", \"blue\"]\n",
    "\n",
    "for a, b in zip(list_a, list_b):\n",
    "    print(f\"{a}: {b}\")"
   ]
  },
  {
   "cell_type": "code",
   "execution_count": null,
   "metadata": {
    "ExecuteTime": {
     "end_time": "2020-01-14T11:55:27.398562Z",
     "start_time": "2020-01-14T11:55:27.395454Z"
    },
    "slideshow": {
     "slide_type": "fragment"
    }
   },
   "outputs": [],
   "source": [
    "# zip will not go beyond length of shortest list\n",
    "list_a = [\"a\", \"b\", \"c\", \"d\"]\n",
    "list_b = [\"red\", \"green\", \"blue\"]\n",
    "\n",
    "for a, b in zip(list_a, list_b):\n",
    "    print(f\"{a}: {b}\")"
   ]
  },
  {
   "cell_type": "code",
   "execution_count": null,
   "metadata": {
    "ExecuteTime": {
     "end_time": "2020-01-14T11:58:03.280713Z",
     "start_time": "2020-01-14T11:58:03.276484Z"
    },
    "slideshow": {
     "slide_type": "fragment"
    }
   },
   "outputs": [],
   "source": [
    "# Common trick to 'unzip' lists\n",
    "zipped = list(zip(list_a, list_b))\n",
    "print(zipped)\n",
    "for e in zip(*zipped):\n",
    "    print(e)"
   ]
  },
  {
   "cell_type": "markdown",
   "metadata": {
    "slideshow": {
     "slide_type": "slide"
    }
   },
   "source": [
    "# Other build in list functions"
   ]
  },
  {
   "cell_type": "code",
   "execution_count": null,
   "metadata": {
    "ExecuteTime": {
     "end_time": "2020-01-14T11:59:37.358477Z",
     "start_time": "2020-01-14T11:59:37.346154Z"
    },
    "slideshow": {
     "slide_type": "fragment"
    }
   },
   "outputs": [],
   "source": [
    "list(reversed(sorted([4, 2, 1, 3, 5])))"
   ]
  },
  {
   "cell_type": "code",
   "execution_count": null,
   "metadata": {
    "ExecuteTime": {
     "end_time": "2020-01-14T12:00:08.140627Z",
     "start_time": "2020-01-14T12:00:08.133523Z"
    }
   },
   "outputs": [],
   "source": [
    "sorted([4, 2, 1, 3, 5], reverse=True)"
   ]
  },
  {
   "cell_type": "code",
   "execution_count": null,
   "metadata": {
    "ExecuteTime": {
     "end_time": "2020-01-14T11:58:36.641536Z",
     "start_time": "2020-01-14T11:58:36.631299Z"
    },
    "slideshow": {
     "slide_type": "fragment"
    }
   },
   "outputs": [],
   "source": [
    "list(reversed([1, 2, 3, 4, 5]))"
   ]
  },
  {
   "cell_type": "code",
   "execution_count": null,
   "metadata": {
    "ExecuteTime": {
     "end_time": "2020-01-14T11:58:36.641536Z",
     "start_time": "2020-01-14T11:58:36.631299Z"
    },
    "slideshow": {
     "slide_type": "fragment"
    }
   },
   "outputs": [],
   "source": [
    "list(reversed([1, 2, 3, 4, 5]))"
   ]
  },
  {
   "cell_type": "code",
   "execution_count": null,
   "metadata": {
    "ExecuteTime": {
     "end_time": "2020-01-14T11:58:46.213928Z",
     "start_time": "2020-01-14T11:58:46.206628Z"
    },
    "slideshow": {
     "slide_type": "fragment"
    }
   },
   "outputs": [],
   "source": [
    "print(min([4, 2, 1, 3, 5]))\n",
    "print(max([4, 2, 1, 3, 5]))\n",
    "print(sum([4, 2, 1, 3, 5]))"
   ]
  },
  {
   "cell_type": "markdown",
   "metadata": {
    "slideshow": {
     "slide_type": "slide"
    }
   },
   "source": [
    "# Strings can be treated as lists of characters"
   ]
  },
  {
   "cell_type": "code",
   "execution_count": null,
   "metadata": {
    "ExecuteTime": {
     "end_time": "2020-01-14T12:00:26.343805Z",
     "start_time": "2020-01-14T12:00:26.334711Z"
    }
   },
   "outputs": [],
   "source": [
    "list(\"Hello, world!\")"
   ]
  },
  {
   "cell_type": "code",
   "execution_count": null,
   "metadata": {
    "ExecuteTime": {
     "end_time": "2020-01-14T12:00:40.515967Z",
     "start_time": "2020-01-14T12:00:40.512646Z"
    },
    "slideshow": {
     "slide_type": "fragment"
    }
   },
   "outputs": [],
   "source": [
    "for c in \"Hello\":\n",
    "    print(c)"
   ]
  },
  {
   "cell_type": "code",
   "execution_count": null,
   "metadata": {
    "ExecuteTime": {
     "end_time": "2020-01-14T12:01:07.538873Z",
     "start_time": "2020-01-14T12:01:07.534900Z"
    },
    "slideshow": {
     "slide_type": "fragment"
    }
   },
   "outputs": [],
   "source": [
    "list(sorted(\"world\"))"
   ]
  },
  {
   "cell_type": "markdown",
   "metadata": {
    "slideshow": {
     "slide_type": "slide"
    }
   },
   "source": [
    "# List comprehensions: compact and fast list cration"
   ]
  },
  {
   "cell_type": "code",
   "execution_count": null,
   "metadata": {
    "ExecuteTime": {
     "end_time": "2020-01-14T12:04:41.381583Z",
     "start_time": "2020-01-14T12:04:31.068597Z"
    }
   },
   "outputs": [],
   "source": [
    "%%timeit\n",
    "# Version 1: manually building list\n",
    "my_list1 = []\n",
    "for i in range(1000):\n",
    "    my_list1.append(str(i))"
   ]
  },
  {
   "cell_type": "code",
   "execution_count": null,
   "metadata": {
    "ExecuteTime": {
     "end_time": "2020-01-14T12:05:11.160720Z",
     "start_time": "2020-01-14T12:05:02.450255Z"
    },
    "slideshow": {
     "slide_type": "fragment"
    }
   },
   "outputs": [],
   "source": [
    "%%timeit\n",
    "# Version 2: list comprehension\n",
    "my_list2 = [str(i) for i in range(1000)]"
   ]
  },
  {
   "cell_type": "code",
   "execution_count": null,
   "metadata": {
    "ExecuteTime": {
     "end_time": "2020-01-14T12:06:31.606563Z",
     "start_time": "2020-01-14T12:06:31.598712Z"
    },
    "slideshow": {
     "slide_type": "fragment"
    }
   },
   "outputs": [],
   "source": [
    "# A filter can be added to the comprehension\n",
    "my_list3 = [i for i in range(100) if i % 2 == 0]\n",
    "print(my_list3[:4])"
   ]
  },
  {
   "cell_type": "markdown",
   "metadata": {
    "slideshow": {
     "slide_type": "fragment"
    }
   },
   "source": [
    "Special syntax tells Python the loop is all about building a list, so can use specialised fast operations."
   ]
  },
  {
   "cell_type": "markdown",
   "metadata": {
    "slideshow": {
     "slide_type": "slide"
    }
   },
   "source": [
    "# Generators: lazy sequences"
   ]
  },
  {
   "cell_type": "code",
   "execution_count": null,
   "metadata": {
    "ExecuteTime": {
     "end_time": "2020-01-14T12:07:41.186401Z",
     "start_time": "2020-01-14T12:07:41.176379Z"
    }
   },
   "outputs": [],
   "source": [
    "def to_string(i):\n",
    "    print(f\"To string: {i}\")\n",
    "    return str(i)\n",
    "\n",
    "my_list = [to_string(i) for i in range(3)]"
   ]
  },
  {
   "cell_type": "code",
   "execution_count": null,
   "metadata": {
    "ExecuteTime": {
     "end_time": "2020-01-14T12:10:10.503795Z",
     "start_time": "2020-01-14T12:10:10.496195Z"
    },
    "slideshow": {
     "slide_type": "fragment"
    }
   },
   "outputs": [],
   "source": [
    "my_generator = (to_string(i) for i in range(3))"
   ]
  },
  {
   "cell_type": "code",
   "execution_count": null,
   "metadata": {
    "ExecuteTime": {
     "end_time": "2020-01-14T12:12:48.032476Z",
     "start_time": "2020-01-14T12:12:48.028904Z"
    },
    "slideshow": {
     "slide_type": "fragment"
    }
   },
   "outputs": [],
   "source": [
    "# for i in range(2):\n",
    "#     print(\"Getting next element...\")\n",
    "#     i = next(my_generator)"
   ]
  },
  {
   "cell_type": "markdown",
   "metadata": {
    "slideshow": {
     "slide_type": "fragment"
    }
   },
   "source": [
    "* Generators only do the work when required: they are _lazy_\n",
    "* Generators hold state, you can only iterate through them once\n",
    "* Python (3) is lazy where possible: `reversed`, `zip`, ..., _not_ `sorted`"
   ]
  },
  {
   "cell_type": "markdown",
   "metadata": {
    "slideshow": {
     "slide_type": "slide"
    }
   },
   "source": [
    "# Creating more complex generators with `yield`"
   ]
  },
  {
   "cell_type": "code",
   "execution_count": null,
   "metadata": {
    "ExecuteTime": {
     "end_time": "2020-01-14T12:13:48.404452Z",
     "start_time": "2020-01-14T12:13:48.391591Z"
    }
   },
   "outputs": [],
   "source": [
    "def infinite_fizzbuzz():\n",
    "    i = 0\n",
    "    while True:\n",
    "        i += 1\n",
    "        fizz = i % 3 == 0\n",
    "        buzz = i % 5 == 0\n",
    "        if fizz and buzz:\n",
    "            result = \"FizzBuzz\"\n",
    "        elif fizz:\n",
    "            result = \"Fizz\"\n",
    "        elif buzz:\n",
    "            result = \"Buzz\"\n",
    "        else:\n",
    "            result = i\n",
    "            \n",
    "        yield result\n",
    "        # Generator will pause here after yielding a value, waiting for next request\n",
    "\n",
    "type(infinite_fizzbuzz())"
   ]
  },
  {
   "cell_type": "code",
   "execution_count": null,
   "metadata": {
    "ExecuteTime": {
     "end_time": "2020-01-14T12:14:04.532706Z",
     "start_time": "2020-01-14T12:14:04.524551Z"
    },
    "slideshow": {
     "slide_type": "fragment"
    }
   },
   "outputs": [],
   "source": [
    "fb = infinite_fizzbuzz()\n",
    "print([next(fb) for _ in range(30)])"
   ]
  },
  {
   "cell_type": "code",
   "execution_count": null,
   "metadata": {
    "ExecuteTime": {
     "start_time": "2020-01-14T12:15:30.745Z"
    },
    "slideshow": {
     "slide_type": "fragment"
    }
   },
   "outputs": [],
   "source": [
    "# Run this to end the presentation\n",
    "list(infinite_fizzbuzz())"
   ]
  }
 ],
 "metadata": {
  "celltoolbar": "Slideshow",
  "kernelspec": {
   "display_name": "Python 3",
   "language": "python",
   "name": "python3"
  },
  "language_info": {
   "codemirror_mode": {
    "name": "ipython",
    "version": 3
   },
   "file_extension": ".py",
   "mimetype": "text/x-python",
   "name": "python",
   "nbconvert_exporter": "python",
   "pygments_lexer": "ipython3",
   "version": "3.7.5rc1"
  }
 },
 "nbformat": 4,
 "nbformat_minor": 2
}
