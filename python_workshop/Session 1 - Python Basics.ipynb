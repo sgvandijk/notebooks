{
 "cells": [
  {
   "cell_type": "markdown",
   "metadata": {
    "slideshow": {
     "slide_type": "slide"
    }
   },
   "source": [
    "# Python Workshop\n",
    "## Session 1 - Python Basics\n",
    "<br><br><br><br>\n",
    "Sander van Dijk<br>\n",
    "14 January 2020"
   ]
  },
  {
   "cell_type": "markdown",
   "metadata": {
    "slideshow": {
     "slide_type": "subslide"
    }
   },
   "source": [
    "# Why Python?\n",
    "* There are many programming languages, why use Python and not say PHP, C++, ...?\n",
    "\n",
    "* Python is easy\n",
    "\n",
    "    - Basic syntax is relatively straightforward\n",
    "    - No complex setup needed to get started\n",
    "    - Simple module/package system to build complex frameworks\n",
    "\n",
    "* Python has 'all batteries included'\n",
    "* Python has many 3rd party packages easily available\n",
    "* Many usecases $\\rightarrow$ broad career options"
   ]
  },
  {
   "cell_type": "markdown",
   "metadata": {
    "slideshow": {
     "slide_type": "subslide"
    }
   },
   "source": [
    "# What makes Python different\n",
    "* Syntax - meaningful indentation, no special tokens (`{}`, `;`, `$`, `->`, fewer `()`)\n",
    "* Interpreted $\\rightarrow$ generally slower than compiled language like C++\n",
    "* Much less verbose and faster to write than Java/C++\n",
    "* Not mostly optimised for web like PHP, main language in Data Science"
   ]
  },
  {
   "cell_type": "markdown",
   "metadata": {
    "slideshow": {
     "slide_type": "subslide"
    }
   },
   "source": [
    "# Syntax example"
   ]
  },
  {
   "cell_type": "code",
   "execution_count": 12,
   "metadata": {},
   "outputs": [
    {
     "name": "stdout",
     "output_type": "stream",
     "text": [
      "Got one\n",
      "Hello, world!\n"
     ]
    }
   ],
   "source": [
    "my_var = 1\n",
    "\n",
    "if my_var == 2:\n",
    "    print(\"Got two\")\n",
    "elif my_var == 1:\n",
    "    print(\"Got one\")\n",
    "else:\n",
    "    print(\"Got something else\")\n",
    "\n",
    "class Foo:\n",
    "    def __init__(self):\n",
    "        self.bar = \"Hello, world!\"\n",
    "    \n",
    "    def get_bar(self):\n",
    "        return self.bar\n",
    "\n",
    "my_foo = Foo()\n",
    "print(my_foo.get_bar())"
   ]
  },
  {
   "cell_type": "markdown",
   "metadata": {
    "slideshow": {
     "slide_type": "subslide"
    }
   },
   "source": [
    "# Code style\n",
    "* Should you write `my_var=1` or `my_var = 1`? How many empty lines? Indent 4, 8, 5 spaces?\n",
    "* Style guides help readability, consistency, prevention of certain bugs $\\rightarrow$ not wasting people's time.\n",
    "* Python has a standard style guide accepted and adhered to globally: [PEP 8](https://www.python.org/dev/peps/pep-0008/)"
   ]
  },
  {
   "cell_type": "markdown",
   "metadata": {
    "slideshow": {
     "slide_type": "slide"
    }
   },
   "source": [
    "# Language features"
   ]
  },
  {
   "cell_type": "markdown",
   "metadata": {
    "slideshow": {
     "slide_type": "subslide"
    }
   },
   "source": [
    "# Types in Python\n",
    "\n",
    "Python is _dynamically_ and/but _strongly_ typed\n",
    "\n",
    "* **Dynamic typing** (vs statically)\n",
    "\n",
    "    There is no point before running the code that types are checked by Python. Types for variables, function arguments, return values, etc can not be enforced*. Also called 'duck typing': if something behaves like some type, it can be treated as some type.\n",
    "* **Strong typing** (vs weakly)\n",
    "\n",
    "    Types don't change at runtime, and can not be coerced into each other: the text string `\"1\"` can not be treated like the number `1`."
   ]
  },
  {
   "cell_type": "code",
   "execution_count": 13,
   "metadata": {
    "slideshow": {
     "slide_type": "subslide"
    }
   },
   "outputs": [
    {
     "ename": "TypeError",
     "evalue": "must be str, not int",
     "output_type": "error",
     "traceback": [
      "\u001b[0;31m---------------------------------------------------------------------------\u001b[0m",
      "\u001b[0;31mTypeError\u001b[0m                                 Traceback (most recent call last)",
      "\u001b[0;32m<ipython-input-13-3a8df5e66fc9>\u001b[0m in \u001b[0;36m<module>\u001b[0;34m\u001b[0m\n\u001b[1;32m      1\u001b[0m \u001b[0mmy_str\u001b[0m \u001b[0;34m=\u001b[0m \u001b[0;34m\"1\"\u001b[0m\u001b[0;34m\u001b[0m\u001b[0;34m\u001b[0m\u001b[0m\n\u001b[0;32m----> 2\u001b[0;31m \u001b[0mmy_str\u001b[0m \u001b[0;34m+\u001b[0m \u001b[0;36m1\u001b[0m\u001b[0;34m\u001b[0m\u001b[0;34m\u001b[0m\u001b[0m\n\u001b[0m",
      "\u001b[0;31mTypeError\u001b[0m: must be str, not int"
     ]
    }
   ],
   "source": [
    "my_str = \"1\"\n",
    "my_str + 1"
   ]
  },
  {
   "cell_type": "markdown",
   "metadata": {
    "slideshow": {
     "slide_type": "subslide"
    }
   },
   "source": [
    "# Type hinting\n",
    "In latest versions of Python you _can_ specify types:"
   ]
  },
  {
   "cell_type": "code",
   "execution_count": 17,
   "metadata": {},
   "outputs": [
    {
     "name": "stdout",
     "output_type": "stream",
     "text": [
      "Argument type: <class 'int'>\n",
      "1\n"
     ]
    }
   ],
   "source": [
    "def foo(arg: int) -> str:\n",
    "    \"\"\"Expect an integer and return it formatted as a string\"\"\"\n",
    "    print(f\"Argument type: {type(arg)}\")\n",
    "    return str(arg)\n",
    "\n",
    "print(foo(1))"
   ]
  },
  {
   "cell_type": "markdown",
   "metadata": {
    "slideshow": {
     "slide_type": "-"
    }
   },
   "source": [
    "At runtime this..."
   ]
  },
  {
   "cell_type": "markdown",
   "metadata": {
    "slideshow": {
     "slide_type": "fragment"
    }
   },
   "source": [
    "does nothing!"
   ]
  },
  {
   "cell_type": "code",
   "execution_count": 18,
   "metadata": {},
   "outputs": [
    {
     "name": "stdout",
     "output_type": "stream",
     "text": [
      "Argument type: <class 'str'>\n",
      "bar\n"
     ]
    }
   ],
   "source": [
    "print(foo(\"bar\"))"
   ]
  },
  {
   "cell_type": "markdown",
   "metadata": {
    "slideshow": {
     "slide_type": "subslide"
    }
   },
   "source": [
    "# Why the hassle of type hinting?\n",
    "* Type checking while writing code (in proper editors/IDEs)\n",
    "* Code completion\n",
    "* Can have static checking in automatic test pipeline: [mypy](http://mypy-lang.org/)\n",
    "\n",
    "### <center>= PyCharm Demo =</center>"
   ]
  },
  {
   "cell_type": "markdown",
   "metadata": {
    "slideshow": {
     "slide_type": "slide"
    }
   },
   "source": []
  }
 ],
 "metadata": {
  "celltoolbar": "Slideshow",
  "kernelspec": {
   "display_name": "Python 3",
   "language": "python",
   "name": "python3"
  },
  "language_info": {
   "codemirror_mode": {
    "name": "ipython",
    "version": 3
   },
   "file_extension": ".py",
   "mimetype": "text/x-python",
   "name": "python",
   "nbconvert_exporter": "python",
   "pygments_lexer": "ipython3",
   "version": "3.6.8"
  }
 },
 "nbformat": 4,
 "nbformat_minor": 2
}
