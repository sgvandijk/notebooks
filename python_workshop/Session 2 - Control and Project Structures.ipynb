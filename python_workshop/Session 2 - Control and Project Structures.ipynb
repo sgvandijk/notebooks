{
 "cells": [
  {
   "cell_type": "markdown",
   "metadata": {
    "slideshow": {
     "slide_type": "slide"
    }
   },
   "source": [
    "# Python Workshop\n",
    "## Session 2 - Control and Project Structures\n",
    "<br><br><br><br>\n",
    "Sander van Dijk<br>\n",
    "15 January 2020"
   ]
  },
  {
   "cell_type": "markdown",
   "metadata": {
    "slideshow": {
     "slide_type": "slide"
    }
   },
   "source": [
    "# Control Structures\n",
    "## Determining the flow of execution"
   ]
  },
  {
   "cell_type": "markdown",
   "metadata": {
    "slideshow": {
     "slide_type": "slide"
    }
   },
   "source": [
    "# Flow of execution\n",
    "\n",
    "* Normal Python execution is done from top to bottom, stepping line by line/statement by statement.\n",
    "* Several _Control structures_ are available to decide which statements to run under different conditions.\n",
    "\n",
    "<center><img src=\"https://automatetheboringstuff.com/images/000105.jpg\"/></center>\n"
   ]
  },
  {
   "cell_type": "markdown",
   "metadata": {
    "slideshow": {
     "slide_type": "slide"
    }
   },
   "source": [
    "# `if`/`else`/`elif` - Branching flow"
   ]
  },
  {
   "cell_type": "code",
   "execution_count": 1,
   "metadata": {
    "ExecuteTime": {
     "end_time": "2020-01-13T07:12:09.990608Z",
     "start_time": "2020-01-13T07:12:09.979913Z"
    },
    "slideshow": {
     "slide_type": "-"
    }
   },
   "outputs": [
    {
     "name": "stdout",
     "output_type": "stream",
     "text": [
      "Got one\n"
     ]
    }
   ],
   "source": [
    "# Decide to run different statements based on value of boolean expressions\n",
    "my_var = 1\n",
    "\n",
    "# Always start with `if`\n",
    "if my_var == 2:\n",
    "    print(\"Got two\")\n",
    "# Can have any number of alternatives\n",
    "elif my_var > 0 and my_var < 2:\n",
    "    print(\"Got one\")\n",
    "# Optional case when no alternative evaluates to True\n",
    "else:\n",
    "    print(\"Got something else\")"
   ]
  },
  {
   "cell_type": "code",
   "execution_count": 2,
   "metadata": {
    "ExecuteTime": {
     "end_time": "2020-01-13T07:12:10.699022Z",
     "start_time": "2020-01-13T07:12:10.695754Z"
    },
    "slideshow": {
     "slide_type": "fragment"
    }
   },
   "outputs": [
    {
     "name": "stdout",
     "output_type": "stream",
     "text": [
      "foo\n"
     ]
    }
   ],
   "source": [
    "# Ternary expression form for shorthand assignments\n",
    "result = \"foo\" if my_var == 1 else \"bar\"\n",
    "print(result)"
   ]
  },
  {
   "cell_type": "code",
   "execution_count": 3,
   "metadata": {
    "ExecuteTime": {
     "end_time": "2020-01-13T07:12:11.183276Z",
     "start_time": "2020-01-13T07:12:11.180040Z"
    },
    "slideshow": {
     "slide_type": "fragment"
    }
   },
   "outputs": [],
   "source": [
    "# Alternative (sometimes preferrably for readability):\n",
    "if my_var == 1:\n",
    "    result = \"foo\"\n",
    "else:\n",
    "    result = \"bar\""
   ]
  },
  {
   "cell_type": "markdown",
   "metadata": {
    "slideshow": {
     "slide_type": "slide"
    }
   },
   "source": [
    "# `for`/`continue`/`break` - Looping through iteration"
   ]
  },
  {
   "cell_type": "code",
   "execution_count": 4,
   "metadata": {
    "ExecuteTime": {
     "end_time": "2020-01-13T07:12:11.928633Z",
     "start_time": "2020-01-13T07:12:11.920531Z"
    }
   },
   "outputs": [
    {
     "name": "stdout",
     "output_type": "stream",
     "text": [
      "1\n",
      "2\n",
      "4\n"
     ]
    }
   ],
   "source": [
    "for i in range(1, 10):\n",
    "    \n",
    "    if i == 3:\n",
    "        # Skip this iteration\n",
    "        continue\n",
    "        \n",
    "    elif i == 5:\n",
    "        # Stop iterating\n",
    "        break\n",
    "        \n",
    "    print(i)    "
   ]
  },
  {
   "cell_type": "code",
   "execution_count": 5,
   "metadata": {
    "ExecuteTime": {
     "end_time": "2020-01-13T07:12:12.539430Z",
     "start_time": "2020-01-13T07:12:12.528839Z"
    },
    "slideshow": {
     "slide_type": "fragment"
    }
   },
   "outputs": [
    {
     "data": {
      "text/plain": [
       "[1, 2, 4, 5, 6, 7, 8, 9]"
      ]
     },
     "execution_count": 5,
     "metadata": {},
     "output_type": "execute_result"
    }
   ],
   "source": [
    "# In a list comprehension, a failed test results in 'continue'; `break not possible\n",
    "[i for i in range(1, 10) if i != 3]"
   ]
  },
  {
   "cell_type": "markdown",
   "metadata": {
    "slideshow": {
     "slide_type": "slide"
    }
   },
   "source": [
    "# `while` - Test based looping"
   ]
  },
  {
   "cell_type": "code",
   "execution_count": 6,
   "metadata": {
    "ExecuteTime": {
     "end_time": "2020-01-13T07:12:13.570242Z",
     "start_time": "2020-01-13T07:12:13.565735Z"
    }
   },
   "outputs": [
    {
     "data": {
      "text/plain": [
       "[1, -1.5, 2.25, -3.375, 5.0625, -7.59375, 11.390625]"
      ]
     },
     "execution_count": 6,
     "metadata": {},
     "output_type": "execute_result"
    }
   ],
   "source": [
    "i = 1\n",
    "my_list = [i]\n",
    "while i < 10:\n",
    "    i *= -1.5\n",
    "    my_list.append(i)\n",
    "my_list"
   ]
  },
  {
   "cell_type": "code",
   "execution_count": 7,
   "metadata": {
    "ExecuteTime": {
     "end_time": "2020-01-13T07:12:14.016869Z",
     "start_time": "2020-01-13T07:12:14.011894Z"
    },
    "slideshow": {
     "slide_type": "fragment"
    }
   },
   "outputs": [
    {
     "name": "stdout",
     "output_type": "stream",
     "text": [
      "a\n",
      "b\n",
      "d\n"
     ]
    }
   ],
   "source": [
    "# Common pattern: 'infinite loop' when at start of loop information for end condition is not available\n",
    "char = \"`\"\n",
    "while True:\n",
    "    char = chr(ord(char) + 1)\n",
    "    # 'continue' and 'break' work as well in `while`\n",
    "    if char == \"c\":\n",
    "        continue\n",
    "    elif char == \"e\":\n",
    "        break\n",
    "    print(char)"
   ]
  },
  {
   "cell_type": "markdown",
   "metadata": {
    "slideshow": {
     "slide_type": "slide"
    }
   },
   "source": [
    "# Functions\n",
    "## Encapsulation, Abstraction, Reuse"
   ]
  },
  {
   "cell_type": "markdown",
   "metadata": {},
   "source": [
    "# A function...\n",
    "* is a coherent (named) group of statements\n",
    "* describes an abstract (sub)step of your program\n",
    "* enables reusing bits of code (for purposes you haven't thought of yet)\n",
    "* allows testing bits of your code separately\n",
    "* provides a limited scope/namespace"
   ]
  },
  {
   "cell_type": "markdown",
   "metadata": {
    "slideshow": {
     "slide_type": "slide"
    }
   },
   "source": [
    "# Defining a function"
   ]
  },
  {
   "cell_type": "code",
   "execution_count": 8,
   "metadata": {
    "ExecuteTime": {
     "end_time": "2020-01-13T07:12:15.745095Z",
     "start_time": "2020-01-13T07:12:15.742025Z"
    }
   },
   "outputs": [
    {
     "name": "stdout",
     "output_type": "stream",
     "text": [
      "5\n",
      "11\n"
     ]
    }
   ],
   "source": [
    "# Any name can be used, should be lower snake case\n",
    "# Arguments and return value should be typed\n",
    "def increment(arg: int) -> int:\n",
    "    # `return` exits the function, giving the returned value to the place where it was called\n",
    "    return arg + 1\n",
    "\n",
    "# Function can be called after definition\n",
    "print(increment(4))\n",
    "\n",
    "# A function is an entity that can be assigned to a different name\n",
    "add_one = increment\n",
    "print(add_one(10))"
   ]
  },
  {
   "cell_type": "markdown",
   "metadata": {
    "slideshow": {
     "slide_type": "slide"
    }
   },
   "source": [
    "# Variable scope\n",
    "\n",
    "Variables that are defined inside a function 'overrule' any variables defined outside of the function; they are _different_ variables without interaction."
   ]
  },
  {
   "cell_type": "code",
   "execution_count": 9,
   "metadata": {
    "ExecuteTime": {
     "end_time": "2020-01-13T07:12:16.693657Z",
     "start_time": "2020-01-13T07:12:16.682650Z"
    },
    "slideshow": {
     "slide_type": "fragment"
    }
   },
   "outputs": [
    {
     "name": "stdout",
     "output_type": "stream",
     "text": [
      "foo in no_own_foo: 1\n",
      "foo in own_foo:    2\n",
      "foo after own_foo: 1\n"
     ]
    }
   ],
   "source": [
    "foo = 1\n",
    "\n",
    "def no_own_foo() -> None:\n",
    "    # If a variable with the same name is not defined in the function, we can use the one outside\n",
    "    print(f\"foo in no_own_foo: {foo}\")\n",
    "\n",
    "def own_foo() -> None:\n",
    "    foo = 2\n",
    "    print(f\"foo in own_foo:    {foo}\")\n",
    "    \n",
    "no_own_foo()\n",
    "own_foo()\n",
    "print(f\"foo after own_foo: {foo}\")\n"
   ]
  },
  {
   "cell_type": "markdown",
   "metadata": {
    "slideshow": {
     "slide_type": "fragment"
    }
   },
   "source": [
    "NB: If a variable with the same name is defined inside of the function, the outside one _cannot_ be used before this definition."
   ]
  },
  {
   "cell_type": "markdown",
   "metadata": {
    "slideshow": {
     "slide_type": "slide"
    }
   },
   "source": [
    "# Principles to follow when naming functions\n",
    "\n",
    "* _Code is read many more times than it's written_ - invest time on a good name for future savings.\n",
    "* _Describe_ what _the function does_ - somebody must get from the name alone what the function is for. Give them all they need through code completion, don't waste their time having to look up the implementation.\n",
    "* _Do_ not _describe_ how _the function does it_ - the future reader will not care, or can still read the implementation.\n",
    "* _Think beyond your immediate use-case_ - a function should be an abstraction that can be reused in other cases, a general name should advertise that. Step back from what you are doing right now, and think what name explains the function best for somebody who doesn't know (and doesn't care) about your current project.\n",
    "\n",
    "Bottom line: **good names make future lifes better**, including your forgetful self.\n"
   ]
  },
  {
   "cell_type": "markdown",
   "metadata": {
    "slideshow": {
     "slide_type": "notes"
    }
   },
   "source": [
    "> There are only two hard things in Computer Science: cache invalidation and naming things.\n",
    ">\n",
    "> -- Phil Karlton"
   ]
  },
  {
   "cell_type": "markdown",
   "metadata": {
    "slideshow": {
     "slide_type": "slide"
    }
   },
   "source": [
    "# Lambda functions\n",
    "\n",
    "* Lambda functions are anonymous functions without a name\n",
    "* Can only consist of a single expression\n",
    "* Reduce clutter by creating functions inline\n",
    "* As arguments to functions that "
   ]
  },
  {
   "cell_type": "code",
   "execution_count": 10,
   "metadata": {
    "ExecuteTime": {
     "end_time": "2020-01-13T07:12:19.753225Z",
     "start_time": "2020-01-13T07:12:19.743635Z"
    }
   },
   "outputs": [
    {
     "name": "stdout",
     "output_type": "stream",
     "text": [
      "5\n",
      "5\n"
     ]
    }
   ],
   "source": [
    "# Instead of having to create a whole function:\n",
    "def increment1(arg: int) -> int:\n",
    "    return arg + 1\n",
    "\n",
    "# You can use a more compact lambda\n",
    "increment2 = lambda arg: arg + 1\n",
    "\n",
    "print(increment1(4))\n",
    "print(increment2(4))"
   ]
  },
  {
   "cell_type": "markdown",
   "metadata": {
    "slideshow": {
     "slide_type": "slide"
    }
   },
   "source": [
    "# Lambda uses\n",
    "\n",
    "* PEP 8: ['Always use a def statement instead of an assignment statement that binds a lambda expression directly to an identifier'](https://www.python.org/dev/peps/pep-0008/#programming-recommendations), i.e., don't do what we just did.\n",
    "* Proper use-case: to call functions that expect other functions as argument ('higher order' functions)."
   ]
  },
  {
   "cell_type": "code",
   "execution_count": 11,
   "metadata": {
    "ExecuteTime": {
     "end_time": "2020-01-13T07:12:21.233515Z",
     "start_time": "2020-01-13T07:12:21.221005Z"
    }
   },
   "outputs": [
    {
     "name": "stdout",
     "output_type": "stream",
     "text": [
      "Help on built-in function sorted in module builtins:\n",
      "\n",
      "sorted(iterable, /, *, key=None, reverse=False)\n",
      "    Return a new list containing all items from the iterable in ascending order.\n",
      "    \n",
      "    A custom key function can be supplied to customize the sort order, and the\n",
      "    reverse flag can be set to request the result in descending order.\n",
      "\n"
     ]
    }
   ],
   "source": [
    "help(sorted)"
   ]
  },
  {
   "cell_type": "code",
   "execution_count": 12,
   "metadata": {
    "ExecuteTime": {
     "end_time": "2020-01-13T07:12:22.255988Z",
     "start_time": "2020-01-13T07:12:22.243405Z"
    }
   },
   "outputs": [
    {
     "name": "stdout",
     "output_type": "stream",
     "text": [
      "[('Anne', 17), ('Bob', 32), ('Charlotte', 8), ('Daniel', 23)]\n",
      "[('Charlotte', 8), ('Anne', 17), ('Daniel', 23), ('Bob', 32)]\n"
     ]
    }
   ],
   "source": [
    "names_ages = [(\"Daniel\", 23), (\"Bob\", 32), (\"Charlotte\", 8), (\"Anne\", 17)]\n",
    "\n",
    "# Sort on the first elements of the tuples\n",
    "print(list(sorted(names_ages, key=lambda name_age: name_age[0])))\n",
    "\n",
    "# Sort on the second elements of the tuples\n",
    "print(list(sorted(names_ages, key=lambda name_age: name_age[1])))"
   ]
  },
  {
   "cell_type": "markdown",
   "metadata": {
    "slideshow": {
     "slide_type": "slide"
    }
   },
   "source": [
    "# Documenting with 'docstrings' (1/2)\n",
    "* Again: names of function (_and_ of their arguments) should convey as much info as possible.\n",
    "* Additional documentation can be given in 'docstrings'."
   ]
  },
  {
   "cell_type": "code",
   "execution_count": 13,
   "metadata": {
    "ExecuteTime": {
     "end_time": "2020-01-13T07:12:24.844884Z",
     "start_time": "2020-01-13T07:12:24.836097Z"
    },
    "slideshow": {
     "slide_type": "fragment"
    }
   },
   "outputs": [],
   "source": [
    "def fibonacci(n: int) -> int:\n",
    "    \"\"\"Calculate the Nth Fibonacci number\n",
    "    \n",
    "    Complexity: O(2^N) (so will blow up for large numbers)\n",
    "    \n",
    "    Parameters\n",
    "    ----------\n",
    "    n\n",
    "        The index of the number in the Fibonacci sequence to compute\n",
    "    \n",
    "    Returns\n",
    "    -------\n",
    "    The number F_n such that F_n = F_n-1 + F_n-2\n",
    "    \"\"\"\n",
    "    if n <= 1:\n",
    "        return n\n",
    "    else:\n",
    "        return fibonacci(n - 1) + fibonacci(n - 2)"
   ]
  },
  {
   "cell_type": "markdown",
   "metadata": {
    "slideshow": {
     "slide_type": "fragment"
    }
   },
   "source": [
    "* Format: brief, description, parameters, return value; always at beginning; different styles for parameters and return values available."
   ]
  },
  {
   "cell_type": "markdown",
   "metadata": {
    "slideshow": {
     "slide_type": "slide"
    }
   },
   "source": [
    "# Documenting with 'docstrings' (2/2)"
   ]
  },
  {
   "cell_type": "code",
   "execution_count": 14,
   "metadata": {
    "ExecuteTime": {
     "end_time": "2020-01-13T07:12:29.012662Z",
     "start_time": "2020-01-13T07:12:29.005461Z"
    }
   },
   "outputs": [
    {
     "name": "stdout",
     "output_type": "stream",
     "text": [
      "Help on function fibonacci in module __main__:\n",
      "\n",
      "fibonacci(n: int) -> int\n",
      "    Calculate the Nth Fibonacci number\n",
      "    \n",
      "    Complexity: O(2^N) (so will blow up for large numbers)\n",
      "    \n",
      "    Parameters\n",
      "    ----------\n",
      "    n\n",
      "        The index of the number in the Fibonacci sequence to compute\n",
      "    \n",
      "    Returns\n",
      "    -------\n",
      "    The number F_n such that F_n = F_n-1 + F_n-2\n",
      "\n"
     ]
    }
   ],
   "source": [
    "help(fibonacci)"
   ]
  },
  {
   "cell_type": "markdown",
   "metadata": {
    "slideshow": {
     "slide_type": "fragment"
    }
   },
   "source": [
    "Docstrings are also available in editor/IDE (hold ctrl and mouse over in PyCharm)"
   ]
  },
  {
   "cell_type": "markdown",
   "metadata": {
    "slideshow": {
     "slide_type": "slide"
    }
   },
   "source": [
    "# Modules and Packages\n",
    "## _More_ Encapsulation, Abstraction, Reuse"
   ]
  },
  {
   "cell_type": "markdown",
   "metadata": {
    "slideshow": {
     "slide_type": "slide"
    }
   },
   "source": [
    "# Modules: grouping functionality by file\n",
    "* Functions that are very related can be gathered together into a _module_\n",
    "* A module is just a separate file with some functions\n",
    "* A module can also contain loose variables, but often bad practice (hidden state)\n",
    "* Modules enable reuse of functions in different programs\n",
    "\n",
    "### <center>= PyCharm Demo =</center>"
   ]
  },
  {
   "cell_type": "markdown",
   "metadata": {
    "slideshow": {
     "slide_type": "slide"
    }
   },
   "source": [
    "# Packages: grouping modules by directory\n",
    "* Modules that are very related can be gathered together in a _package_\n",
    "* A package is just a directory with some modules _and an `__init__.py` file_\n",
    "* Packages can be nested\n",
    "\n",
    "### <center>= PyCharm Demo =</center>"
   ]
  },
  {
   "cell_type": "markdown",
   "metadata": {
    "slideshow": {
     "slide_type": "slide"
    }
   },
   "source": [
    "# Module and package considerations\n",
    "\n",
    "* **Good naming!**\n",
    "* Use logical grouping:\n",
    "\n",
    "    * Conceptually rather than by use case - airport functions can be used for normal flights and transfer flights; a module for each use case would prevent reuse.\n",
    "    * Heuristic: group by dependency - prevent unnecesary transient dependency loading; if one module has many dependencies, or two models share many, maybe time to rethink structure"
   ]
  },
  {
   "cell_type": "markdown",
   "metadata": {
    "slideshow": {
     "slide_type": "fragment"
    }
   },
   "source": [
    "* Try not to go too deep - difficult to find your code with very long imports; if sensible, expose functionality at level up:\n",
    "        \n",
    "    ```python\n",
    "    # airport/__init__.py\n",
    "    from security import is_safe_for_hand_luggage, should_take_off\n",
    "    from gate import should_board_front, upgrade_passenger\n",
    "    \n",
    "    __all__ = [\"is_safe_for_hand_luggage\", \"should_take_off\",\n",
    "               \"should_board_front\", \"upgrade_passenger\"]\n",
    "    ```"
   ]
  }
 ],
 "metadata": {
  "celltoolbar": "Slideshow",
  "kernelspec": {
   "display_name": "Python 3",
   "language": "python",
   "name": "python3"
  },
  "language_info": {
   "codemirror_mode": {
    "name": "ipython",
    "version": 3
   },
   "file_extension": ".py",
   "mimetype": "text/x-python",
   "name": "python",
   "nbconvert_exporter": "python",
   "pygments_lexer": "ipython3",
   "version": "3.7.5rc1"
  }
 },
 "nbformat": 4,
 "nbformat_minor": 2
}
