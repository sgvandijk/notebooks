{
 "cells": [
  {
   "cell_type": "markdown",
   "metadata": {
    "slideshow": {
     "slide_type": "slide"
    }
   },
   "source": [
    "# Practical Deep Learning\n",
    "## Getting your deep neural network into a car\n",
    "\n",
    "<br>\n",
    "Sander van Dijk @ Parkopedia\n",
    "\n",
    "<br>\n",
    "3 May 2018"
   ]
  },
  {
   "cell_type": "markdown",
   "metadata": {
    "slideshow": {
     "slide_type": "slide"
    }
   },
   "source": [
    "# SDC @ Parkopedia:  Autonomous Valet Parking\n",
    "\n",
    "<center>\n",
    "    <img src=\"figs/avp.png\" alt=\"Autonomous Valet Parking\"></center>\n",
    "</center>"
   ]
  },
  {
   "cell_type": "markdown",
   "metadata": {
    "slideshow": {
     "slide_type": "notes"
    }
   },
   "source": [
    "Parkopedia provides parking services for connected cars now, we aim to power autonomous parking in the future.\n",
    "\n",
    "Most importantly this means providing detailed maps. To validate the usefulness, we are building a full self driving AVP demonstration."
   ]
  },
  {
   "cell_type": "markdown",
   "metadata": {
    "slideshow": {
     "slide_type": "slide"
    }
   },
   "source": [
    "# What's Deep Learning?\n",
    "\n",
    "<center><img src=\"figs/nn_example-624x218.png\"></center>\n",
    "\n",
    "* *Neural network with more than 1 hidden layer*\n",
    "* Decades old\n",
    "* Now booming thanks to breakthroughs in:\n",
    "    * Hardware (GPUs)\n",
    "    * Large data sets\n",
    "    * Some theoretical architecture/training advances\n"
   ]
  },
  {
   "cell_type": "markdown",
   "metadata": {
    "slideshow": {
     "slide_type": "slide"
    }
   },
   "source": [
    "<center><img src=\"figs/mit-architectures.png\"></center>\n",
    "\n",
    "<small>Source: <a href=\"https://selfdrivingcars.mit.edu/\">MIT 6.S094: Deep Learning for Self-Driving Cars</a></small>"
   ]
  },
  {
   "cell_type": "markdown",
   "metadata": {
    "ExecuteTime": {
     "end_time": "2018-05-02T12:47:38.712090Z",
     "start_time": "2018-05-02T12:47:38.704971Z"
    },
    "slideshow": {
     "slide_type": "slide"
    }
   },
   "source": [
    "# Deep Learning Achievements: ImageNet\n",
    "\n",
    "<center><img src=\"figs/imagenet-examples.png\"></center>"
   ]
  },
  {
   "cell_type": "markdown",
   "metadata": {
    "slideshow": {
     "slide_type": "subslide"
    }
   },
   "source": [
    "# Deep Learning Achievements: ImageNet\n",
    "\n",
    "<center><img src=\"figs/imagenet-scores.png\"></center>"
   ]
  },
  {
   "cell_type": "markdown",
   "metadata": {
    "slideshow": {
     "slide_type": "slide"
    }
   },
   "source": [
    "# Deep Learning Achievements: AlphaGo\n",
    "\n",
    "<center><img src=\"figs/alphago.png\"></center>\n",
    "\n",
    "<small>Source: Mastering the game of Go with deep \n",
    "neural networks and tree search, Silver et al, Nature, 2016</small>"
   ]
  },
  {
   "cell_type": "markdown",
   "metadata": {
    "ExecuteTime": {
     "end_time": "2018-05-02T14:40:32.151842Z",
     "start_time": "2018-05-02T14:40:32.145763Z"
    },
    "slideshow": {
     "slide_type": "subslide"
    }
   },
   "source": [
    "# Deep Learning Achievements: AlphaGo\n",
    "\n",
    "<center><table style=\"border: 0px\"><tr style=\"border: 0px\">\n",
    "    <td width=\"50%\" style=\"border: 0px\"><img src=\"figs/alphago-kejie.jpg\"></td>\n",
    "    <td style=\"border: 0px\"><img src=\"figs/alphago-elo.png\"></td>\n",
    "</tr></table></center>"
   ]
  },
  {
   "cell_type": "markdown",
   "metadata": {
    "slideshow": {
     "slide_type": "slide"
    }
   },
   "source": [
    "# Deep Learning Achievements: Translation\n",
    "\n",
    "<center>\n",
    "    <img src=\"figs/translation-viz.png\" width=\"60%\">\n",
    "\n",
    "    <img src=\"figs/translation-example.png\" width=\"60%\">\n",
    "</center>\n",
    "\n",
    "<small>Source: <a href=\"https://research.googleblog.com/2016/09/a-neural-network-for-machine.html\">Google research blog</a></small>"
   ]
  },
  {
   "cell_type": "markdown",
   "metadata": {
    "slideshow": {
     "slide_type": "subslide"
    }
   },
   "source": [
    "# Deep Learning Achievements: Translation\n",
    "\n",
    "<center>\n",
    "    <img src=\"figs/translation-perf.png\">\n",
    "</center>"
   ]
  },
  {
   "cell_type": "markdown",
   "metadata": {
    "slideshow": {
     "slide_type": "slide"
    }
   },
   "source": [
    "# But At What Cost??\n",
    "\n",
    "**Training: huge GPU (/TPU) cluster**\n",
    "\n",
    "OK, we can live with that, as long as we can run it in our car. Can we...?"
   ]
  },
  {
   "cell_type": "markdown",
   "metadata": {
    "slideshow": {
     "slide_type": "slide"
    }
   },
   "source": [
    "# But At What Cost??\n",
    "\n",
    "* **SENet** (ImageNet 2017):\n",
    "\n",
    "    > 209 ms on a server with 8 NVIDIA Titan X GPUs\n",
    "* **AlphaGo**\n",
    "\n",
    "    <img src=\"figs/alphago-cost.png\" style=\"height: 160px\">\n",
    "\n",
    "* **GNMT**\n",
    "\n",
    "    Trained on 12 machines, no info on runtime, but it's Google..."
   ]
  },
  {
   "cell_type": "markdown",
   "metadata": {
    "slideshow": {
     "slide_type": "slide"
    }
   },
   "source": [
    "# That's a Lot of Computation..\n",
    "<center><img src=\"figs/truck-computers.jpg\"></center>"
   ]
  },
  {
   "cell_type": "markdown",
   "metadata": {
    "slideshow": {
     "slide_type": "slide"
    }
   },
   "source": [
    "# That's a Lot of Computation..\n",
    "<center><img src=\"figs/audi-trunk.jpg\"></center>"
   ]
  }
 ],
 "metadata": {
  "celltoolbar": "Slideshow",
  "kernelspec": {
   "display_name": "Python 3",
   "language": "python",
   "name": "python3"
  },
  "language_info": {
   "codemirror_mode": {
    "name": "ipython",
    "version": 3
   },
   "file_extension": ".py",
   "mimetype": "text/x-python",
   "name": "python",
   "nbconvert_exporter": "python",
   "pygments_lexer": "ipython3",
   "version": "3.6.3"
  },
  "toc": {
   "colors": {
    "hover_highlight": "#DAA520",
    "running_highlight": "#FF0000",
    "selected_highlight": "#FFD700"
   },
   "moveMenuLeft": true,
   "nav_menu": {
    "height": "63px",
    "width": "252px"
   },
   "navigate_menu": true,
   "number_sections": true,
   "sideBar": true,
   "threshold": 4,
   "toc_cell": false,
   "toc_section_display": "block",
   "toc_window_display": true,
   "widenNotebook": false
  }
 },
 "nbformat": 4,
 "nbformat_minor": 2
}
