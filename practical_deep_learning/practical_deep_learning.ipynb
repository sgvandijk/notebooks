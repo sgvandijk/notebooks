{
 "cells": [
  {
   "cell_type": "markdown",
   "metadata": {
    "slideshow": {
     "slide_type": "slide"
    }
   },
   "source": [
    "# Practical Deep Learning\n",
    "## Getting your deep neural network into a car\n",
    "\n",
    "<br>\n",
    "Sander van Dijk @ Parkopedia\n",
    "\n",
    "<br>\n",
    "3 May 2018"
   ]
  },
  {
   "cell_type": "markdown",
   "metadata": {
    "slideshow": {
     "slide_type": "subslide"
    }
   },
   "source": [
    "# Schedule\n",
    "* Introductions (15 min – presentation & interactive discussion)\n",
    "* Introduction to Deep Learning (30 min – presentation)\n",
    "* CNN Computation Costs (30 min – exercise)\n",
    "* Break (45 min)\n",
    "* Fast networks, optimisation tools and tricks (30 min – presentation)\n",
    "* End-to-End SDC Network (45 min – exercise)\n",
    "* Wrap-up and take-away notes (15 min – presentation & interactive discussion)"
   ]
  },
  {
   "cell_type": "code",
   "execution_count": 2,
   "metadata": {
    "ExecuteTime": {
     "end_time": "2018-05-03T14:39:01.906436Z",
     "start_time": "2018-05-03T14:39:01.901684Z"
    },
    "slideshow": {
     "slide_type": "skip"
    }
   },
   "outputs": [],
   "source": [
    "import warnings\n",
    "warnings.filterwarnings('ignore')\n",
    "from IPython.display import YouTubeVideo"
   ]
  },
  {
   "cell_type": "markdown",
   "metadata": {
    "slideshow": {
     "slide_type": "slide"
    }
   },
   "source": [
    "# About me\n",
    "\n",
    "* MSc in AI @ University of Groningen, NL, 2008\n",
    "* PhD in AI/CS @ University of Hertfordshire, UK, 2013:<br>\n",
    "    Information Theory, Artificial Life\n",
    "* Into RoboCup since 2006\n",
    "* Head of Research @ Parkopedia, joined 2013\n",
    "\n",
    "<table style=\"border: 0px;\"><tr style=\"border: 0px;\">\n",
    "    <td style=\"border: 0px;\"><img src=\"figs/rug.jpg\"></td>\n",
    "    <td style=\"border: 0px;\"><img src=\"figs/uh.jpg\"></td>\n",
    "    <td style=\"border: 0px;\"><img src=\"figs/bh.jpg\"></td>\n",
    "</tr></table>"
   ]
  },
  {
   "cell_type": "markdown",
   "metadata": {
    "slideshow": {
     "slide_type": "slide"
    }
   },
   "source": [
    "# RoboCup: Like SDC but With More Falling"
   ]
  },
  {
   "cell_type": "code",
   "execution_count": 3,
   "metadata": {
    "ExecuteTime": {
     "end_time": "2018-05-03T14:54:29.460967Z",
     "start_time": "2018-05-03T14:54:29.322765Z"
    }
   },
   "outputs": [
    {
     "data": {
      "image/jpeg": "[encoded data removed]",
      "text/html": [
       "\n",
       "        <iframe\n",
       "            width=\"800\"\n",
       "            height=\"480\"\n",
       "            src=\"https://www.youtube.com/embed/pzYHAp7b7sY\"\n",
       "            frameborder=\"0\"\n",
       "            allowfullscreen\n",
       "        ></iframe>\n",
       "        "
      ],
      "text/plain": [
       "<IPython.lib.display.YouTubeVideo at 0x7f73155c8860>"
      ]
     },
     "execution_count": 3,
     "metadata": {},
     "output_type": "execute_result"
    }
   ],
   "source": [
    "YouTubeVideo('pzYHAp7b7sY', width=800, height=480)"
   ]
  },
  {
   "cell_type": "markdown",
   "metadata": {
    "slideshow": {
     "slide_type": "subslide"
    }
   },
   "source": [
    "# Hardware: Octa-Core Mobile ARM\n",
    "\n",
    "<img src=\"figs/odroid-xu4.jpg\">"
   ]
  },
  {
   "cell_type": "markdown",
   "metadata": {
    "slideshow": {
     "slide_type": "subslide"
    }
   },
   "source": [
    "# Deep Learning on Minimal Hardware\n",
    "\n",
    "<img src=\"figs/boldnet.png\">\n",
    "\n",
    "Van Dijk, S.G. and Scheunemann, M.M.: *Deep Learning for Semantic Segmentation on Minimal Hardware.* In: RoboCup 2018: Robot World Cup XXII (2017)"
   ]
  },
  {
   "cell_type": "markdown",
   "metadata": {
    "slideshow": {
     "slide_type": "skip"
    }
   },
   "source": [
    "# Ball Segmentation Network\n",
    "\n",
    "<img src=\"figs/boldnet-keras.png\" width=\"40%\">"
   ]
  },
  {
   "cell_type": "markdown",
   "metadata": {
    "slideshow": {
     "slide_type": "subslide"
    }
   },
   "source": [
    "<img src=\"figs/ball-results.png\" width=\"80%\">"
   ]
  },
  {
   "cell_type": "markdown",
   "metadata": {
    "slideshow": {
     "slide_type": "subslide"
    }
   },
   "source": [
    "# Ball Segmentation: Real Time Performance\n",
    "\n",
    "<img src=\"figs/boldnet-perf.png\">"
   ]
  },
  {
   "cell_type": "markdown",
   "metadata": {
    "slideshow": {
     "slide_type": "slide"
    }
   },
   "source": [
    "# Parkopedia\n",
    "* Founded 10 years ago\n",
    "* Now: global leader in digital parking services for automotive\n",
    "* 8000 cities, 60 million parking spaces\n",
    "* Research driven:\n",
    "\n",
    "    * Predicitve parking availability ML models\n",
    "    * DL for automated discovery and attribute extraction\n",
    "    * *Autonomous Valet Parking*"
   ]
  },
  {
   "cell_type": "markdown",
   "metadata": {
    "slideshow": {
     "slide_type": "subslide"
    }
   },
   "source": [
    "# SDC @ Parkopedia:  Autonomous Valet Parking\n",
    "\n",
    "<center>\n",
    "    <img src=\"figs/avp.png\" alt=\"Autonomous Valet Parking\"></center>\n",
    "</center>"
   ]
  },
  {
   "cell_type": "markdown",
   "metadata": {
    "slideshow": {
     "slide_type": "notes"
    }
   },
   "source": [
    "Parkopedia provides parking services for connected cars now, we aim to power autonomous parking in the future.\n",
    "\n",
    "Most importantly this means providing detailed maps. Because of the scale of mapping facilities all around the globe, a lot of this has to be automated. To validate the usefulness of our maps, we are building a full self driving AVP demonstration."
   ]
  },
  {
   "cell_type": "markdown",
   "metadata": {
    "slideshow": {
     "slide_type": "subslide"
    }
   },
   "source": [
    "# SDC @ Parkopedia:  Autonomous Valet Parking\n",
    "\n",
    "<center>\n",
    "    <img src=\"figs/streetdrone.jpg\">\n",
    "</center>"
   ]
  },
  {
   "cell_type": "markdown",
   "metadata": {
    "slideshow": {
     "slide_type": "slide"
    }
   },
   "source": [
    "# What's Deep Learning?\n",
    "\n",
    "<center><img src=\"figs/nn_example-624x218.png\"></center>\n",
    "\n",
    "* *Neural network with more than 1 hidden layer*\n",
    "* Decades old\n",
    "* Now booming thanks to breakthroughs in:\n",
    "    * Hardware (GPUs)\n",
    "    * Large data sets\n",
    "    * Some theoretical architecture/training advances\n"
   ]
  },
  {
   "cell_type": "markdown",
   "metadata": {
    "ExecuteTime": {
     "end_time": "2018-05-02T12:47:38.712090Z",
     "start_time": "2018-05-02T12:47:38.704971Z"
    },
    "slideshow": {
     "slide_type": "slide"
    }
   },
   "source": [
    "# Deep Learning Achievements: ImageNet\n",
    "\n",
    "<center><img src=\"figs/imagenet-examples.png\"></center>"
   ]
  },
  {
   "cell_type": "markdown",
   "metadata": {
    "slideshow": {
     "slide_type": "notes"
    }
   },
   "source": [
    "ImageNet is a very large database of URLs of images on the internet, with their respective manual annotations. It is used as a standard benchmark for object recognition/classification tasks."
   ]
  },
  {
   "cell_type": "markdown",
   "metadata": {
    "slideshow": {
     "slide_type": "subslide"
    }
   },
   "source": [
    "# Deep Learning Achievements: ImageNet\n",
    "\n",
    "<center><img src=\"figs/imagenet-scores.png\"></center>"
   ]
  },
  {
   "cell_type": "markdown",
   "metadata": {
    "slideshow": {
     "slide_type": "notes"
    }
   },
   "source": [
    "Human error is about 5%, mainly due to difficulty of telling animal breeds apart. This was broken in 2015 by deep networks, that are now 'superhuman'. It may look like progress has stagnated after that, but it's just because the errors have become so small that changes that seem insignificant are still large relatively."
   ]
  },
  {
   "cell_type": "markdown",
   "metadata": {
    "slideshow": {
     "slide_type": "slide"
    }
   },
   "source": [
    "# Deep Learning Achievements: AlphaGo\n",
    "\n",
    "<center><img src=\"figs/alphago.png\"></center>\n",
    "\n",
    "<small>Source: Mastering the game of Go with deep \n",
    "neural networks and tree search, Silver et al, Nature, 2016</small>"
   ]
  },
  {
   "cell_type": "markdown",
   "metadata": {
    "slideshow": {
     "slide_type": "notes"
    }
   },
   "source": [
    "After chess was 'solved' with the defeat of Kasparov by Deep Blue in 1997, Go was seen as the new challenge for AI. Because of the much larger number of possible moves to choose from, it is much more difficult to solve in a brute force way and computers were only able to defeat amateurs, until 2015, and experts expected it would take quite some years more to get o professional level. Deepmind's AlphGo however shockingly beat the first professional, European champion Fan Hui, in 2015, and went on to defeat 18 time world champion Lee Sedol in 2016."
   ]
  },
  {
   "cell_type": "markdown",
   "metadata": {
    "ExecuteTime": {
     "end_time": "2018-05-02T14:40:32.151842Z",
     "start_time": "2018-05-02T14:40:32.145763Z"
    },
    "slideshow": {
     "slide_type": "subslide"
    }
   },
   "source": [
    "# Deep Learning Achievements: AlphaGo\n",
    "\n",
    "<center><table style=\"border: 0px\"><tr style=\"border: 0px\">\n",
    "    <td width=\"50%\" style=\"border: 0px\"><img src=\"figs/alphago-kejie.jpg\"></td>\n",
    "    <td style=\"border: 0px\"><img src=\"figs/alphago-elo.png\"></td>\n",
    "</tr></table></center>"
   ]
  },
  {
   "cell_type": "markdown",
   "metadata": {
    "slideshow": {
     "slide_type": "slide"
    }
   },
   "source": [
    "# Deep Learning Achievements: Translation\n",
    "\n",
    "<center>\n",
    "    <img src=\"figs/translation-viz.png\" width=\"60%\">\n",
    "\n",
    "    <img src=\"figs/translation-example.png\" width=\"60%\">\n",
    "</center>\n",
    "\n",
    "<small>Source: <a href=\"https://research.googleblog.com/2016/09/a-neural-network-for-machine.html\">Google research blog</a></small>"
   ]
  },
  {
   "cell_type": "markdown",
   "metadata": {
    "slideshow": {
     "slide_type": "notes"
    }
   },
   "source": [
    "Finally, translation is another example where deep learning now starts reaching human levels of performance. Using networks to encode input text into it's 'meaning' and then decode it into a different language, deep learning clearly outperforms more classical methods and gets close to human performance. This is what drives google translate and Siri in your phone."
   ]
  },
  {
   "cell_type": "markdown",
   "metadata": {
    "slideshow": {
     "slide_type": "subslide"
    }
   },
   "source": [
    "# Deep Learning Achievements: Translation\n",
    "\n",
    "<center>\n",
    "    <img src=\"figs/translation-perf.png\">\n",
    "</center>"
   ]
  },
  {
   "cell_type": "markdown",
   "metadata": {
    "slideshow": {
     "slide_type": "slide"
    }
   },
   "source": [
    "# But At What Cost??\n",
    "\n",
    "**Training: huge GPU (/TPU) clusters**\n",
    "\n",
    "<img src=\"figs/gpu-cluster.png\" width=\"70%\">\n",
    "\n",
    "OK, we can live with that, as long as we can run it in our car. Can we...?"
   ]
  },
  {
   "cell_type": "markdown",
   "metadata": {
    "slideshow": {
     "slide_type": "subslide"
    }
   },
   "source": [
    "# But At What Cost??\n",
    "\n",
    "* **SENet** (ImageNet 2017):\n",
    "\n",
    "    > 209 ms on a server with 8 NVIDIA Titan X GPUs\n",
    "* **AlphaGo**\n",
    "\n",
    "    <img src=\"figs/alphago-cost.png\" style=\"height: 160px\">\n",
    "\n",
    "* **GNMT**\n",
    "\n",
    "    Trained on 12 machines, no info on runtime, but it's Google..."
   ]
  },
  {
   "cell_type": "markdown",
   "metadata": {
    "slideshow": {
     "slide_type": "subslide"
    }
   },
   "source": [
    "# That's a Lot of Computation..\n",
    "<center><img src=\"figs/truck-computers.jpg\"></center>"
   ]
  },
  {
   "cell_type": "markdown",
   "metadata": {
    "slideshow": {
     "slide_type": "subslide"
    }
   },
   "source": [
    "# That's a Lot of Computation..\n",
    "<center><img src=\"figs/audi-trunk.jpg\"></center>"
   ]
  },
  {
   "cell_type": "markdown",
   "metadata": {
    "slideshow": {
     "slide_type": "slide"
    }
   },
   "source": [
    "# DL Tasks for Self Driving Cars\n",
    "\n",
    "* **Object Detection** - Find bounding boxes of objects in an image (and what kind of objects they are)\n",
    "* **Image Segmentation** - What kind of object does each pixel belong to?\n",
    "* **Object Segmentation** - Which pixels belong to the same object (and what kind of object is that)?\n",
    "* Reinforcement Learning - What actions should de car perform?\n",
    "* Human Sensing - Is the driver paying attention?\n",
    "\n",
    "Image classificaction, not so much"
   ]
  },
  {
   "cell_type": "markdown",
   "metadata": {
    "slideshow": {
     "slide_type": "subslide"
    }
   },
   "source": [
    "# DL Tasks for SDCs: Object Detection"
   ]
  },
  {
   "cell_type": "code",
   "execution_count": 2,
   "metadata": {
    "ExecuteTime": {
     "end_time": "2018-05-03T14:53:14.199599Z",
     "start_time": "2018-05-03T14:53:14.058086Z"
    }
   },
   "outputs": [
    {
     "data": {
      "image/jpeg": "[encoded data removed]",
      "text/html": [
       "\n",
       "        <iframe\n",
       "            width=\"800\"\n",
       "            height=\"480\"\n",
       "            src=\"https://www.youtube.com/embed/_kxX09i4fds\"\n",
       "            frameborder=\"0\"\n",
       "            allowfullscreen\n",
       "        ></iframe>\n",
       "        "
      ],
      "text/plain": [
       "<IPython.lib.display.YouTubeVideo at 0x7f8f081bba20>"
      ]
     },
     "execution_count": 2,
     "metadata": {},
     "output_type": "execute_result"
    }
   ],
   "source": [
    "YouTubeVideo('_kxX09i4fds', width=800, height=480)"
   ]
  },
  {
   "cell_type": "markdown",
   "metadata": {
    "slideshow": {
     "slide_type": "subslide"
    }
   },
   "source": [
    "# DL Tasks for SDCs: Object Detection\n",
    "\n",
    "<center><img src=\"figs/yolo9000.png\"></center>\n",
    "\n",
    "<small>Source: <a href=\"https://github.com/karolmajek/darknet\">Karol Majek</a> - YOLO9000</small>"
   ]
  },
  {
   "cell_type": "markdown",
   "metadata": {
    "slideshow": {
     "slide_type": "subslide"
    }
   },
   "source": [
    "# DL Tasks for SDCs: Semantic Segmentation"
   ]
  },
  {
   "cell_type": "code",
   "execution_count": 3,
   "metadata": {
    "ExecuteTime": {
     "end_time": "2018-05-03T14:49:24.752338Z",
     "start_time": "2018-05-03T14:49:24.568754Z"
    }
   },
   "outputs": [
    {
     "data": {
      "image/jpeg": "[encoded data removed]",
      "text/html": [
       "\n",
       "        <iframe\n",
       "            width=\"800\"\n",
       "            height=\"480\"\n",
       "            src=\"https://www.youtube.com/embed/Nok6Xludc_Q\"\n",
       "            frameborder=\"0\"\n",
       "            allowfullscreen\n",
       "        ></iframe>\n",
       "        "
      ],
      "text/plain": [
       "<IPython.lib.display.YouTubeVideo at 0x7f8f0810c8d0>"
      ]
     },
     "execution_count": 3,
     "metadata": {},
     "output_type": "execute_result"
    }
   ],
   "source": [
    "YouTubeVideo('Nok6Xludc_Q', width=800, height=480)"
   ]
  },
  {
   "cell_type": "markdown",
   "metadata": {
    "slideshow": {
     "slide_type": "subslide"
    }
   },
   "source": [
    "# DL Tasks for SDCs: Semantic Segmentation\n",
    "\n",
    "<center><img src=\"figs/semantic-segmentation.png\"></center>\n",
    "\n",
    "<small>Source: http://abhijitkundu.info/projects/fso/</small>"
   ]
  },
  {
   "cell_type": "markdown",
   "metadata": {
    "slideshow": {
     "slide_type": "subslide"
    }
   },
   "source": [
    "# DL Tasks for SDCs: Object Segmentation"
   ]
  },
  {
   "cell_type": "code",
   "execution_count": 4,
   "metadata": {
    "ExecuteTime": {
     "end_time": "2018-05-03T14:46:24.072162Z",
     "start_time": "2018-05-03T14:46:23.927626Z"
    }
   },
   "outputs": [
    {
     "data": {
      "image/jpeg": "[encoded data removed]",
      "text/html": [
       "\n",
       "        <iframe\n",
       "            width=\"800\"\n",
       "            height=\"480\"\n",
       "            src=\"https://www.youtube.com/embed/OOT3UIXZztE\"\n",
       "            frameborder=\"0\"\n",
       "            allowfullscreen\n",
       "        ></iframe>\n",
       "        "
      ],
      "text/plain": [
       "<IPython.lib.display.YouTubeVideo at 0x7f8f0810c978>"
      ]
     },
     "execution_count": 4,
     "metadata": {},
     "output_type": "execute_result"
    }
   ],
   "source": [
    "YouTubeVideo('OOT3UIXZztE', width=800, height=480)"
   ]
  },
  {
   "cell_type": "markdown",
   "metadata": {
    "slideshow": {
     "slide_type": "subslide"
    }
   },
   "source": [
    "# DL Tasks for SDCs: Object Segmentation\n",
    "\n",
    "<center><img src=\"figs/mask-rcnn.png\"></center>\n",
    "\n",
    "<small>Source: <a href=\"https://github.com/karolmajek/darknet\">Karol Majek</a> - Mask-RCNN</small>"
   ]
  },
  {
   "cell_type": "markdown",
   "metadata": {
    "slideshow": {
     "slide_type": "slide"
    }
   },
   "source": [
    "<center><img src=\"figs/mit-architectures.png\"></center>\n",
    "\n",
    "<small>Source: <a href=\"https://selfdrivingcars.mit.edu/\">MIT 6.S094: Deep Learning for Self-Driving Cars</a></small>"
   ]
  },
  {
   "cell_type": "markdown",
   "metadata": {
    "slideshow": {
     "slide_type": "notes"
    }
   },
   "source": [
    "If the network learns its output given image data, the 'stem' of the network is generally very similar: a number of convolution layers that encode the images in a way that retains spatial relationships. The final task determines the 'head' of the network: fully connected layers for classification or object localization, recurrent networks for captioning, or more (de)convolution layers for segmentation."
   ]
  },
  {
   "cell_type": "markdown",
   "metadata": {
    "slideshow": {
     "slide_type": "slide"
    }
   },
   "source": [
    "# How to Choose a Network?\n",
    "\n",
    "## *Problem Fit*\n",
    "But:\n",
    "* Do you need DL all the way?\n",
    "* Computation vs Performance"
   ]
  },
  {
   "cell_type": "markdown",
   "metadata": {
    "slideshow": {
     "slide_type": "notes"
    }
   },
   "source": [
    "As with any machine learning approach, you should pick a network that fits your problem. Most importantly, it should fit your cost function: how do you best determine good from bad results for your specific problem?\n",
    "\n",
    "For instance, object counting: this can be posed as a regression problem, but also a classification problem, where each count is a separate class. The first implies you want a count that is as close to the actual as possible, whereas with the second a count off by 1 is as bad as off by 100.\n",
    "\n",
    "Also, do you really need end-to-end deep learning? Can you break your problem into pieces, e.g. object detection -> classification? Can you use cheaper 'traditional' ML methods for some part?\n",
    "\n",
    "This all takes part in the final computation vs performance trade-off."
   ]
  },
  {
   "cell_type": "markdown",
   "metadata": {
    "slideshow": {
     "slide_type": "slide"
    }
   },
   "source": [
    "# Computation vs Performance\n",
    "\n",
    "<center><img src=\"figs/mobilenet_v1.png\"></center>"
   ]
  },
  {
   "cell_type": "markdown",
   "metadata": {
    "slideshow": {
     "slide_type": "subslide"
    }
   },
   "source": [
    "# Computation vs Performance\n",
    "\n",
    "<center><img src=\"figs/yolo-perf.png\"></center>"
   ]
  },
  {
   "cell_type": "markdown",
   "metadata": {
    "ExecuteTime": {
     "end_time": "2018-05-02T21:11:06.619674Z",
     "start_time": "2018-05-02T21:11:06.616131Z"
    },
    "slideshow": {
     "slide_type": "notes"
    }
   },
   "source": [
    "When reading such trade-off results, pay attention to the details:\n",
    "* Watch out for resolutions, and authors that use flashy names.\n",
    "* Testing is best, but you can get an objective intuition of operations before building a network.\n",
    "* Because understanding each layer and building and testing your own network is always better"
   ]
  },
  {
   "cell_type": "markdown",
   "metadata": {
    "slideshow": {
     "slide_type": "slide"
    }
   },
   "source": [
    "# Operation Costs: Convolution\n",
    "\n",
    "<center><img src=\"figs/convolution.png\" style=\"width: 70%;\"></center>\n",
    "\n",
    "<small>Source: <a href=\"http://machinethink.net/blog/googles-mobile-net-architecture-on-iphone/\">MachineThink</a></small>"
   ]
  },
  {
   "cell_type": "markdown",
   "metadata": {
    "slideshow": {
     "slide_type": "notes"
    }
   },
   "source": [
    "Convolution works by moving a 'kernel' along the input image/feature map in 2D. At every location, the weights inside of the kernel are multiplied with the corresponding input values, after which all these are summed up to get a single output value. Doing this with a single kernel results in a single 2D output; by using multiple different kernels a multilayered output feature map is obtained."
   ]
  },
  {
   "cell_type": "markdown",
   "metadata": {
    "slideshow": {
     "slide_type": "slide"
    }
   },
   "source": [
    "# Exercise 1\n",
    "\n",
    "## CNN Computation Costs\n",
    "\n",
    "<br><br>\n",
    "<center>\n",
    "    <span style=\"font-size: 300%\"><a href=\"https://tinyurl.com/sdtd-dl-1\">https://tinyurl.com/sdtd-dl-1</a></span>\n",
    "</center>"
   ]
  },
  {
   "cell_type": "markdown",
   "metadata": {
    "slideshow": {
     "slide_type": "subslide"
    }
   },
   "source": [
    "# Operation Costs: Convolution\n",
    "\n",
    "<img src=\"figs/convolution.png\" style=\"width: 30%; float: right;\">\n",
    "\n",
    "\n",
    "* A $W \\times H$ input tensor (image)... \n",
    "* with $C$ features (channels)...\n",
    "* is convolved with $F$ ...\n",
    "* $N \\times N$ kernels\n",
    "\n",
    "Total number of operations (Multiply-Accumulate, MACs):\n",
    "\n",
    "$W \\times H \\times C \\times F \\times N^2$"
   ]
  },
  {
   "cell_type": "markdown",
   "metadata": {
    "slideshow": {
     "slide_type": "subslide"
    }
   },
   "source": [
    "# Operation Costs: Convolution\n",
    "\n",
    "* **2 convs are better than 1**\n",
    "\n",
    "    Convolution is *associative*: $ f \\otimes (g \\otimes h) = (f \\otimes g) \\otimes h $"
   ]
  },
  {
   "cell_type": "markdown",
   "metadata": {
    "slideshow": {
     "slide_type": "notes"
    }
   },
   "source": [
    "A convolution kernel is a 3rd order tensor (3d array), just like an image/feature map, so itself can be convolved with another kernel. Associativity means that if we want to convolve an input with a kernel that is itself the result of a convolution of two simpler kernels, we get the same result by convolving the input in series with the two separate kernels. To get an intuition about what that means and how this is helpful, we look at the Gaussian blurring convolution operator."
   ]
  },
  {
   "cell_type": "code",
   "execution_count": 7,
   "metadata": {
    "ExecuteTime": {
     "end_time": "2018-05-03T10:23:15.526772Z",
     "start_time": "2018-05-03T10:23:15.523398Z"
    },
    "slideshow": {
     "slide_type": "skip"
    }
   },
   "outputs": [],
   "source": [
    "import numpy as np\n",
    "from scipy.signal import convolve2d, gaussian\n",
    "from math import sqrt\n",
    "\n",
    "def gaussian2d(size, std):\n",
    "    gaussian1d = gaussian(size, std)\n",
    "    gaussian2d = np.outer(gaussian1d, gaussian1d)\n",
    "    return gaussian2d"
   ]
  },
  {
   "cell_type": "code",
   "execution_count": 9,
   "metadata": {
    "ExecuteTime": {
     "end_time": "2018-05-03T10:23:17.118919Z",
     "start_time": "2018-05-03T10:23:17.110285Z"
    },
    "slideshow": {
     "slide_type": "skip"
    }
   },
   "outputs": [],
   "source": [
    "from skimage.io import imshow\n",
    "import matplotlib.pyplot as plt\n",
    "%matplotlib inline\n",
    "\n",
    "def show_kernels(kernels):\n",
    "    fig, axes = plt.subplots(1, 2)\n",
    "    for i in range(len(kernels)):\n",
    "        axes[i].imshow(kernels[i] / kernels[i].max(), cmap=\"hot\")\n",
    "        axes[i].set_yticks([])\n",
    "        axes[i].set_xticks([])\n",
    "    plt.show()"
   ]
  },
  {
   "cell_type": "code",
   "execution_count": 10,
   "metadata": {
    "ExecuteTime": {
     "end_time": "2018-05-03T10:23:17.877183Z",
     "start_time": "2018-05-03T10:23:17.797451Z"
    }
   },
   "outputs": [
    {
     "data": {
      "image/png": "[encoded data removed]",
      "text/plain": [
       "<Figure size 432x288 with 2 Axes>"
      ]
     },
     "metadata": {},
     "output_type": "display_data"
    }
   ],
   "source": [
    "gaussian5x5 = gaussian2d(5, 1)\n",
    "gaussian9x9 = gaussian2d(9, sqrt(2))\n",
    "show_kernels([gaussian5x5, gaussian9x9])\n"
   ]
  },
  {
   "cell_type": "markdown",
   "metadata": {
    "slideshow": {
     "slide_type": "notes"
    }
   },
   "source": [
    "Here we see the 5x5 and 9x9 Gaussian kernels, which would result in different amount of blurs when convolving an image with them."
   ]
  },
  {
   "cell_type": "markdown",
   "metadata": {
    "slideshow": {
     "slide_type": "subslide"
    }
   },
   "source": [
    "# Operation Costs: Convolution\n",
    "\n",
    "* **2 convs are better than 1**\n",
    "\n",
    "    Convolution is *associative*: $ f \\otimes (g \\otimes h) = (f \\otimes g) \\otimes h $"
   ]
  },
  {
   "cell_type": "code",
   "execution_count": 11,
   "metadata": {
    "ExecuteTime": {
     "end_time": "2018-05-03T10:23:22.594261Z",
     "start_time": "2018-05-03T10:23:22.512637Z"
    },
    "slideshow": {
     "slide_type": "-"
    }
   },
   "outputs": [
    {
     "data": {
      "image/png": "[encoded data removed]",
      "text/plain": [
       "<Figure size 432x288 with 2 Axes>"
      ]
     },
     "metadata": {},
     "output_type": "display_data"
    }
   ],
   "source": [
    "convolved_gaussian = convolve2d(gaussian5x5, gaussian5x5)\n",
    "\n",
    "show_kernels([convolved_gaussian, gaussian9x9])"
   ]
  },
  {
   "cell_type": "markdown",
   "metadata": {
    "slideshow": {
     "slide_type": "notes"
    }
   },
   "source": [
    "As we can see, convolving two 5x5 kernels results in the 9x9 kernel. This means that if we want to do a 9x9 Gaussian blur, we can instead do two 5x5 convolutions after each other. This reduces the amount of operations per pixel from $9 \\times 9 = 81$ to $2 \\times 5 \\times 5 = 50$."
   ]
  },
  {
   "cell_type": "markdown",
   "metadata": {
    "slideshow": {
     "slide_type": "subslide"
    }
   },
   "source": [
    "# Operation Costs: Convolution\n",
    "\n",
    "* **2 convs are better than 1**\n",
    "\n",
    "    Convolution is *associative*: $ f \\otimes (g \\otimes h) = (f \\otimes g) \\otimes h $\n",
    "* Instead of 5x5 conv layer, use 2 3x3 layers: 18 instead of 25 operations\n",
    "* Consideration in 3D:\n",
    "\n",
    "    $W \\times H \\times C \\times F \\times 3^2 + W \\times H \\times \\color{red}{F} \\times F \\times 3^2$\n",
    "    \n",
    "    or:\n",
    "    \n",
    "    $W \\times H \\times C \\times \\color{red}C \\times 3^2 + W \\times H \\times C \\times F \\times 3^2$"
   ]
  },
  {
   "cell_type": "markdown",
   "metadata": {
    "slideshow": {
     "slide_type": "notes"
    }
   },
   "source": [
    "What to consider is the number of output features of the first layer: if this is the same as of the original layer we broke up, and this is more than the amount of input channels (which is usually the case for encoding convolutional layers), the second layer will have more input features and the reduction in operations can thereby be undone. Instead, the first layer can have the same number of output as input features, which achieves computational reduction, but also reduces it's expressivenes and possibly its ability to learn."
   ]
  },
  {
   "cell_type": "markdown",
   "metadata": {
    "slideshow": {
     "slide_type": "subslide"
    }
   },
   "source": [
    "# Operation Costs: Convolution\n",
    "\n",
    "* **2 convs are better than 1, act 2**\n",
    "\n",
    "    Convolution as *matrix product*: $ f \\otimes (g \\times h) = f \\otimes (g \\otimes h) $"
   ]
  },
  {
   "cell_type": "markdown",
   "metadata": {
    "slideshow": {
     "slide_type": "notes"
    }
   },
   "source": [
    "Besides breaking up a convolution into separate convolutions, it can also be broken up into a matrix product of two lower order tensors. For instance, the famous Sobel edge detection kernel can be broken up into a column and a row vector, and convolving an image with these two in series has the same result as convolving with the original kernel in one go, while again using fewer operations per pixel: $2 \\times 3 = 6$ instead of $3 \\times 3 = 9$."
   ]
  },
  {
   "cell_type": "code",
   "execution_count": 13,
   "metadata": {
    "ExecuteTime": {
     "end_time": "2018-05-03T10:29:45.272428Z",
     "start_time": "2018-05-03T10:29:45.265146Z"
    },
    "slideshow": {
     "slide_type": "skip"
    }
   },
   "outputs": [],
   "source": [
    "import tabletext\n",
    "\n",
    "def print_ar(ar):\n",
    "    print(tabletext.to_text(ar))"
   ]
  },
  {
   "cell_type": "code",
   "execution_count": 16,
   "metadata": {
    "ExecuteTime": {
     "end_time": "2018-05-03T10:31:07.533958Z",
     "start_time": "2018-05-03T10:31:07.526649Z"
    },
    "slideshow": {
     "slide_type": "-"
    }
   },
   "outputs": [
    {
     "name": "stdout",
     "output_type": "stream",
     "text": [
      "Convolution:\n",
      "┌───┬───┬────┐\n",
      "│ 1 │ 0 │ -1 │\n",
      "├───┼───┼────┤\n",
      "│ 2 │ 0 │ -2 │\n",
      "├───┼───┼────┤\n",
      "│ 1 │ 0 │ -1 │\n",
      "└───┴───┴────┘\n",
      "Matrix multiplication:\n",
      "┌───┬───┬────┐\n",
      "│ 1 │ 0 │ -1 │\n",
      "├───┼───┼────┤\n",
      "│ 2 │ 0 │ -2 │\n",
      "├───┼───┼────┤\n",
      "│ 1 │ 0 │ -1 │\n",
      "└───┴───┴────┘\n"
     ]
    }
   ],
   "source": [
    "row_vec = [[1, 0, -1]]\n",
    "col_vec = [[1], [2], [1]]\n",
    "print('Convolution:'); print_ar( convolve2d(col_vec, row_vec) )\n",
    "print('Matrix multiplication:'); print_ar( np.outer(col_vec, row_vec) );"
   ]
  },
  {
   "cell_type": "markdown",
   "metadata": {
    "slideshow": {
     "slide_type": "subslide"
    }
   },
   "source": [
    "# Operation Costs: Convolution\n",
    "\n",
    "* **2 convs are better than 1, act 2**\n",
    "\n",
    "    Convolution as *matrix product*: $ f \\otimes (g \\times h) = f \\otimes (g \\otimes h) $\n",
    "    \n",
    "* Depthwise separable: break down 3D in first 2D, then depth\n",
    "\n",
    "<center><table style=\"border: 0px;\"><tr style=\"border: 0px;\">\n",
    "    <td  style=\"border: 0px;\"><img src=\"figs/depthwise-convolution1.png\" width=\"60%\"></td>\n",
    "    <td style=\"border: 0px;\"><img src=\"figs/depthwise-convolution2.png\" width=\"60%\"></td></tr></table></center>\n",
    "\n",
    "<small>Source: <a href=\"http://machinethink.net/blog/googles-mobile-net-architecture-on-iphone/\">MachineThink</a></small>"
   ]
  },
  {
   "cell_type": "markdown",
   "metadata": {
    "slideshow": {
     "slide_type": "notes"
    }
   },
   "source": [
    "In CNNs where 3D convolutions are used this corresponds to breaking up a convolution into a 2D convolution followed by a 1D depthwise convolution step."
   ]
  },
  {
   "cell_type": "markdown",
   "metadata": {
    "slideshow": {
     "slide_type": "subslide"
    }
   },
   "source": [
    "# Operation Costs: Convolution\n",
    "\n",
    "\n",
    "* **2 convs are better than 1, act 2**\n",
    "\n",
    "    Convolution as *matrix product*: $ f \\otimes (g \\times h) = f \\otimes (g \\otimes h) $\n",
    "\n",
    "    <img src=\"figs/mobilenet_v1.png\" style=\"float: right\" width=\"30%\">\n",
    "\n",
    "* Cost, instead of:\n",
    "\n",
    "    $W \\times H \\times C \\times F \\times N^2$\n",
    "    \n",
    "    now:\n",
    "    \n",
    "    $W \\times H \\times C \\times N^2 + W \\times H \\times C \\times F $\n",
    "    \n",
    "    reduction: $\\color{red}{1 / F + 1 / N^2} $"
   ]
  },
  {
   "cell_type": "markdown",
   "metadata": {
    "slideshow": {
     "slide_type": "slide"
    }
   },
   "source": [
    "# Operation Costs: Fully Connected Layers\n",
    "\n",
    "* Used in: classification, object detection, reinforcement learning\n",
    "* Flatten full image/feature map into 1D array\n",
    "* Cost:\n",
    "\n",
    "    $W \\times H \\times C \\times M$\n",
    "    \n",
    "    but commonly: $M > W \\times H \\times C$\n",
    "* Downsides:\n",
    "\n",
    "    * Bulk of computation in shallower networks\n",
    "    * Loss of spatial structure\n",
    "    * Fixes network input sizes"
   ]
  },
  {
   "cell_type": "markdown",
   "metadata": {
    "slideshow": {
     "slide_type": "slide"
    }
   },
   "source": [
    "# More Ideas: ResNet Bottleneck\n",
    "\n",
    "<center><img src=\"figs/bottleneck.jpg\"></center>\n",
    "\n",
    "* Reduce number of features before doing 2D convolution\n",
    "* Nr parameters no bottleneck: ~600K , with: ~70K\n",
    "* Number of operations may still be similar/more"
   ]
  },
  {
   "cell_type": "markdown",
   "metadata": {
    "slideshow": {
     "slide_type": "subslide"
    }
   },
   "source": [
    "# More Ideas: Discretisation\n",
    "\n",
    "* Rather than floating point, use integers\n",
    "* XNOR-net (runtime), DoReFa (runtime + training)\n",
    "* Opportunity for highly optimised integer operations\n",
    "* But: some required operations not native on all platforms"
   ]
  },
  {
   "cell_type": "markdown",
   "metadata": {
    "slideshow": {
     "slide_type": "slide"
    }
   },
   "source": [
    "# Exercise 2\n",
    "\n",
    "## End-to-End SDC Network\n",
    "\n",
    "<br><br>\n",
    "<center>\n",
    "    <span style=\"font-size: 300%\"><a href=\"https://tinyurl.com/sdtd-dl-2\">https://tinyurl.com/sdtd-dl-2</a></span>\n",
    "</center>"
   ]
  },
  {
   "cell_type": "markdown",
   "metadata": {
    "slideshow": {
     "slide_type": "slide"
    }
   },
   "source": [
    "# Analyse and Optimise Post-Training\n",
    "\n",
    "Several tools informing you about your network; focussing on TensorFlow:\n",
    "\n",
    "* TensorBoard: network layout\n",
    "* Keras: network architecture, number of parameters\n",
    "* TensorFlow C++ tools:\n",
    "\n",
    "    * Describe graph\n",
    "    * Benchmark model\n",
    "\n",
    "* XLA\n",
    "* TensorRT"
   ]
  },
  {
   "cell_type": "markdown",
   "metadata": {
    "slideshow": {
     "slide_type": "subslide"
    }
   },
   "source": [
    "# TensorFlow C++ Tools: Benchmark\n",
    "\n",
    "* Git clone, install/build Bazel, build tools...\n",
    "* Bit easier: using Makefile[1]"
   ]
  },
  {
   "cell_type": "code",
   "execution_count": null,
   "metadata": {},
   "outputs": [],
   "source": [
    "%bash\n",
    "cd $HOME/repos && git clone https://github.com/tensorflow/tensorflow\n",
    "cd tensorflow\n",
    "tensorflow/contrib/makefile/download_dependencies.sh\n",
    "tensorflow/contrib/makefile/build_all_linux.sh"
   ]
  },
  {
   "cell_type": "code",
   "execution_count": 31,
   "metadata": {
    "ExecuteTime": {
     "end_time": "2018-05-03T13:45:15.017047Z",
     "start_time": "2018-05-03T13:44:54.020555Z"
    },
    "slideshow": {
     "slide_type": "-"
    }
   },
   "outputs": [],
   "source": [
    "%%bash\n",
    "export LD_LIBRARY_PATH=$HOME/repos/tensorflow/tensorflow/contrib/makefile/gen/protobuf/lib/\n",
    "$HOME/repos/tensorflow/tensorflow/contrib/makefile/gen/bin/benchmark \\\n",
    "  --graph=$HOME/graphs/inception/tensorflow_inception_graph.pb \\\n",
    "  --input_layer=\"input\" --input_layer_shape=\"1,224,224,3\" --input_layer_type=\"float\" --output_layer=\"output\" \\\n",
    "  --show_flops=true \\\n",
    " 2>&1 >/dev/null | cut -f 5- -d ' ' > benchmark1.out.txt"
   ]
  },
  {
   "cell_type": "markdown",
   "metadata": {},
   "source": [
    "<small>[1] https://github.com/tensorflow/tensorflow/tree/master/tensorflow/contrib/makefile</small>"
   ]
  },
  {
   "cell_type": "markdown",
   "metadata": {
    "ExecuteTime": {
     "end_time": "2018-05-03T13:31:22.097871Z",
     "start_time": "2018-05-03T13:31:22.091387Z"
    }
   },
   "source": [
    "<a href=\"benchmark1.out.txt\">Result</a>"
   ]
  },
  {
   "cell_type": "markdown",
   "metadata": {
    "slideshow": {
     "slide_type": "slide"
    }
   },
   "source": [
    "# TensorFlow C++ Tools: Optimise\n",
    "\n",
    "* `transform_graph`[1] - need Bazel after all.."
   ]
  },
  {
   "cell_type": "code",
   "execution_count": 36,
   "metadata": {
    "ExecuteTime": {
     "end_time": "2018-05-03T14:29:06.637818Z",
     "start_time": "2018-05-03T14:29:05.702550Z"
    }
   },
   "outputs": [],
   "source": [
    "%%bash\n",
    "cd $HOME/repos/tensorflow\n",
    "bazel build tensorflow/tensorflow/tools/graph_transforms:transform_graph &>/dev/null\n",
    "bazel-bin/tensorflow/tools/graph_transforms/transform_graph \\\n",
    "--in_graph=$HOME/graphs/inception/tensorflow_inception_graph.pb \\\n",
    "--out_graph=$HOME/graphs/inception/optimized_inception_graph.pb \\\n",
    "--inputs='input' \\\n",
    "--outputs='output' \\\n",
    "--transforms='\n",
    "  strip_unused_nodes(type=float, shape=\"1,224,224,3\")\n",
    "  remove_nodes(op=Identity, op=CheckNumerics)\n",
    "  fold_constants(ignore_errors=true)\n",
    "  fold_batch_norms\n",
    "  fold_old_batch_norms' &>/dev/null"
   ]
  },
  {
   "cell_type": "markdown",
   "metadata": {},
   "source": [
    "<small>[1] https://github.com/tensorflow/tensorflow/tree/master/tensorflow/tools/graph_transforms</small>"
   ]
  },
  {
   "cell_type": "markdown",
   "metadata": {
    "slideshow": {
     "slide_type": "slide"
    }
   },
   "source": [
    "# TensorFlow C++ Tools: Optimise"
   ]
  },
  {
   "cell_type": "code",
   "execution_count": 37,
   "metadata": {
    "ExecuteTime": {
     "end_time": "2018-05-03T14:30:27.946070Z",
     "start_time": "2018-05-03T14:30:06.970410Z"
    },
    "slideshow": {
     "slide_type": "-"
    }
   },
   "outputs": [
    {
     "name": "stdout",
     "output_type": "stream",
     "text": [
      "FLOPs estimate: 3.19B\n",
      "FLOPs/second: 289.48B\n"
     ]
    }
   ],
   "source": [
    "%%bash\n",
    "export LD_LIBRARY_PATH=$HOME/repos/tensorflow/tensorflow/contrib/makefile/gen/protobuf/lib/\n",
    "$HOME/repos/tensorflow/tensorflow/contrib/makefile/gen/bin/benchmark \\\n",
    "  --graph=$HOME/graphs/inception/tensorflow_inception_graph.pb \\\n",
    "  --input_layer=\"input\" --input_layer_shape=\"1,224,224,3\" --input_layer_type=\"float\" --output_layer=\"output\" \\\n",
    "  --show_flops=true \\\n",
    " 2>&1 >/dev/null | cut -f 5- -d ' ' | tail -n 2"
   ]
  },
  {
   "cell_type": "code",
   "execution_count": 38,
   "metadata": {
    "ExecuteTime": {
     "end_time": "2018-05-03T14:31:34.107846Z",
     "start_time": "2018-05-03T14:31:13.425873Z"
    },
    "slideshow": {
     "slide_type": "-"
    }
   },
   "outputs": [
    {
     "name": "stdout",
     "output_type": "stream",
     "text": [
      "FLOPs estimate: 1.97B\n",
      "FLOPs/second: 178.61B\n"
     ]
    }
   ],
   "source": [
    "%%bash\n",
    "export LD_LIBRARY_PATH=$HOME/repos/tensorflow/tensorflow/contrib/makefile/gen/protobuf/lib/\n",
    "$HOME/repos/tensorflow/tensorflow/contrib/makefile/gen/bin/benchmark \\\n",
    "  --graph=$HOME/graphs/inception/optimized_inception_graph.pb \\\n",
    "  --input_layer=\"input:0\" --input_layer_shape=\"1,224,224,3\" --input_layer_type=\"float\" --output_layer=\"output:0\" \\\n",
    "  --show_flops=true \\\n",
    " 2>&1 >/dev/null | cut -f 5- -d ' ' | tail -n 2"
   ]
  },
  {
   "cell_type": "markdown",
   "metadata": {
    "slideshow": {
     "slide_type": "slide"
    }
   },
   "source": [
    "# TensorFlow XLA - Accelerated Linear Algebra\n",
    "\n",
    " * Domain-specific compiler for linear algebra\n",
    " * Optimizes TensorFlow computations\n",
    " * Results: improvements in speed, memory usage, portability\n",
    " \n",
    "<center><img src=\"figs/xla-warning.png\"></center>\n",
    "\n",
    "<small>Source: https://www.tensorflow.org/performance/xla/</small>"
   ]
  },
  {
   "cell_type": "markdown",
   "metadata": {
    "slideshow": {
     "slide_type": "subslide"
    }
   },
   "source": [
    "# Nvidia TensorRT\n",
    "\n",
    "<center><img src=\"figs/tensorrt.png\"></center>\n",
    "\n",
    "<small>Source: https://developer.nvidia.com/tensorrt</small>"
   ]
  },
  {
   "cell_type": "markdown",
   "metadata": {
    "slideshow": {
     "slide_type": "slide"
    }
   },
   "source": [
    "# How Many FLOPs Does it Take?\n",
    "\n",
    "* FLOPs of your hardware, divided by...\n",
    "* Number of cameras, divided by...\n",
    "* Frame rate, times...\n",
    "* Ratio to leave room for other things that need to be done\n",
    "\n",
    "<img src=\"figs/scenarios.png\">"
   ]
  },
  {
   "cell_type": "markdown",
   "metadata": {
    "slideshow": {
     "slide_type": "slide"
    }
   },
   "source": [
    "# Conclusions\n",
    "\n",
    "* Think about most fitting/cheapest model class\n",
    "* Break up operations (*convolution*) to reduce costs\n",
    "* Benchmark your model\n",
    "* Smaller is not necessarily faster, larger not necessarily better\n",
    "* Use optimisation/productionisation tools\n",
    "* **Test, test, test**\n",
    "\n",
    "Notebook + slides on my GitHub:\n",
    "\n",
    "### https://github.com/sgvandijk/notebooks"
   ]
  },
  {
   "cell_type": "markdown",
   "metadata": {
    "ExecuteTime": {
     "end_time": "2018-05-03T15:16:47.391645Z",
     "start_time": "2018-05-03T15:16:47.386663Z"
    },
    "slideshow": {
     "slide_type": "slide"
    }
   },
   "source": [
    "# GTC Europe: Early Bird Ends Today\n",
    "\n",
    "<img src=\"figs/gtc.jpg\">\n",
    "\n",
    "<small>https://www.nvidia.com/en-eu/gtc/</small>"
   ]
  }
 ],
 "metadata": {
  "celltoolbar": "Slideshow",
  "kernelspec": {
   "display_name": "Python 3",
   "language": "python",
   "name": "python3"
  },
  "language_info": {
   "codemirror_mode": {
    "name": "ipython",
    "version": 3
   },
   "file_extension": ".py",
   "mimetype": "text/x-python",
   "name": "python",
   "nbconvert_exporter": "python",
   "pygments_lexer": "ipython3",
   "version": "3.6.5"
  },
  "toc": {
   "colors": {
    "hover_highlight": "#DAA520",
    "running_highlight": "#FF0000",
    "selected_highlight": "#FFD700"
   },
   "moveMenuLeft": true,
   "nav_menu": {
    "height": "63px",
    "width": "252px"
   },
   "navigate_menu": true,
   "number_sections": true,
   "sideBar": true,
   "skip_h1_title": false,
   "threshold": 4,
   "toc_cell": false,
   "toc_position": {},
   "toc_section_display": "block",
   "toc_window_display": true,
   "widenNotebook": false
  }
 },
 "nbformat": 4,
 "nbformat_minor": 2
}
